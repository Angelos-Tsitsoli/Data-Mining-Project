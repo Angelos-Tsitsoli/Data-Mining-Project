{
  "cells": [
    {
      "cell_type": "code",
      "execution_count": 1,
      "metadata": {
        "colab": {
          "base_uri": "https://localhost:8080/"
        },
        "id": "15UBm-6Aw6xZ",
        "outputId": "1dcd7771-0065-4bb5-dc92-51e780815c49"
      },
      "outputs": [
        {
          "output_type": "stream",
          "name": "stdout",
          "text": [
            "Mounted at /content/drive\n"
          ]
        }
      ],
      "source": [
        "from google.colab import drive\n",
        "drive.mount('/content/drive')"
      ]
    },
    {
      "cell_type": "code",
      "execution_count": 2,
      "metadata": {
        "colab": {
          "base_uri": "https://localhost:8080/"
        },
        "id": "eFMwBAalw--t",
        "outputId": "aaa9bf9d-273b-4d75-ef8f-5dbd6303ed2e"
      },
      "outputs": [
        {
          "output_type": "stream",
          "name": "stdout",
          "text": [
            "Requirement already satisfied: transformers in /usr/local/lib/python3.10/dist-packages (4.41.2)\n",
            "Requirement already satisfied: filelock in /usr/local/lib/python3.10/dist-packages (from transformers) (3.14.0)\n",
            "Requirement already satisfied: huggingface-hub<1.0,>=0.23.0 in /usr/local/lib/python3.10/dist-packages (from transformers) (0.23.3)\n",
            "Requirement already satisfied: numpy>=1.17 in /usr/local/lib/python3.10/dist-packages (from transformers) (1.25.2)\n",
            "Requirement already satisfied: packaging>=20.0 in /usr/local/lib/python3.10/dist-packages (from transformers) (24.1)\n",
            "Requirement already satisfied: pyyaml>=5.1 in /usr/local/lib/python3.10/dist-packages (from transformers) (6.0.1)\n",
            "Requirement already satisfied: regex!=2019.12.17 in /usr/local/lib/python3.10/dist-packages (from transformers) (2024.5.15)\n",
            "Requirement already satisfied: requests in /usr/local/lib/python3.10/dist-packages (from transformers) (2.31.0)\n",
            "Requirement already satisfied: tokenizers<0.20,>=0.19 in /usr/local/lib/python3.10/dist-packages (from transformers) (0.19.1)\n",
            "Requirement already satisfied: safetensors>=0.4.1 in /usr/local/lib/python3.10/dist-packages (from transformers) (0.4.3)\n",
            "Requirement already satisfied: tqdm>=4.27 in /usr/local/lib/python3.10/dist-packages (from transformers) (4.66.4)\n",
            "Requirement already satisfied: fsspec>=2023.5.0 in /usr/local/lib/python3.10/dist-packages (from huggingface-hub<1.0,>=0.23.0->transformers) (2023.6.0)\n",
            "Requirement already satisfied: typing-extensions>=3.7.4.3 in /usr/local/lib/python3.10/dist-packages (from huggingface-hub<1.0,>=0.23.0->transformers) (4.12.2)\n",
            "Requirement already satisfied: charset-normalizer<4,>=2 in /usr/local/lib/python3.10/dist-packages (from requests->transformers) (3.3.2)\n",
            "Requirement already satisfied: idna<4,>=2.5 in /usr/local/lib/python3.10/dist-packages (from requests->transformers) (3.7)\n",
            "Requirement already satisfied: urllib3<3,>=1.21.1 in /usr/local/lib/python3.10/dist-packages (from requests->transformers) (2.0.7)\n",
            "Requirement already satisfied: certifi>=2017.4.17 in /usr/local/lib/python3.10/dist-packages (from requests->transformers) (2024.6.2)\n",
            "Collecting langdetect\n",
            "  Downloading langdetect-1.0.9.tar.gz (981 kB)\n",
            "\u001b[2K     \u001b[90m━━━━━━━━━━━━━━━━━━━━━━━━━━━━━━━━━━━━━━━━\u001b[0m \u001b[32m981.5/981.5 kB\u001b[0m \u001b[31m4.7 MB/s\u001b[0m eta \u001b[36m0:00:00\u001b[0m\n",
            "\u001b[?25h  Preparing metadata (setup.py) ... \u001b[?25l\u001b[?25hdone\n",
            "Requirement already satisfied: six in /usr/local/lib/python3.10/dist-packages (from langdetect) (1.16.0)\n",
            "Building wheels for collected packages: langdetect\n",
            "  Building wheel for langdetect (setup.py) ... \u001b[?25l\u001b[?25hdone\n",
            "  Created wheel for langdetect: filename=langdetect-1.0.9-py3-none-any.whl size=993227 sha256=98e3ba89284a85ae5bd33d3e94afb127e67bfbccabbaf737fb319edaa9df0923\n",
            "  Stored in directory: /root/.cache/pip/wheels/95/03/7d/59ea870c70ce4e5a370638b5462a7711ab78fba2f655d05106\n",
            "Successfully built langdetect\n",
            "Installing collected packages: langdetect\n",
            "Successfully installed langdetect-1.0.9\n"
          ]
        }
      ],
      "source": [
        "import pandas as pd\n",
        "import numpy as np\n",
        "import sys\n",
        "import string\n",
        "import nltk\n",
        "import os\n",
        "import glob\n",
        "import pickle\n",
        "import matplotlib.pyplot as plt\n",
        "from matplotlib import colors\n",
        "import seaborn as sns\n",
        "from nltk.corpus import stopwords\n",
        "from nltk.stem import WordNetLemmatizer\n",
        "from nltk.tokenize import word_tokenize\n",
        "!pip install transformers\n",
        "import transformers\n",
        "from transformers import pipeline\n",
        "!pip install langdetect\n",
        "from langdetect import detect\n",
        "from gensim.models import Word2Vec\n",
        "from sklearn.feature_extraction.text import TfidfVectorizer\n",
        "from sklearn.svm import SVC\n",
        "from sklearn.preprocessing import LabelEncoder\n",
        "from sklearn import svm\n",
        "from sklearn.model_selection import train_test_split, cross_val_score, StratifiedKFold\n",
        "from sklearn.metrics import accuracy_score, precision_score, recall_score, f1_score, confusion_matrix, make_scorer\n",
        "from sklearn.ensemble import RandomForestClassifier\n",
        "from sklearn.neighbors import KNeighborsClassifier\n",
        "from scipy.spatial.distance import cosine\n",
        "from sklearn.metrics.pairwise import cosine_similarity\n",
        "from collections import Counter\n",
        "from sklearn.metrics.pairwise import cosine_similarity as sklearn_cosine_similarity"
      ]
    },
    {
      "cell_type": "markdown",
      "metadata": {
        "id": "wqBKabPOxNNI"
      },
      "source": [
        "#[2019]\n",
        "---"
      ]
    },
    {
      "cell_type": "markdown",
      "metadata": {
        "id": "w2SuuDS_aBQ3"
      },
      "source": [
        "#QUESTION 1"
      ]
    },
    {
      "cell_type": "code",
      "execution_count": 3,
      "metadata": {
        "colab": {
          "base_uri": "https://localhost:8080/"
        },
        "id": "yH8elHxPxKg0",
        "outputId": "7ffeaa3f-ede8-4532-e7f5-e437a37dffd4"
      },
      "outputs": [
        {
          "output_type": "stream",
          "name": "stderr",
          "text": [
            "[nltk_data] Downloading package stopwords to /root/nltk_data...\n",
            "[nltk_data]   Unzipping corpora/stopwords.zip.\n",
            "[nltk_data] Downloading package wordnet to /root/nltk_data...\n",
            "[nltk_data] Downloading package punkt to /root/nltk_data...\n",
            "[nltk_data]   Unzipping tokenizers/punkt.zip.\n"
          ]
        }
      ],
      "source": [
        "nltk.download('stopwords')\n",
        "stop_words = set(stopwords.words('english'))\n",
        "nltk.download('wordnet')\n",
        "lemmatizer = WordNetLemmatizer()\n",
        "nltk.download('punkt')\n",
        "\n",
        "# Function to detect language\n",
        "def detect_language(text):\n",
        "    try:\n",
        "        return detect(text)\n",
        "    except:\n",
        "        return None\n",
        "\n",
        "def remove_punctuation(input_string):\n",
        "   # Make a translator object that will replace all punctuation with a space\n",
        "    translator = str.maketrans(string.punctuation, ' '*len(string.punctuation))\n",
        "\n",
        "    # Use the translator object to remove punctuation from the input string\n",
        "    no_punct = input_string.translate(translator)\n",
        "    return no_punct\n",
        "\n",
        "def remove_stopwords(input_string):\n",
        "    if not isinstance(input_string, str):\n",
        "        input_string = ' '.join(input_string)\n",
        "    tokens = input_string.split()\n",
        "    no_stop = [word for word in tokens if not word in stop_words]\n",
        "    return ' '.join(no_stop)\n",
        "\n",
        "def lemmatize_words(input_string):\n",
        "    tokens = input_string.split()\n",
        "    lemmatized = [lemmatizer.lemmatize(word) for word in tokens]\n",
        "    return ' '.join(lemmatized)"
      ]
    },
    {
      "cell_type": "markdown",
      "metadata": {
        "id": "WQT2lswzeYEK"
      },
      "source": [
        "\n",
        "\n",
        "```\n",
        "Preprocessing the reviews file\n",
        "```\n",
        "\n"
      ]
    },
    {
      "cell_type": "code",
      "execution_count": 4,
      "metadata": {
        "id": "VHddNq_WxXxh"
      },
      "outputs": [],
      "source": [
        "# give the file paths\n",
        "reviews_path_febrouary = '/content/drive/MyDrive/ΤΕΔΕ/2019/febrouary/reviews.csv'\n",
        "reviews_path_march = '/content/drive/MyDrive/ΤΕΔΕ/2019/march/reviews.csv'\n",
        "reviews_path_april = '/content/drive/MyDrive/ΤΕΔΕ/2019/april/reviews.csv'\n",
        "\n",
        "os.makedirs('2019', exist_ok=True)\n",
        "\n",
        "# select the columns that we want to use for the results\n",
        "columns_to_select = ['listing_id', 'id', 'date', 'reviewer_id', 'reviewer_name', 'comments' ]\n",
        "\n",
        "# Read the CSV files into dataframes\n",
        "df_reviews_febrouary = pd.read_csv(reviews_path_febrouary, usecols=columns_to_select)\n",
        "df_reviews_march = pd.read_csv(reviews_path_march, usecols=columns_to_select)\n",
        "df_reviews_april = pd.read_csv(reviews_path_april, usecols=columns_to_select)\n",
        "\n",
        "df_reviews_febrouary  = df_reviews_febrouary.iloc[:50000]\n",
        "df_reviews_march   = df_reviews_march.iloc[:50000]\n",
        "df_reviews_april  = df_reviews_april.iloc[:50000]\n",
        "\n",
        "# Merge the data from the three months\n",
        "df_reviews = pd.concat([df_reviews_febrouary, df_reviews_march, df_reviews_april], ignore_index=True)\n",
        "\n",
        "# Convert all values in 'comments' column to string\n",
        "df_reviews['comments'] = df_reviews['comments'].astype(str)\n",
        "\n",
        "# Decapitalize the text\n",
        "df_reviews['comments'] = df_reviews['comments'].str.lower()\n",
        "\n",
        "df_reviews['comments'] = df_reviews['comments'].replace(r'[^\\w\\s,]', ' ', regex=True)\n",
        "#remove punctuation\n",
        "df_reviews['comments'] = df_reviews['comments'].apply(remove_punctuation)\n",
        "# Convert all values in 'comments' column to string and remove non-ASCII characters\n",
        "df_reviews['comments'] = df_reviews['comments'].astype(str).apply(lambda x: x.encode(\"ascii\", \"ignore\").decode())\n",
        "# Tokenization\n",
        "df_reviews['comments'] = df_reviews['comments'].apply(lambda x: x.split())\n",
        "# Drop rows where 'comments' column only contains one word\n",
        "df_reviews = df_reviews[df_reviews['comments'].apply(lambda x: len(x) > 1)]\n",
        "#remove stopwords\n",
        "df_reviews['comments'] = df_reviews['comments'].apply(remove_stopwords)\n",
        "#lemmatization\n",
        "df_reviews['comments'] = df_reviews['comments'].apply(lemmatize_words)\n",
        "\n",
        "#drop non words\n",
        "df_reviews = df_reviews[df_reviews['comments'].str.contains(r'[a-zA-Z]', na=False)]\n",
        "\n",
        "# Drop rows where 'listing_id' column doesn't contain a number made from the digits 1-9\n",
        "df_reviews = df_reviews[df_reviews['listing_id'].astype(str).str.contains(r'^[1-9]+$', na=False)]\n",
        "\n",
        "\n",
        "# Load the positive and negative words\n",
        "with open('/content/drive/MyDrive/TEDE/positive_words.txt', 'r') as f:\n",
        "    positive_words = set(f.read().splitlines())\n",
        "with open('/content/drive/MyDrive/TEDE/negative_words.txt', 'r') as f:\n",
        "    negative_words = set(f.read().splitlines())\n",
        "\n",
        "# Create empty lists for positive, negative, and neutral comments\n",
        "positive_rows = []\n",
        "negative_rows = []\n",
        "neutral_rows = []\n",
        "\n",
        "# Iterate over each row in the DataFrame\n",
        "for index, row in df_reviews.iterrows():\n",
        "    comment_words = set(row['comments'].split())\n",
        "    if comment_words & positive_words:\n",
        "\n",
        "        positive_rows.append(row.to_dict())\n",
        "    elif comment_words & negative_words:\n",
        "\n",
        "        negative_rows.append(row.to_dict())\n",
        "    else:\n",
        "        neutral_rows.append(row.to_dict())\n",
        "\n",
        "# Create DataFrames from the lists of dictionaries\n",
        "positive_df = pd.DataFrame(positive_rows)\n",
        "positive_df = positive_df.iloc[:1000]\n",
        "\n",
        "negative_df = pd.DataFrame(negative_rows)\n",
        "negative_df = negative_df.iloc[:2000]\n",
        "\n",
        "neutral_df = pd.DataFrame(neutral_rows)\n",
        "neutral_df = neutral_df.iloc[:6000]\n",
        "\n",
        "df_reviews = pd.concat([positive_df, negative_df, neutral_df], ignore_index=True)\n",
        "\n",
        "df_reviews = df_reviews.iloc[:9000]\n",
        "\n",
        "# Apply the function to the 'comments' column\n",
        "df_reviews['language'] = df_reviews['comments'].apply(detect_language)\n",
        "\n",
        "# Filter out rows where language is not English\n",
        "df_reviews = df_reviews[df_reviews['language'] == 'en']\n",
        "\n",
        "# Drop rows where 'comments' column is empty or contains only whitespace\n",
        "df_reviews = df_reviews[df_reviews['comments'].str.strip().astype(bool)]\n",
        "\n",
        "# Drop the 'language' column\n",
        "df_reviews = df_reviews.drop(columns=['language'])\n",
        "\n",
        "# create the output file\n",
        "df_reviews.to_csv(f'2019/reviews_output_2019.csv', index=False)"
      ]
    },
    {
      "cell_type": "markdown",
      "metadata": {
        "id": "0syhiYlQRznh"
      },
      "source": [
        "\n",
        "\n",
        "```\n",
        "Create the test.tsv and the train.tsv\n",
        "```\n",
        "\n"
      ]
    },
    {
      "cell_type": "code",
      "execution_count": 5,
      "metadata": {
        "id": "Fry4VymgRv-_"
      },
      "outputs": [],
      "source": [
        "# Load your data\n",
        "df = pd.read_csv('2019/reviews_output_2019.csv', sep='\\t')\n",
        "\n",
        "# Split your data\n",
        "test_df, train_df = train_test_split(df, test_size=0.8, random_state=42)\n",
        "\n",
        "# Write the split data to new TSV files\n",
        "train_df.to_csv('2019/train_2019.tsv', sep='\\t', index=False)\n",
        "test_df.to_csv('2019/test_2019.tsv', sep='\\t', index=False)"
      ]
    },
    {
      "cell_type": "markdown",
      "metadata": {
        "id": "E-eWANPueaQE"
      },
      "source": [
        "\n",
        "```\n",
        "Sentiment analysis\n",
        "```\n"
      ]
    },
    {
      "cell_type": "code",
      "execution_count": 6,
      "metadata": {
        "colab": {
          "base_uri": "https://localhost:8080/",
          "height": 353,
          "referenced_widgets": [
            "079a25731a824cd78d0bda2dd4561216",
            "d4097d4cdab54992a33f5588eeacac03",
            "5440f2ce75f6442b9c223ff9ec57c53d",
            "e21728bc9f4c48d8b5e436d6fa7569af",
            "b26ac7f228ec4ddb903b14f195508c34",
            "490a3c26a7a24f74957fd05735662210",
            "cb3d91621adc485aa2b967dbac1894cd",
            "99f732d0e0d643cea5b4834bcfd2032f",
            "2a8def74d71c458e901174ea6f2661ab",
            "3d2e9b9a1da04077a4f79c6817b400a6",
            "00357c528d5e4b2084da4c4675267460",
            "6b50119ea9184a2e92ae4fdbfb3e0581",
            "70fb06e28eed436898f59492d4ae2ec8",
            "96b26b7cbb84496c944599d8c585d4ef",
            "c22542bccd1c475692d9d5a6c41f838f",
            "1142d0788938453fb0b97b37c9e08799",
            "e9d1e7b8b25c4998930666796546979c",
            "95b7efa3127e4816b40a64b2f99af032",
            "facf491d4132477ca7648927403c1339",
            "b46be4f81d2f41db8a2cf8259f99aae7",
            "98da42459b2746f08c7fbe889068b74d",
            "6a398ac6999c48a6a0d13b5e7a4b5195",
            "feb8f9b6952c43fd97efeb9e72031303",
            "f6b7f1c748384c8284e78aa6993c6f7c",
            "79ac18f8f94245f4b16dd3c2a5835140",
            "2c0f8cd15e444581bc40b0e25b47b46e",
            "0e31870262ce47aaac4c77ff7ed789fb",
            "11e59b5bb4e446c48156b08cf857c833",
            "997aa00c1e4a4f2ea7875ad996763653",
            "bd248ddac4304820a6dc575a0e7adc29",
            "9ba3ea4b34a84c17885635148bd0ba95",
            "d84742edaafc4b5f871f27c8614a3719",
            "1d6ced4edb9845f0b054a7ca91e29529",
            "fe15fecb2f49427ca1461b16c25e1545",
            "d4a53ab9993a47a391b129421a64d947",
            "aa94cf17a7c946df819a35076ffdd51f",
            "38dbfb35100347ed8f488049253f6626",
            "b32bc38aa9464456adaeddc28b8ad4c1",
            "08c9a86aac554101b76c4f0d8244f824",
            "af0efe24ca034d738f960daa78c2f3b1",
            "d8b7d8eab31f461c9407217e28afab31",
            "dde0e829e85e4f4d940e021aa6220d42",
            "de6d682b147f4cdbbc80d2c46eb83503",
            "8518aa5fa17a421e96b1ce3212c5ff31",
            "cc7633ae228544b682405b484fedede2",
            "74d8a95a23aa4ec9ac0f804516389ef1",
            "c5ba5018a62549d1878beed44b100a9d",
            "eea2a4a11e4440f184cd1213cb8df840",
            "2c95aff7347f4224869f47fa5f2326dc",
            "c4436ae779a9404497bf4bbcac53e2ea",
            "440c5325c93046b885e7b5b4f2cdaca3",
            "6544b45540da42e3bd2179c2a316d8cd",
            "52b0f631cf884c5aa9861f6ad8ff8a46",
            "25ae4ed46d884125a13718a40556e712",
            "ced4ca997c354113afed7d786a8513d5"
          ]
        },
        "id": "xIWBKaC_xiVV",
        "outputId": "9e086a18-1a36-4c5c-a1f4-59d737ad153e"
      },
      "outputs": [
        {
          "output_type": "stream",
          "name": "stderr",
          "text": [
            "/usr/local/lib/python3.10/dist-packages/huggingface_hub/utils/_token.py:89: UserWarning: \n",
            "The secret `HF_TOKEN` does not exist in your Colab secrets.\n",
            "To authenticate with the Hugging Face Hub, create a token in your settings tab (https://huggingface.co/settings/tokens), set it as secret in your Google Colab and restart your session.\n",
            "You will be able to reuse this secret in all of your notebooks.\n",
            "Please note that authentication is recommended but still optional to access public models or datasets.\n",
            "  warnings.warn(\n"
          ]
        },
        {
          "output_type": "display_data",
          "data": {
            "text/plain": [
              "config.json:   0%|          | 0.00/929 [00:00<?, ?B/s]"
            ],
            "application/vnd.jupyter.widget-view+json": {
              "version_major": 2,
              "version_minor": 0,
              "model_id": "079a25731a824cd78d0bda2dd4561216"
            }
          },
          "metadata": {}
        },
        {
          "output_type": "display_data",
          "data": {
            "text/plain": [
              "pytorch_model.bin:   0%|          | 0.00/501M [00:00<?, ?B/s]"
            ],
            "application/vnd.jupyter.widget-view+json": {
              "version_major": 2,
              "version_minor": 0,
              "model_id": "6b50119ea9184a2e92ae4fdbfb3e0581"
            }
          },
          "metadata": {}
        },
        {
          "output_type": "stream",
          "name": "stderr",
          "text": [
            "Some weights of the model checkpoint at cardiffnlp/twitter-roberta-base-sentiment-latest were not used when initializing RobertaForSequenceClassification: ['roberta.pooler.dense.bias', 'roberta.pooler.dense.weight']\n",
            "- This IS expected if you are initializing RobertaForSequenceClassification from the checkpoint of a model trained on another task or with another architecture (e.g. initializing a BertForSequenceClassification model from a BertForPreTraining model).\n",
            "- This IS NOT expected if you are initializing RobertaForSequenceClassification from the checkpoint of a model that you expect to be exactly identical (initializing a BertForSequenceClassification model from a BertForSequenceClassification model).\n"
          ]
        },
        {
          "output_type": "display_data",
          "data": {
            "text/plain": [
              "vocab.json:   0%|          | 0.00/899k [00:00<?, ?B/s]"
            ],
            "application/vnd.jupyter.widget-view+json": {
              "version_major": 2,
              "version_minor": 0,
              "model_id": "feb8f9b6952c43fd97efeb9e72031303"
            }
          },
          "metadata": {}
        },
        {
          "output_type": "display_data",
          "data": {
            "text/plain": [
              "merges.txt:   0%|          | 0.00/456k [00:00<?, ?B/s]"
            ],
            "application/vnd.jupyter.widget-view+json": {
              "version_major": 2,
              "version_minor": 0,
              "model_id": "fe15fecb2f49427ca1461b16c25e1545"
            }
          },
          "metadata": {}
        },
        {
          "output_type": "display_data",
          "data": {
            "text/plain": [
              "special_tokens_map.json:   0%|          | 0.00/239 [00:00<?, ?B/s]"
            ],
            "application/vnd.jupyter.widget-view+json": {
              "version_major": 2,
              "version_minor": 0,
              "model_id": "cc7633ae228544b682405b484fedede2"
            }
          },
          "metadata": {}
        }
      ],
      "source": [
        "# Initialize the sentiment analysis pipeline with the specified model\n",
        "sentiment_analysis = pipeline(\"sentiment-analysis\", model=\"cardiffnlp/twitter-roberta-base-sentiment-latest\")\n",
        "\n",
        "# Load the cleaned reviews\n",
        "df_reviews = pd.read_csv('2019/reviews_output_2019.csv')\n",
        "#df_reviews = df_reviews.iloc[:600]\n",
        "\n",
        "# Apply the pipeline to the 'comments' column to get the sentiment analysis results\n",
        "df_reviews['sentiment_result'] = df_reviews['comments'].apply(lambda x: sentiment_analysis(x[:512])[0])\n",
        "\n",
        "# Extract the sentiment label and score from the results\n",
        "df_reviews['sentiment_label'] = df_reviews['sentiment_result'].apply(lambda x: x['label'])\n",
        "\n",
        "# Create a new dataframe with the 'id', 'comments', and 'sentiment' columns\n",
        "df_sentiment = df_reviews[['id', 'comments', 'sentiment_label']]\n",
        "\n",
        "# Save the new dataframe to a CSV file\n",
        "df_sentiment.to_csv('2019/sentiment_output_2019.csv', index=False)"
      ]
    },
    {
      "cell_type": "code",
      "execution_count": 7,
      "metadata": {
        "colab": {
          "base_uri": "https://localhost:8080/",
          "height": 616
        },
        "id": "bP-arTkyU9N3",
        "outputId": "b28201d7-95c3-44cd-89fe-ea0823d41545"
      },
      "outputs": [
        {
          "output_type": "stream",
          "name": "stdout",
          "text": [
            "Positive: 53.89%\n",
            "Negative: 27.06%\n",
            "Neutral: 19.06%\n"
          ]
        },
        {
          "output_type": "display_data",
          "data": {
            "text/plain": [
              "<Figure size 1000x600 with 1 Axes>"
            ],
            "image/png": "[encoded data removed]"
          },
          "metadata": {}
        }
      ],
      "source": [
        "# Load the final CSV file\n",
        "df_final = pd.read_csv('2019/sentiment_output_2019.csv')\n",
        "\n",
        "# Count the number of each sentiment label\n",
        "sentiment_counts = df_final['sentiment_label'].value_counts()\n",
        "\n",
        "# Calculate the total number of sentiments\n",
        "total_sentiments = sentiment_counts.sum()\n",
        "\n",
        "# Calculate the percentage of each sentiment\n",
        "sentiment_percentages = sentiment_counts / total_sentiments * 100\n",
        "\n",
        "# Print the percentages\n",
        "print(f\"Positive: {sentiment_percentages['positive']:.2f}%\")\n",
        "print(f\"Negative: {sentiment_percentages['negative']:.2f}%\")\n",
        "print(f\"Neutral: {sentiment_percentages['neutral']:.2f}%\")\n",
        "\n",
        "# Create a bar plot of the sentiment counts\n",
        "plt.figure(figsize=(10, 6))\n",
        "plt.bar(sentiment_counts.index, sentiment_counts.values, color=['green', 'red', 'blue'])\n",
        "plt.xlabel('Sentiment')\n",
        "plt.ylabel('Count')\n",
        "plt.title('Sentiment Analysis Results')\n",
        "plt.show()\n"
      ]
    },
    {
      "cell_type": "markdown",
      "metadata": {
        "id": "n61uglvjIcQb"
      },
      "source": [
        "#QUESTION 2"
      ]
    },
    {
      "cell_type": "code",
      "source": [
        "# Initialize the sentiment analysis pipeline with the specified model\n",
        "sentiment_analysis = pipeline(\"sentiment-analysis\", model=\"cardiffnlp/twitter-roberta-base-sentiment-latest\")\n",
        "\n",
        "# Load the cleaned reviews\n",
        "train_df = pd.read_csv('2019/train_2019.tsv', sep=',')\n",
        "#df_reviews = df_reviews.iloc[:600]\n",
        "\n",
        "# Apply the pipeline to the 'comments' column to get the sentiment analysis results\n",
        "train_df['sentiment_result'] = train_df['comments'].apply(lambda x: sentiment_analysis(x[:512])[0])\n",
        "\n",
        "# Extract the sentiment label and score from the results\n",
        "train_df['sentiment_label'] = train_df['sentiment_result'].apply(lambda x: x['label'])\n",
        "\n",
        "# Create a new dataframe with the 'id', 'comments', and 'sentiment' columns\n",
        "df_sentiment = df_reviews[['id', 'comments', 'sentiment_label']]\n",
        "\n",
        "# Save the new dataframe to a CSV file\n",
        "df_sentiment.to_csv('2019/train_2019.tsv', index=False)"
      ],
      "metadata": {
        "colab": {
          "base_uri": "https://localhost:8080/"
        },
        "id": "fJ0p3q3DwJFd",
        "outputId": "5f0a7317-8cc5-4b84-9879-3fe342838739"
      },
      "execution_count": 8,
      "outputs": [
        {
          "output_type": "stream",
          "name": "stderr",
          "text": [
            "Some weights of the model checkpoint at cardiffnlp/twitter-roberta-base-sentiment-latest were not used when initializing RobertaForSequenceClassification: ['roberta.pooler.dense.bias', 'roberta.pooler.dense.weight']\n",
            "- This IS expected if you are initializing RobertaForSequenceClassification from the checkpoint of a model trained on another task or with another architecture (e.g. initializing a BertForSequenceClassification model from a BertForPreTraining model).\n",
            "- This IS NOT expected if you are initializing RobertaForSequenceClassification from the checkpoint of a model that you expect to be exactly identical (initializing a BertForSequenceClassification model from a BertForSequenceClassification model).\n"
          ]
        }
      ]
    },
    {
      "cell_type": "markdown",
      "metadata": {
        "id": "oQYOnUUdU3oz"
      },
      "source": [
        "\n",
        "```\n",
        "Χρήση train.tsv για την δημιουργία TF-IDF πίνακα και Word Embeddings\n",
        "```\n"
      ]
    },
    {
      "cell_type": "code",
      "execution_count": 9,
      "metadata": {
        "id": "Jt9xFmlWIsA0"
      },
      "outputs": [],
      "source": [
        "#Creation of TF-IDF matrix from the trained data of train.tsv\n",
        "\n",
        "# Load the train.tsv file\n",
        "df_train_tf = pd.read_csv('2019/train_2019.tsv', sep=',')\n",
        "\n",
        "# Extract the 'comments' column\n",
        "comments_train = df_train_tf['comments']\n",
        "\n",
        "# Initialize a TfidfVectorizer\n",
        "vectorizer = TfidfVectorizer()\n",
        "\n",
        "# Fit and transform the 'comments' data\n",
        "tfidf_matrix_train = vectorizer.fit_transform(comments_train)\n",
        "\n",
        "# Save the TfidfVectorizer to a pickle file\n",
        "with open('2019/tfidf_vectorizer_2019.pkl', 'wb') as f:\n",
        "    pickle.dump(vectorizer, f)\n",
        "\n",
        "\n",
        "#Creation of wordembeddings from the trained data of train.tsv\n",
        "\n",
        "# Load the train.tsv file\n",
        "df_train_we = pd.read_csv('2019/train_2019.tsv', sep=',')\n",
        "\n",
        "# Extract the 'comments' column\n",
        "comments_train = df_train_we['comments']\n",
        "\n",
        "# Tokenize the 'comments' data\n",
        "tokenized_comments_train = [word_tokenize(comment) for comment in comments_train]\n",
        "\n",
        "# Initialize a Word2Vec model\n",
        "model = Word2Vec(vector_size=100, window=5, min_count=1, workers=4)\n",
        "\n",
        "# Train the Word2Vec model\n",
        "model.build_vocab(tokenized_comments_train)\n",
        "model.train(tokenized_comments_train, total_examples=model.corpus_count, epochs=model.epochs)\n",
        "\n",
        "# Save the Word2Vec model to a pickle file\n",
        "with open('2019/word2vec_model_2019.pkl', 'wb') as f:\n",
        "    pickle.dump(model, f)\n"
      ]
    },
    {
      "cell_type": "markdown",
      "metadata": {
        "id": "eb_9uUc_UIJD"
      },
      "source": [
        "#`SVM`"
      ]
    },
    {
      "cell_type": "markdown",
      "metadata": {
        "id": "fb070ZtVVMVY"
      },
      "source": [
        "\n",
        "```\n",
        "Classifier `SVM` trained by the `TF-IDF`\n",
        "\n",
        "```\n"
      ]
    },
    {
      "cell_type": "code",
      "execution_count": 10,
      "metadata": {
        "colab": {
          "base_uri": "https://localhost:8080/"
        },
        "id": "M9l0DCH2Ivz_",
        "outputId": "54773468-8f55-4ec4-e4db-502ccbef7394"
      },
      "outputs": [
        {
          "output_type": "stream",
          "name": "stdout",
          "text": [
            "Validation Accuracy: 0.9518413597733711\n"
          ]
        }
      ],
      "source": [
        "#Training the classifier with the tf-idf matrix\n",
        "\n",
        "# Extract the 'sentiment_label' column\n",
        "sentiment_labels_train = df_train_tf['sentiment_label']\n",
        "\n",
        "# Split your training data into training and validation sets\n",
        "X_train, X_val, y_train, y_val = train_test_split(tfidf_matrix_train, sentiment_labels_train, test_size=0.2, random_state=42)\n",
        "\n",
        "# Initialize the SVM classifier\n",
        "clf = svm.SVC(C=1.0, kernel='linear', gamma='scale')\n",
        "\n",
        "# Train the SVM classifier using your training data\n",
        "clf.fit(X_train, y_train)\n",
        "\n",
        "# Evaluate the classifier on your validation data\n",
        "accuracy = clf.score(X_val, y_val)\n",
        "print('Validation Accuracy:', accuracy)\n"
      ]
    },
    {
      "cell_type": "markdown",
      "metadata": {
        "id": "k9nTzvUvVSOx"
      },
      "source": [
        "\n",
        "```\n",
        "Actual labels of test.tsv\n",
        "```"
      ]
    },
    {
      "cell_type": "code",
      "execution_count": 11,
      "metadata": {
        "id": "IWrKeovUI0wx"
      },
      "outputs": [],
      "source": [
        "# Load the TSV file\n",
        "df_reviews = pd.read_csv('2019/test_2019.tsv', sep=',')\n",
        "\n",
        "# Apply the pipeline to the 'comments' column to get the sentiment analysis results\n",
        "df_reviews['sentiment_result'] = df_reviews['comments'].apply(lambda x: sentiment_analysis(x[:512])[0])\n",
        "\n",
        "# Extract the sentiment label from the results\n",
        "df_reviews['sentiment_label'] = df_reviews['sentiment_result'].apply(lambda x: x['label'])\n",
        "\n",
        "# Create a new dataframe with the 'id', 'comments', and 'sentiment' columns\n",
        "df_sentiment = df_reviews[['id', 'comments', 'sentiment_label']]\n",
        "\n",
        "# Save the new dataframe to a CSV file\n",
        "df_sentiment.to_csv('2019/sentiment_output2_2019.csv', index=False)"
      ]
    },
    {
      "cell_type": "markdown",
      "metadata": {
        "id": "XxvrQrZtVo3A"
      },
      "source": [
        "\n",
        "```\n",
        "Classifier `SVM` trained by the `Word embeddings`\n",
        "```\n"
      ]
    },
    {
      "cell_type": "code",
      "execution_count": 12,
      "metadata": {
        "colab": {
          "base_uri": "https://localhost:8080/"
        },
        "id": "F0ZrtRbyVtLf",
        "outputId": "06178c29-803b-4887-a130-26652064006c"
      },
      "outputs": [
        {
          "output_type": "stream",
          "name": "stdout",
          "text": [
            "Validation Accuracy: 0.7847025495750708\n"
          ]
        }
      ],
      "source": [
        "# Load the Word2Vec model\n",
        "with open('2019/word2vec_model_2019.pkl', 'rb') as f:\n",
        "    model = pickle.load(f)\n",
        "\n",
        "# Convert the tokenized comments into vectors\n",
        "vectorized_comments_train = [model.wv[comment] for comment in tokenized_comments_train]\n",
        "\n",
        "# Average the word vectors for each comment to get a single vector per comment\n",
        "vectorized_comments_train = [np.mean(comment, axis=0) for comment in vectorized_comments_train]\n",
        "\n",
        "# Load the train.tsv file\n",
        "df_train_we = pd.read_csv('2019/train_2019.tsv', sep=',')\n",
        "\n",
        "# Extract the 'sentiment_label' column\n",
        "sentiment_labels_train = df_train_we['sentiment_label']\n",
        "\n",
        "# Split your training data into training and validation sets\n",
        "X_train, X_val, y_train, y_val = train_test_split(vectorized_comments_train, sentiment_labels_train, test_size=0.2, random_state=42)\n",
        "\n",
        "# Initialize the SVM classifier\n",
        "clf = svm.SVC(C=1.0, kernel='linear', gamma='scale')\n",
        "\n",
        "# Train the SVM classifier using your training data\n",
        "clf.fit(X_train, y_train)\n",
        "\n",
        "# Evaluate the classifier on your validation data\n",
        "accuracy = clf.score(X_val, y_val)\n",
        "print('Validation Accuracy:', accuracy)"
      ]
    },
    {
      "cell_type": "markdown",
      "metadata": {
        "id": "LXO4ZpEnV0KN"
      },
      "source": [
        "\n",
        "```\n",
        "`10-fold Cross` Validation `Word embeddings`\n",
        "```\n"
      ]
    },
    {
      "cell_type": "code",
      "execution_count": 13,
      "metadata": {
        "colab": {
          "base_uri": "https://localhost:8080/"
        },
        "id": "G9RPGS0zV1Lt",
        "outputId": "77124058-6d01-4cd7-cefd-70bd55450df3"
      },
      "outputs": [
        {
          "output_type": "stream",
          "name": "stderr",
          "text": [
            "/usr/local/lib/python3.10/dist-packages/sklearn/metrics/_classification.py:1344: UndefinedMetricWarning: Precision is ill-defined and being set to 0.0 in labels with no predicted samples. Use `zero_division` parameter to control this behavior.\n",
            "  _warn_prf(average, modifier, msg_start, len(result))\n"
          ]
        },
        {
          "output_type": "stream",
          "name": "stdout",
          "text": [
            "Precision: 0.7856294930742136 Recall: 0.8098412698412698 F1 score: 0.7669380590965097 Accuracy: 0.8098412698412698\n",
            "   Precision    Recall  F1 Score  Accuracy\n",
            "0   0.848889  0.777778  0.722663  0.777778\n",
            "1   0.745169  0.777778  0.727778  0.777778\n",
            "2   0.861039  0.828571  0.798046  0.828571\n",
            "3   0.652174  0.771429  0.702857  0.771429\n",
            "4   0.635429  0.742857  0.677321  0.742857\n",
            "5   0.765839  0.771429  0.753176  0.771429\n",
            "6   0.878912  0.857143  0.823354  0.857143\n",
            "7   0.900557  0.885714  0.866834  0.885714\n",
            "8   0.641758  0.771429  0.691456  0.771429\n",
            "9   0.926531  0.914286  0.905894  0.914286\n"
          ]
        }
      ],
      "source": [
        "# Load the CSV file\n",
        "df = pd.read_csv('2019/sentiment_output2_2019.csv')\n",
        "\n",
        "# Prepare the features and the target variable\n",
        "X = df['comments']\n",
        "y = LabelEncoder().fit_transform(df['sentiment_label'])\n",
        "\n",
        "# Load your word embeddings\n",
        "with open('2019/word2vec_model_2019.pkl', 'rb') as f:\n",
        "    word_embeddings = pickle.load(f)\n",
        "\n",
        "# Transform the comments into word embeddings\n",
        "X = np.array([np.mean([word_embeddings.wv[word] for word in comment.split() if word in word_embeddings.wv], axis=0) for comment in X])\n",
        "\n",
        "# Initialize the classifier\n",
        "clf = SVC(C=1.0, kernel='linear', gamma='scale')\n",
        "\n",
        "# Define the cross-validation strategy\n",
        "cv = StratifiedKFold(n_splits=10)\n",
        "\n",
        "# Calculate cross-validation scores\n",
        "precision = cross_val_score(clf, X, y, cv=cv, scoring=make_scorer(precision_score, pos_label=1, average='weighted'))\n",
        "recall = cross_val_score(clf, X, y, cv=cv, scoring=make_scorer(recall_score, pos_label=1, average='weighted'))\n",
        "f1 = cross_val_score(clf, X, y, cv=cv, scoring=make_scorer(f1_score, pos_label=1, average='weighted'))\n",
        "accuracy = cross_val_score(clf, X, y, cv=cv, scoring='accuracy')\n",
        "\n",
        "# Print the average scores\n",
        "print(f'Precision: {precision.mean()}',f'Recall: {recall.mean()}',f'F1 score: {f1.mean()}',f'Accuracy: {accuracy.mean()}')\n",
        "\n",
        "# Create a dictionary with the scores\n",
        "scores = {\n",
        "    'Precision': precision,\n",
        "    'Recall': recall,\n",
        "    'F1 Score': f1,\n",
        "    'Accuracy': accuracy\n",
        "}\n",
        "\n",
        "# Create a DataFrame from the dictionary\n",
        "df_scores = pd.DataFrame(scores)\n",
        "\n",
        "# Print the DataFrame\n",
        "print(df_scores)"
      ]
    },
    {
      "cell_type": "markdown",
      "metadata": {
        "id": "aTsXZ3y-XKsP"
      },
      "source": [
        "\n",
        "```\n",
        "`10-fold Cross` Validation `TF-IDF`\n",
        "```\n"
      ]
    },
    {
      "cell_type": "code",
      "execution_count": 14,
      "metadata": {
        "colab": {
          "base_uri": "https://localhost:8080/"
        },
        "id": "Tkht8mIWXMF7",
        "outputId": "64bc67bb-6cf2-4ecb-a6d7-f11fd7ebeac8"
      },
      "outputs": [
        {
          "output_type": "stream",
          "name": "stdout",
          "text": [
            "Precision: 0.8770685964236143 Recall: 0.8694444444444445 F1 score: 0.8577410242398935 Accuracy: 0.8694444444444445\n",
            "   Precision    Recall  F1 Score  Accuracy\n",
            "0   0.861947  0.861111  0.858907  0.861111\n",
            "1   0.832011  0.833333  0.814327  0.833333\n",
            "2   0.898571  0.885714  0.877501  0.885714\n",
            "3   0.817687  0.828571  0.803308  0.828571\n",
            "4   0.889524  0.885714  0.884673  0.885714\n",
            "5   0.868707  0.857143  0.856166  0.857143\n",
            "6   0.878912  0.857143  0.823354  0.857143\n",
            "7   0.922597  0.914286  0.904781  0.914286\n",
            "8   0.888199  0.857143  0.842245  0.857143\n",
            "9   0.912531  0.914286  0.912147  0.914286\n"
          ]
        }
      ],
      "source": [
        "# Load the CSV file\n",
        "df = pd.read_csv('2019/sentiment_output2_2019.csv')\n",
        "\n",
        "# Prepare the features and the target variable\n",
        "X = df['comments']\n",
        "y = LabelEncoder().fit_transform(df['sentiment_label'])\n",
        "\n",
        "# Transform the comments into TF-IDF vectors\n",
        "with open('2019/tfidf_vectorizer_2019.pkl', 'rb') as f:\n",
        "    vectorizer = pickle.load(f)\n",
        "X = vectorizer.transform(X)\n",
        "\n",
        "# Initialize the classifier\n",
        "clf = SVC(C=1.0, kernel='linear', gamma='scale')\n",
        "\n",
        "# Define the cross-validation strategy\n",
        "cv = StratifiedKFold(n_splits=10)\n",
        "\n",
        "\n",
        "# Calculate cross-validation scores\n",
        "precision = cross_val_score(clf, X, y, cv=cv, scoring=make_scorer(precision_score, pos_label=1, average='weighted'))\n",
        "recall = cross_val_score(clf, X, y, cv=cv, scoring=make_scorer(recall_score, pos_label=1, average='weighted'))\n",
        "f1 = cross_val_score(clf, X, y, cv=cv, scoring=make_scorer(f1_score, pos_label=1, average='weighted'))\n",
        "accuracy = cross_val_score(clf, X, y, cv=cv, scoring='accuracy')\n",
        "\n",
        "# Print the average scores\n",
        "print(f'Precision: {precision.mean()}',f'Recall: {recall.mean()}',f'F1 score: {f1.mean()}',f'Accuracy: {accuracy.mean()}')\n",
        "\n",
        "# Create a dictionary with the scores\n",
        "scores = {\n",
        "    'Precision': precision,\n",
        "    'Recall': recall,\n",
        "    'F1 Score': f1,\n",
        "    'Accuracy': accuracy\n",
        "}\n",
        "\n",
        "# Create a DataFrame from the dictionary\n",
        "df_scores = pd.DataFrame(scores)\n",
        "\n",
        "# Print the DataFrame\n",
        "print(df_scores)"
      ]
    },
    {
      "cell_type": "markdown",
      "metadata": {
        "id": "5LbM4Ej7Uo5J"
      },
      "source": [
        "#`Random Forests`"
      ]
    },
    {
      "cell_type": "markdown",
      "metadata": {
        "id": "ZyQqL7dYq7Y2"
      },
      "source": [
        "\n",
        "```\n",
        "Classifier `Random Forests` trained by the `TF-IDF`\n",
        "```\n"
      ]
    },
    {
      "cell_type": "code",
      "execution_count": 15,
      "metadata": {
        "colab": {
          "base_uri": "https://localhost:8080/"
        },
        "id": "X2pQU-SurLZl",
        "outputId": "43302671-fa01-441c-8d41-2f996d178df8"
      },
      "outputs": [
        {
          "output_type": "stream",
          "name": "stdout",
          "text": [
            "Validation Accuracy: 0.9603399433427762\n"
          ]
        }
      ],
      "source": [
        "# Initialize the Random Forest classifier\n",
        "clf_rf = RandomForestClassifier(n_estimators=100, random_state=42)\n",
        "\n",
        "df_train_tf = pd.read_csv('2019/train_2019.tsv', sep=',')\n",
        "\n",
        "# Extract the 'sentiment_label' column\n",
        "sentiment_labels_train = df_train_tf['sentiment_label']\n",
        "\n",
        "# Split your training data into training and validation sets\n",
        "X_train, X_val, y_train, y_val = train_test_split(tfidf_matrix_train, sentiment_labels_train, test_size=0.2, random_state=42)\n",
        "\n",
        "# Train the Random Forest classifier using your training data\n",
        "clf_rf.fit(X_train, y_train)\n",
        "\n",
        "# Evaluate the classifier on your validation data\n",
        "accuracy = clf_rf.score(X_val, y_val)\n",
        "print('Validation Accuracy:', accuracy)"
      ]
    },
    {
      "cell_type": "markdown",
      "metadata": {
        "id": "UwpMRpCaP9_a"
      },
      "source": [
        "\n",
        "```\n",
        "Classifier `Ramdom Forests` trained by the `Word embeddings`\n",
        "```\n"
      ]
    },
    {
      "cell_type": "code",
      "execution_count": 16,
      "metadata": {
        "colab": {
          "base_uri": "https://localhost:8080/"
        },
        "id": "Yjcir3Rpay-N",
        "outputId": "ccd535af-5e2a-40dd-dd1a-a924dfdbf8f5"
      },
      "outputs": [
        {
          "output_type": "stream",
          "name": "stdout",
          "text": [
            "Validation Accuracy: 0.38028169014084506\n"
          ]
        }
      ],
      "source": [
        "# Load the Word2Vec model\n",
        "with open('2019/word2vec_model_2019.pkl', 'rb') as f:\n",
        "    model = pickle.load(f)\n",
        "\n",
        "# Convert the tokenized comments into vectors\n",
        "vectorized_comments_train = [model.wv[comment] for comment in tokenized_comments_train]\n",
        "\n",
        "# Average the word vectors for each comment to get a single vector per comment\n",
        "vectorized_comments_train = [np.mean(comment, axis=0) for comment in vectorized_comments_train]\n",
        "\n",
        "# Extract the 'sentiment_label' column\n",
        "sentiment_labels_train = df_sentiment['sentiment_label']\n",
        "\n",
        "# Ensure that vectorized_comments_train and sentiment_labels_train have the same length\n",
        "if len(vectorized_comments_train) != len(sentiment_labels_train):\n",
        "    min_len = min(len(vectorized_comments_train), len(sentiment_labels_train))\n",
        "    vectorized_comments_train = vectorized_comments_train[:min_len]\n",
        "    sentiment_labels_train = sentiment_labels_train[:min_len]\n",
        "\n",
        "# Split your training data into training and validation sets\n",
        "X_train, X_val, y_train, y_val = train_test_split(vectorized_comments_train, sentiment_labels_train, test_size=0.2, random_state=42)\n",
        "\n",
        "# Initialize the Random Forest classifier\n",
        "clf_rf = RandomForestClassifier(n_estimators=100, random_state=42)\n",
        "\n",
        "# Train the Random Forest classifier using your training data\n",
        "clf_rf.fit(X_train, y_train)\n",
        "\n",
        "# Evaluate the classifier on your validation data\n",
        "accuracy = clf_rf.score(X_val, y_val)\n",
        "print('Validation Accuracy:', accuracy)"
      ]
    },
    {
      "cell_type": "markdown",
      "metadata": {
        "id": "knZ5b9HGU2VS"
      },
      "source": [
        "\n",
        "```\n",
        "`10-fold Cross` Validation `Word embeddings`\n",
        "```\n"
      ]
    },
    {
      "cell_type": "code",
      "execution_count": 17,
      "metadata": {
        "colab": {
          "base_uri": "https://localhost:8080/"
        },
        "id": "swsoTRt8U31G",
        "outputId": "9294dbb5-f3c5-42fd-d5bb-0554a647d319"
      },
      "outputs": [
        {
          "output_type": "stream",
          "name": "stdout",
          "text": [
            "Precision: 0.858204271801872 Recall: 0.8522222222222222 F1 score: 0.8471783621063069 Accuracy: 0.8522222222222222\n",
            "   Precision    Recall  F1 Score  Accuracy\n",
            "0   0.876812  0.833333  0.813606  0.833333\n",
            "1   0.888402  0.888889  0.884039  0.888889\n",
            "2   0.887143  0.885714  0.878985  0.885714\n",
            "3   0.822857  0.828571  0.819397  0.828571\n",
            "4   0.797551  0.800000  0.792655  0.800000\n",
            "5   0.791729  0.771429  0.777623  0.771429\n",
            "6   0.886631  0.885714  0.885170  0.885714\n",
            "7   0.946958  0.942857  0.939162  0.942857\n",
            "8   0.771429  0.771429  0.768999  0.771429\n",
            "9   0.912531  0.914286  0.912147  0.914286\n"
          ]
        }
      ],
      "source": [
        "# Load the CSV file\n",
        "df = pd.read_csv('2019/sentiment_output2_2019.csv')\n",
        "\n",
        "# Prepare the features and the target variable\n",
        "X = df['comments']\n",
        "y = LabelEncoder().fit_transform(df['sentiment_label'])\n",
        "\n",
        "# Load your word embeddings\n",
        "with open('2019/word2vec_model_2019.pkl', 'rb') as f:\n",
        "    word_embeddings = pickle.load(f)\n",
        "\n",
        "# Transform the comments into word embeddings\n",
        "X = np.array([np.mean([word_embeddings.wv[word] for word in comment.split() if word in word_embeddings.wv], axis=0) for comment in X])\n",
        "\n",
        "# Initialize the Random Forest classifier\n",
        "clf_rf = RandomForestClassifier(n_estimators=100, random_state=42)\n",
        "\n",
        "# Define the cross-validation strategy\n",
        "cv = StratifiedKFold(n_splits=10)\n",
        "\n",
        "# Calculate cross-validation scores\n",
        "precision = cross_val_score(clf_rf, X, y, cv=cv, scoring=make_scorer(precision_score, pos_label=1, average='weighted'))\n",
        "recall = cross_val_score(clf_rf, X, y, cv=cv, scoring=make_scorer(recall_score, pos_label=1, average='weighted'))\n",
        "f1 = cross_val_score(clf_rf, X, y, cv=cv, scoring=make_scorer(f1_score, pos_label=1, average='weighted'))\n",
        "accuracy = cross_val_score(clf_rf, X, y, cv=cv, scoring='accuracy')\n",
        "\n",
        "# Print the average scores\n",
        "print(f'Precision: {precision.mean()}',f'Recall: {recall.mean()}',f'F1 score: {f1.mean()}',f'Accuracy: {accuracy.mean()}')\n",
        "\n",
        "# Create a dictionary with the scores\n",
        "scores = {\n",
        "    'Precision': precision,\n",
        "    'Recall': recall,\n",
        "    'F1 Score': f1,\n",
        "    'Accuracy': accuracy\n",
        "}\n",
        "\n",
        "# Create a DataFrame from the dictionary\n",
        "df_scores = pd.DataFrame(scores)\n",
        "\n",
        "# Print the DataFrame\n",
        "print(df_scores)"
      ]
    },
    {
      "cell_type": "markdown",
      "metadata": {
        "id": "E5HORw9vWDaX"
      },
      "source": [
        "\n",
        "```\n",
        "`10-fold Cross` Validation `TF-IDF`\n",
        "```\n"
      ]
    },
    {
      "cell_type": "code",
      "execution_count": 18,
      "metadata": {
        "colab": {
          "base_uri": "https://localhost:8080/"
        },
        "id": "-n-ZBZB2WEeE",
        "outputId": "95e98f57-081e-46ad-f5ab-bbe491e1d2c4"
      },
      "outputs": [
        {
          "output_type": "stream",
          "name": "stdout",
          "text": [
            "Precision: 0.900151982536768 Recall: 0.8949206349206349 F1 score: 0.8950298145676298 Accuracy: 0.8949206349206349\n",
            "   Precision    Recall  F1 Score  Accuracy\n",
            "0   0.842593  0.833333  0.836757  0.833333\n",
            "1   0.944444  0.944444  0.944444  0.944444\n",
            "2   0.880301  0.885714  0.877778  0.885714\n",
            "3   0.864286  0.857143  0.859740  0.857143\n",
            "4   0.903081  0.885714  0.890881  0.885714\n",
            "5   0.810884  0.800000  0.799023  0.800000\n",
            "6   0.919048  0.914286  0.913178  0.914286\n",
            "7   0.945455  0.942857  0.943129  0.942857\n",
            "8   0.948571  0.942857  0.942510  0.942857\n",
            "9   0.942857  0.942857  0.942857  0.942857\n"
          ]
        }
      ],
      "source": [
        "# Load the CSV file\n",
        "df = pd.read_csv('2019/sentiment_output2_2019.csv')\n",
        "\n",
        "# Prepare the features and the target variable\n",
        "X = df['comments']\n",
        "y = LabelEncoder().fit_transform(df['sentiment_label'])\n",
        "\n",
        "# Transform the comments into TF-IDF vectors\n",
        "with open('2019/tfidf_vectorizer_2019.pkl', 'rb') as f:\n",
        "    vectorizer = pickle.load(f)\n",
        "X = vectorizer.transform(X)\n",
        "\n",
        "# Initialize the Random Forest classifier\n",
        "clf_rf = RandomForestClassifier(n_estimators=100, random_state=42)\n",
        "\n",
        "# Define the cross-validation strategy\n",
        "cv = StratifiedKFold(n_splits=10)\n",
        "\n",
        "# Calculate cross-validation scores\n",
        "precision = cross_val_score(clf_rf, X, y, cv=cv, scoring=make_scorer(precision_score, pos_label=1, average='weighted'))\n",
        "recall = cross_val_score(clf_rf, X, y, cv=cv, scoring=make_scorer(recall_score, pos_label=1, average='weighted'))\n",
        "f1 = cross_val_score(clf_rf, X, y, cv=cv, scoring=make_scorer(f1_score, pos_label=1, average='weighted'))\n",
        "accuracy = cross_val_score(clf_rf, X, y, cv=cv, scoring='accuracy')\n",
        "\n",
        "# Print the average scores\n",
        "print(f'Precision: {precision.mean()}',f'Recall: {recall.mean()}',f'F1 score: {f1.mean()}',f'Accuracy: {accuracy.mean()}')\n",
        "\n",
        "# Create a dictionary with the scores\n",
        "scores = {\n",
        "    'Precision': precision,\n",
        "    'Recall': recall,\n",
        "    'F1 Score': f1,\n",
        "    'Accuracy': accuracy\n",
        "}\n",
        "\n",
        "# Create a DataFrame from the dictionary\n",
        "df_scores = pd.DataFrame(scores)\n",
        "\n",
        "# Print the DataFrame\n",
        "print(df_scores)"
      ]
    },
    {
      "cell_type": "markdown",
      "metadata": {
        "id": "g7hPZAp0XAPW"
      },
      "source": [
        "#`KNN`"
      ]
    },
    {
      "cell_type": "markdown",
      "metadata": {
        "id": "IJrSEWHtXGeW"
      },
      "source": [
        "\n",
        "```\n",
        "Classifier `KNN` trained by the `TF-IDF`\n",
        "```\n"
      ]
    },
    {
      "cell_type": "code",
      "execution_count": 19,
      "metadata": {
        "colab": {
          "base_uri": "https://localhost:8080/"
        },
        "id": "Kjqm_dKmXJyx",
        "outputId": "99349566-c30b-45c3-b94c-09dc9228c0d3"
      },
      "outputs": [
        {
          "output_type": "stream",
          "name": "stdout",
          "text": [
            "Validation Accuracy: 0.8158640226628895\n"
          ]
        }
      ],
      "source": [
        "# Initialize the KNN classifier\n",
        "clf_knn = KNeighborsClassifier(n_neighbors=5)\n",
        "\n",
        "df_train_tf = pd.read_csv('2019/train_2019.tsv', sep=',')\n",
        "\n",
        "# Extract the 'sentiment_label' column\n",
        "sentiment_labels_train = df_train_tf['sentiment_label']\n",
        "\n",
        "# Split your training data into training and validation sets\n",
        "X_train, X_val, y_train, y_val = train_test_split(tfidf_matrix_train, sentiment_labels_train, test_size=0.2, random_state=42)\n",
        "\n",
        "# Train the KNN classifier using your training data\n",
        "clf_knn.fit(X_train, y_train)\n",
        "\n",
        "# Evaluate the classifier on your validation data\n",
        "accuracy = clf_knn.score(X_val, y_val)\n",
        "print('Validation Accuracy:', accuracy)\n"
      ]
    },
    {
      "cell_type": "markdown",
      "metadata": {
        "id": "oB1EFSgqXwmC"
      },
      "source": [
        "\n",
        "```\n",
        "Classifier `KNN` trained by the `Word embeddings`\n",
        "```\n"
      ]
    },
    {
      "cell_type": "code",
      "execution_count": 20,
      "metadata": {
        "colab": {
          "base_uri": "https://localhost:8080/"
        },
        "id": "E2IbUl5-Xy8z",
        "outputId": "9c8b822a-3e7a-464d-ac69-4677c9058639"
      },
      "outputs": [
        {
          "output_type": "stream",
          "name": "stdout",
          "text": [
            "Validation Accuracy: 0.38028169014084506\n"
          ]
        }
      ],
      "source": [
        "# Load the Word2Vec model\n",
        "with open('2019/word2vec_model_2019.pkl', 'rb') as f:\n",
        "    model = pickle.load(f)\n",
        "\n",
        "# Convert the tokenized comments into vectors\n",
        "vectorized_comments_train = [model.wv[comment] for comment in tokenized_comments_train]\n",
        "\n",
        "# Average the word vectors for each comment to get a single vector per comment\n",
        "vectorized_comments_train = [np.mean(comment, axis=0) for comment in vectorized_comments_train]\n",
        "\n",
        "# Extract the 'sentiment_label' column\n",
        "sentiment_labels_train = df_sentiment['sentiment_label']\n",
        "\n",
        "# Ensure that vectorized_comments_train and sentiment_labels_train have the same length\n",
        "if len(vectorized_comments_train) != len(sentiment_labels_train):\n",
        "    min_len = min(len(vectorized_comments_train), len(sentiment_labels_train))\n",
        "    vectorized_comments_train = vectorized_comments_train[:min_len]\n",
        "    sentiment_labels_train = sentiment_labels_train[:min_len]\n",
        "\n",
        "# Split your training data into training and validation sets\n",
        "X_train, X_val, y_train, y_val = train_test_split(vectorized_comments_train, sentiment_labels_train, test_size=0.2, random_state=42)\n",
        "\n",
        "# Initialize the KNN classifier\n",
        "clf_knn = KNeighborsClassifier(n_neighbors=5)\n",
        "\n",
        "# Train the KNN classifier using your training data\n",
        "clf_knn.fit(X_train, y_train)\n",
        "\n",
        "# Evaluate the classifier on your validation data\n",
        "accuracy = clf_knn.score(X_val, y_val)\n",
        "print('Validation Accuracy:', accuracy)"
      ]
    },
    {
      "cell_type": "markdown",
      "metadata": {
        "id": "M-aI5BeIYD4Y"
      },
      "source": [
        "\n",
        "```\n",
        "`10-fold Cross` Validation `Word embeddings`\n",
        "```\n"
      ]
    },
    {
      "cell_type": "code",
      "execution_count": 21,
      "metadata": {
        "colab": {
          "base_uri": "https://localhost:8080/"
        },
        "id": "0i__fW4AYFva",
        "outputId": "8d1ad021-172e-4d65-efd0-abaf35c733f6"
      },
      "outputs": [
        {
          "output_type": "stream",
          "name": "stdout",
          "text": [
            "Precision: 0.8031287019858449 Recall: 0.8126190476190477 F1 score: 0.7889285211240098 Accuracy: 0.8126190476190477\n",
            "   Precision    Recall  F1 Score  Accuracy\n",
            "0   0.804233  0.805556  0.786550  0.805556\n",
            "1   0.753968  0.777778  0.752437  0.777778\n",
            "2   0.848571  0.857143  0.841137  0.857143\n",
            "3   0.727891  0.771429  0.737744  0.771429\n",
            "4   0.628571  0.714286  0.662513  0.714286\n",
            "5   0.785714  0.771429  0.774269  0.771429\n",
            "6   0.900952  0.885714  0.866958  0.885714\n",
            "7   0.900557  0.885714  0.866834  0.885714\n",
            "8   0.871429  0.828571  0.800382  0.828571\n",
            "9   0.809400  0.828571  0.800460  0.828571\n"
          ]
        }
      ],
      "source": [
        "# Load the CSV file\n",
        "df = pd.read_csv('2019/sentiment_output2_2019.csv')\n",
        "\n",
        "# Prepare the features and the target variable\n",
        "X = df['comments']\n",
        "y = LabelEncoder().fit_transform(df['sentiment_label'])\n",
        "\n",
        "# Load your word embeddings\n",
        "with open('2019/word2vec_model_2019.pkl', 'rb') as f:\n",
        "    word_embeddings = pickle.load(f)\n",
        "\n",
        "# Transform the comments into word embeddings\n",
        "X = np.array([np.mean([word_embeddings.wv[word] for word in comment.split() if word in word_embeddings.wv], axis=0) for comment in X])\n",
        "\n",
        "# Initialize the KNN classifier\n",
        "clf_knn = KNeighborsClassifier(n_neighbors=5)\n",
        "\n",
        "# Define the cross-validation strategy\n",
        "cv = StratifiedKFold(n_splits=10)\n",
        "\n",
        "# Calculate cross-validation scores\n",
        "precision = cross_val_score(clf_knn, X, y, cv=cv, scoring=make_scorer(precision_score, pos_label=1, average='weighted'))\n",
        "recall = cross_val_score(clf_knn, X, y, cv=cv, scoring=make_scorer(recall_score, pos_label=1, average='weighted'))\n",
        "f1 = cross_val_score(clf_knn, X, y, cv=cv, scoring=make_scorer(f1_score, pos_label=1, average='weighted'))\n",
        "accuracy = cross_val_score(clf_knn, X, y, cv=cv, scoring='accuracy')\n",
        "\n",
        "# Print the average scores\n",
        "print(f'Precision: {precision.mean()}',f'Recall: {recall.mean()}',f'F1 score: {f1.mean()}',f'Accuracy: {accuracy.mean()}')\n",
        "\n",
        "# Create a dictionary with the scores\n",
        "scores = {\n",
        "    'Precision': precision,\n",
        "    'Recall': recall,\n",
        "    'F1 Score': f1,\n",
        "    'Accuracy': accuracy\n",
        "}\n",
        "\n",
        "# Create a DataFrame from the dictionary\n",
        "df_scores = pd.DataFrame(scores)\n",
        "\n",
        "# Print the DataFrame\n",
        "print(df_scores)"
      ]
    },
    {
      "cell_type": "markdown",
      "metadata": {
        "id": "vN_8YIRsYg4o"
      },
      "source": [
        "\n",
        "```\n",
        "`10-fold Cross` Validation `TF-IDF`\n",
        "```\n"
      ]
    },
    {
      "cell_type": "code",
      "execution_count": 22,
      "metadata": {
        "colab": {
          "base_uri": "https://localhost:8080/"
        },
        "id": "_wYqmFk6Yh82",
        "outputId": "bb35b5cd-9a8b-4869-9da0-7676d40fb9e4"
      },
      "outputs": [
        {
          "output_type": "stream",
          "name": "stderr",
          "text": [
            "/usr/local/lib/python3.10/dist-packages/sklearn/metrics/_classification.py:1344: UndefinedMetricWarning: Precision is ill-defined and being set to 0.0 in labels with no predicted samples. Use `zero_division` parameter to control this behavior.\n",
            "  _warn_prf(average, modifier, msg_start, len(result))\n",
            "/usr/local/lib/python3.10/dist-packages/sklearn/metrics/_classification.py:1344: UndefinedMetricWarning: Precision is ill-defined and being set to 0.0 in labels with no predicted samples. Use `zero_division` parameter to control this behavior.\n",
            "  _warn_prf(average, modifier, msg_start, len(result))\n"
          ]
        },
        {
          "output_type": "stream",
          "name": "stdout",
          "text": [
            "Precision: 0.7537561178545161 Recall: 0.7899206349206349 F1 score: 0.7419219160826492 Accuracy: 0.7899206349206349\n",
            "   Precision    Recall  F1 Score  Accuracy\n",
            "0   0.731481  0.750000  0.704013  0.750000\n",
            "1   0.745169  0.777778  0.727778  0.777778\n",
            "2   0.758550  0.771429  0.746667  0.771429\n",
            "3   0.625983  0.771429  0.689193  0.771429\n",
            "4   0.759740  0.771429  0.754833  0.771429\n",
            "5   0.621978  0.714286  0.651371  0.714286\n",
            "6   0.858874  0.828571  0.772597  0.828571\n",
            "7   0.922597  0.914286  0.904781  0.914286\n",
            "8   0.641758  0.771429  0.691456  0.771429\n",
            "9   0.871429  0.828571  0.776531  0.828571\n"
          ]
        }
      ],
      "source": [
        "# Load the CSV file\n",
        "df = pd.read_csv('2019/sentiment_output2_2019.csv')\n",
        "\n",
        "# Prepare the features and the target variable\n",
        "X = df['comments']\n",
        "y = LabelEncoder().fit_transform(df['sentiment_label'])\n",
        "\n",
        "# Transform the comments into TF-IDF vectors\n",
        "with open('2019/tfidf_vectorizer_2019.pkl', 'rb') as f:\n",
        "    vectorizer = pickle.load(f)\n",
        "X = vectorizer.transform(X)\n",
        "\n",
        "# Initialize the KNN classifier\n",
        "clf_knn = KNeighborsClassifier(n_neighbors=5)\n",
        "\n",
        "# Define the cross-validation strategy\n",
        "cv = StratifiedKFold(n_splits=10)\n",
        "\n",
        "# Calculate cross-validation scores\n",
        "precision = cross_val_score(clf_knn, X, y, cv=cv, scoring=make_scorer(precision_score, pos_label=1, average='weighted'))\n",
        "recall = cross_val_score(clf_knn, X, y, cv=cv, scoring=make_scorer(recall_score, pos_label=1, average='weighted'))\n",
        "f1 = cross_val_score(clf_knn, X, y, cv=cv, scoring=make_scorer(f1_score, pos_label=1, average='weighted'))\n",
        "accuracy = cross_val_score(clf_knn, X, y, cv=cv, scoring='accuracy')\n",
        "\n",
        "# Print the average scores\n",
        "print(f'Precision: {precision.mean()}',f'Recall: {recall.mean()}',f'F1 score: {f1.mean()}',f'Accuracy: {accuracy.mean()}')\n",
        "\n",
        "# Create a dictionary with the scores\n",
        "scores = {\n",
        "    'Precision': precision,\n",
        "    'Recall': recall,\n",
        "    'F1 Score': f1,\n",
        "    'Accuracy': accuracy\n",
        "}\n",
        "\n",
        "# Create a DataFrame from the dictionary\n",
        "df_scores = pd.DataFrame(scores)\n",
        "\n",
        "# Print the DataFrame\n",
        "print(df_scores)"
      ]
    },
    {
      "cell_type": "markdown",
      "source": [
        "**Αξιολόγηση Ταξινομητών**:<br/><br/>\n",
        "\n",
        "**SVM:**\n",
        "Σύμφωνα με τα αποτελέσματα η μέθοδος με την χρήση TF-IDF είναι καλύτερη απο την χρήση της μεθόδου Word embeddings όσον αφορά τις τιμές των Precision, Recall, F1 Score, and Accuracy. Συγκεκριμένα η μέθοδος Word embeddings έχει κατά μέσο όρο για τις τιμές αυτές αντίστοιχα 0.80, 0.80, 0.76, και 0.80, ενώ η μέθοδος TF-IDF έχει για τις τιμές αυτές αντίστοιχα κατά μέσο όρο 0.88, 0.88, 0.86, και 0.88 . Οπότε οι επιδόσεις της μεθόδου με τον πίνακα TF-IDF φαίνεται να είναι καλύτερες καθιστώντας την πιο αξιόπιστη στον ταξινομητή αυτόν.<br/><br/>\n",
        "\n",
        "**Random Forests:**\n",
        "Σύμφωνα με τα αποτελέσματα η μέθοδος με την χρήση TF-IDF είναι καλύτερη απο την χρήση της μεθόδου Word embeddings όσον αφορά τις τιμές των Precision, Recall, F1 Score, and Accuracy. Συγκεκριμένα η μέθοδος Word embeddings έχει κατά μέσο όρο για τις τιμές αυτές αντίστοιχα 0.86, 0.86, 0.85, και 0.86, ενώ η μέθοδος TF-IDF έχει για τις τιμές αυτές αντίστοιχα κατά μέσο όρο 0.89, 0.89, 0.89, και 0.89 . Οπότε οι επιδόσεις της μεθόδου με τον πίνακα TF-IDF φαίνεται να είναι καλύτερες καθιστώντας την πιο αξιόπιστη στον ταξινομητή αυτόν.<br/><br/>\n",
        "\n",
        "**KNN**:\n",
        "Σύμφωνα με τα αποτελέσματα η μέθοδος με την χρήση TF-IDF είναι καλύτερη απο την χρήση της μεθόδου Word embeddings όσον αφορά τις τιμές των Precision, Recall, F1 Score, and Accuracy. Συγκεκριμένα η μέθοδος Word embeddings έχει κατά μέσο όρο για τις τιμές αυτές αντίστοιχα  0.79, 0.81, 0.78, και 0.81, ενώ η μέθοδος TF-IDF έχει για τις τιμές αυτές αντίστοιχα κατά μέσο όρο 0.85, 0.83, 0.80, και 0.83 . Οπότε οι επιδόσεις της μεθόδου με τον πίνακα TF-IDF φαίνεται να είναι καλύτερες καθιστώντας την πιο αξιόπιστη στον ταξινομητή αυτόν.<br/><br/>\n",
        "\n",
        "Επομένως προκύπτει ότι ο καταλληλότερος και πιο αξιόπιστος γιαυτά τα δεδομένα ταξινομητής είναι ο SVM με την χρήση πίνακα TF-IDF.\n",
        "\n"
      ],
      "metadata": {
        "id": "kDNRM1hTFtrj"
      }
    },
    {
      "cell_type": "markdown",
      "metadata": {
        "id": "_cJm0gl0iJfY"
      },
      "source": [
        "#QUESTION 3"
      ]
    },
    {
      "cell_type": "code",
      "source": [
        "# Loading the pretrained Word2Vec model\n",
        "with open('2019/word2vec_model_2019.pkl', 'rb') as f:\n",
        "    model = pickle.load(f)\n",
        "\n",
        "# Function to calculate cosine similarity\n",
        "def cosine_similarity(v1, v2):\n",
        "    return 1 - cosine(v1, v2)\n",
        "\n",
        "# Function to find the semantic neighborhood of a word\n",
        "def get_neighborhood(word, N, words):\n",
        "    most_similar_words = model.wv.most_similar(word, topn=N*100)\n",
        "\n",
        "    neighbourhood = [word for word, _ in most_similar_words if word in words]\n",
        "\n",
        "    if len(neighbourhood) > N:\n",
        "      neighbourhood = neighbourhood[:N]\n",
        "\n",
        "    return neighbourhood\n",
        "\n",
        "# Function to calculate the similarity based on the maximum similarity of the neighborhoods\n",
        "def max_similarity_of_neighborhoods(neighborhood1, neighborhood2, words, similarity_matrix, word1, word2):\n",
        "    max_sim1 = 0\n",
        "    max_sim2 = 0\n",
        "\n",
        "    for word in neighborhood1:\n",
        "        sim = similarity_matrix[words.index(word2)][words.index(word)]\n",
        "        if sim > max_sim2:\n",
        "          max_sim2 = sim\n",
        "\n",
        "    for word in neighborhood2:\n",
        "        sim = similarity_matrix[words.index(word1)][words.index(word)]\n",
        "        if sim > max_sim1:\n",
        "          max_sim1 = sim\n",
        "\n",
        "    if max_sim1 > max_sim2:\n",
        "      return max_sim1\n",
        "    else:\n",
        "      return max_sim2\n",
        "\n",
        "# Function to calculate the similarity based on the correlation of the similarities of the neighborhoods\n",
        "def correlation_of_neighborhood_similarities(neighborhood1, neighborhood2, words, similarity_matrix):\n",
        "    sims1 = [similarity_matrix[words.index(word)][words.index(neighborhood1[0])] for word in neighborhood1]\n",
        "    sims2 = [similarity_matrix[words.index(word)][words.index(neighborhood2[0])] for word in neighborhood2]\n",
        "    return np.corrcoef(sims1, sims2)[0, 1]\n",
        "\n",
        "# Function to calculate the similarity based on the sum of the squares of the similarities of the neighborhoods\n",
        "def sum_of_squared_neighborhood_similarities(neighborhood1, neighborhood2, words, similarity_matrix, word1, word2):\n",
        "    max_sim1 = 0\n",
        "    max_sim2 = 0\n",
        "\n",
        "    for word in neighborhood1:\n",
        "        sim = similarity_matrix[words.index(word2)][words.index(word)]\n",
        "        max_sim2 = max_sim2 +  sim ** 2\n",
        "\n",
        "    for word in neighborhood2:\n",
        "        sim = similarity_matrix[words.index(word1)][words.index(word)]\n",
        "        max_sim1 = max_sim1 +  sim ** 2\n",
        "\n",
        "    return np.sqrt((max_sim1 + max_sim2))\n",
        "\n",
        "# Main function that combines all of the above\n",
        "def compute_similarities(word1, word2, N, words, similarity_matrix):\n",
        "    neighborhood1 = get_neighborhood(word1, N, words)\n",
        "    neighborhood2 = get_neighborhood(word2, N, words)\n",
        "\n",
        "    max_sim = max_similarity_of_neighborhoods(neighborhood1, neighborhood2, words, similarity_matrix, word1, word2)\n",
        "    corr_sim = correlation_of_neighborhood_similarities(neighborhood1, neighborhood2, words, similarity_matrix)\n",
        "    sum_squares_sim = sum_of_squared_neighborhood_similarities(neighborhood1, neighborhood2, words, similarity_matrix, word1, word2)\n",
        "\n",
        "    return {\n",
        "        'max_similarity_of_neighborhoods': max_sim,\n",
        "        'correlation_of_neighborhood_similarities': corr_sim,\n",
        "        'sum_of_squared_neighborhood_similarities': sum_squares_sim\n",
        "    }"
      ],
      "metadata": {
        "id": "B6p3iu4QhafZ"
      },
      "execution_count": 66,
      "outputs": []
    },
    {
      "cell_type": "code",
      "execution_count": 68,
      "metadata": {
        "colab": {
          "base_uri": "https://localhost:8080/"
        },
        "id": "pP5w-Vj-iMDO",
        "outputId": "1ff152f6-0928-462a-ad64-2e7aae254057"
      },
      "outputs": [
        {
          "output_type": "stream",
          "name": "stdout",
          "text": [
            "['apartment', 'host', 'athens', 'day', 'u', 'stay', 'great', 'arrival', 'place', 'reservation', 'location', 'canceled', 'posting', 'automated', 'clean', 'everything', 'nice', 'would', 'metro', 'time', 'recommend', 'eleni', 'well', 'fotis', 'good', 'helpful', 'also', 'close', 'really', 'perfect', 'haris', 'comfortable', 'room', 'night', 'easy', 'station', 'get', 'francis', 'flat', 'area', 'one', 'even', 'restaurant', 'located', 'walking', 'walk', 'around', 'spacious', 'made', 'street', 'city', 'much', 'katia', 'need', 'home', 'highly', 'wonderful', 'minute', 'definitely', '2', 'best', 'experience', 'acropolis', 'distance', 'feel', 'house', 'staying', 'make', 'needed', 'central', 'like', 'back', 'go', 'right', 'stayed', 'airport', 'excellent', 'lovely', '3', 'gave', 'visit', 'friendly', 'lot', 'could', '5', 'bed', 'airbnb', 'center', 'loft', 'quiet', 'check', 'thank', 'kind', 'shopping', 'kitchen', 'main', 'within', 'thanks', 'amazing', 'spa', 'near', '4', 'trip', 'bus', 'shop', '10', 'taxi', 'want', 'information', 'thing', 'next', 'fish', 'neighborhood', 'people', 'friend', 'enjoyed', 'help', 'first', 'sure', 'meet', 'big', 'way', 'see', 'super', 'beautiful', 'building', 'family', 'away', 'provided', 'met', 'felt', 'many', 'safe', 'take', 'arrived', 'large', 'equipped', 'short', 'always', 'extremely', 'person', 'stathis', 'fantastic', 'little', 'small', 'recommended', 'question', 'come', 'two', 'convenient', 'find', 'space', 'door', 'quite', 'bathroom', 'balcony', 'helped', 'enough', 'bar', 'modern', 'communication', 'better', 'anyone', 'picture', 'wifi', 'breakfast', 'middle', 'got', 'sight', 'took', 'site', 'plaka', 'exactly', 'tourist', 'welcoming', 'greece', 'train', 'food', 'use', 'stop', 'window', 'ermou', 'appartment', 'outside', 'though', 'problem', 'square', 'etc', 'guest', 'huge', 'bedroom', 'loved', 'noise', 'late', 'book', 'every', 'john', 'showed', 'christine', 'coffee', 'key', 'local', 'access', 'overall', 'went', 'full', 'tip', 'map', 'left', 'air', 'attraction', 'accommodating', 'centre', 'amenity', 'min', 'never', 'quick', 'recommendation', 'look', 'town', 'syntagma', 'heart', 'transportation', 'cafe', 'bit', 'eat', 'making', 'absolutely', '6', 'welcome', 'although', 'new', 'nearby', 'water', 'say', 'going', 'looking', 'anything', 'able', 'know', 'supermarket', 'described', 'easily', 'morning', 'couple', 'plenty', 'transport', 'available', 'last', 'floor', 'museum', 'driver', 'enjoy', 'worked', '7', 'entrance', 'long', 'pick', 'everywhere', '15', 'return', 'spot', 'still', 'travel', 'public', 'ok', 'harris', 'hot', 'old', 'direction', 'visiting', 'arranged', 'hotel', 'ever', 'instruction', '12', 'part', 'week', 'living', 'pretty', 'found', 'work', 'value', 'love', 'sleep', 'view', 'bakery', 'service', 'care', 'centrally', 'major', 'awesome', 'checked', '20', 'hidden', 'terrace', 'price', 'decorated', 'flight', 'studio']\n",
            "Give the N: 10\n",
            "Enter the first word: athens\n",
            "Enter the second word: family\n",
            "{'max_similarity_of_neighborhoods': 0.99724495, 'correlation_of_neighborhood_similarities': 0.7950437324875744, 'sum_of_squared_neighborhood_similarities': 4.453043235718295}\n",
            "The 10-neighborhood of the word 'athens' is: ['place', 'great', 'apartment', 'nice', 'enjoyed', 'stay', 'staying', 'visit', 'comfortable', 'good']\n",
            "The 10-neighborhood of the word 'family' is: ['balcony', 'problem', 'trip', 'house', 'airbnb', 'coffee', 'use', 'person', 'check', 'night']\n"
          ]
        }
      ],
      "source": [
        "# Loading the pretrained Word2Vec model\n",
        "with open('2019/word2vec_model_2019.pkl', 'rb') as f:\n",
        "    model = pickle.load(f)\n",
        "\n",
        "df = pd.read_csv('2019/reviews_output_2019.csv')\n",
        "\n",
        "# Flatten the list of words in the 'comments' column\n",
        "words = [word for sublist in df['comments'].str.split() for word in sublist]\n",
        "\n",
        "# Count the frequency of each word\n",
        "word_count = Counter(words)\n",
        "\n",
        "# Get the 300 most common words\n",
        "most_common_words = dict(word_count.most_common(300))\n",
        "\n",
        "# Get the list of the 300 most common words\n",
        "words = list(most_common_words.keys())\n",
        "print(words)\n",
        "\n",
        "# Create a matrix where each row is the Word2Vec vector of a word\n",
        "word_vectors = np.array([model.wv[word] for word in words if word in model.wv])\n",
        "\n",
        "# Calculate the cosine similarity matrix\n",
        "similarity_matrix = sklearn_cosine_similarity(word_vectors)\n",
        "\n",
        "N = int(input(\"Give the N: \"))\n",
        "\n",
        "while True:\n",
        "    word1 = input(\"Enter the first word: \")\n",
        "    word2 = input(\"Enter the second word: \")\n",
        "\n",
        "    if word1 in words and word2 in words:\n",
        "        similarities = compute_similarities(word1, word2, N, words, similarity_matrix)\n",
        "        print(similarities)\n",
        "\n",
        "        neighborhood = get_neighborhood(word1, N, words)\n",
        "        print(f\"The {N}-neighborhood of the word '{word1}' is: {neighborhood}\")\n",
        "        neighborhood = get_neighborhood(word2, N, words)\n",
        "        print(f\"The {N}-neighborhood of the word '{word2}' is: {neighborhood}\")\n",
        "        break\n",
        "    else:\n",
        "        print(\"One or both of the words are not in the dictionary. Please enter new words.\")"
      ]
    },
    {
      "cell_type": "markdown",
      "metadata": {
        "id": "N4UzAqhbioK9"
      },
      "source": [
        "Η παράμετρος N (μέγεθος της γειτονιάς) δεν επηρεάζει τις τιμές του max similarity και του sum of squared similarities, ωστόσο διαφέρει το correlation. Αυξάνοντας την τιμή του N, εξετάζεται μεγαλύτερος αριθμός γειτονικών λέξεων, πράγμα που μπορεί να αυξάνει την πιθανότητα να βρεθούν λέξεις με υψηλή ομοιότητα. Ωστόσο, αυτό μπορεί επίσης να περιλαμβάνει περισσότερες λέξεις που δεν είναι στενά συνδεδεμένες, μειώνοντας την ομοιότητα. Επομένως, η επίδραση της αλλαγής του N εξαρτάται από την ειδική δομή του σημασιολογικού χώρου."
      ]
    },
    {
      "cell_type": "markdown",
      "metadata": {
        "id": "t597_8ZhO7Y7"
      },
      "source": [
        "#[2023]\n",
        "---"
      ]
    },
    {
      "cell_type": "markdown",
      "metadata": {
        "id": "xgwJogVrPv6G"
      },
      "source": [
        "#QUESTION 1"
      ]
    },
    {
      "cell_type": "code",
      "execution_count": 41,
      "metadata": {
        "colab": {
          "base_uri": "https://localhost:8080/"
        },
        "id": "niWWtI0qT7Gf",
        "outputId": "7f67ea32-1873-490b-b4d3-26931e43abb6"
      },
      "outputs": [
        {
          "output_type": "stream",
          "name": "stderr",
          "text": [
            "[nltk_data] Downloading package stopwords to /root/nltk_data...\n",
            "[nltk_data]   Package stopwords is already up-to-date!\n",
            "[nltk_data] Downloading package wordnet to /root/nltk_data...\n",
            "[nltk_data]   Package wordnet is already up-to-date!\n",
            "[nltk_data] Downloading package punkt to /root/nltk_data...\n",
            "[nltk_data]   Package punkt is already up-to-date!\n"
          ]
        }
      ],
      "source": [
        "nltk.download('stopwords')\n",
        "stop_words = set(stopwords.words('english'))\n",
        "nltk.download('wordnet')\n",
        "lemmatizer = WordNetLemmatizer()\n",
        "nltk.download('punkt')\n",
        "\n",
        "# Function to detect language\n",
        "def detect_language(text):\n",
        "    try:\n",
        "        return detect(text)\n",
        "    except:\n",
        "        return None\n",
        "\n",
        "def remove_punctuation(input_string):\n",
        "   # Make a translator object that will replace all punctuation with a space\n",
        "    translator = str.maketrans(string.punctuation, ' '*len(string.punctuation))\n",
        "\n",
        "    # Use the translator object to remove punctuation from the input string\n",
        "    no_punct = input_string.translate(translator)\n",
        "    return no_punct\n",
        "\n",
        "def remove_stopwords(input_string):\n",
        "    if not isinstance(input_string, str):\n",
        "        input_string = ' '.join(input_string)\n",
        "    tokens = input_string.split()\n",
        "    no_stop = [word for word in tokens if not word in stop_words]\n",
        "    return ' '.join(no_stop)\n",
        "\n",
        "def lemmatize_words(input_string):\n",
        "    tokens = input_string.split()\n",
        "    lemmatized = [lemmatizer.lemmatize(word) for word in tokens]\n",
        "    return ' '.join(lemmatized)"
      ]
    },
    {
      "cell_type": "markdown",
      "metadata": {
        "id": "xmD1ldwIUAd8"
      },
      "source": [
        "\n",
        "\n",
        "```\n",
        "Preprocessing the reviews file\n",
        "```\n",
        "\n"
      ]
    },
    {
      "cell_type": "code",
      "execution_count": 42,
      "metadata": {
        "id": "9URCexVwUBmU"
      },
      "outputs": [],
      "source": [
        "#Combining and cleaning the reviews file for question 1.10\n",
        "\n",
        "# give the file paths\n",
        "reviews_path_march = '/content/drive/MyDrive/ΤΕΔΕ/2023/march/reviews.csv'\n",
        "reviews_path_june = '/content/drive/MyDrive/ΤΕΔΕ/2023/june/reviews.csv'\n",
        "reviews_path_september = '/content/drive/MyDrive/ΤΕΔΕ/2023/september/reviews.csv'\n",
        "\n",
        "os.makedirs('2023', exist_ok=True)\n",
        "\n",
        "# select the columns that we want to use for the results\n",
        "columns_to_select = ['listing_id', 'id', 'date', 'reviewer_id', 'reviewer_name', 'comments' ]\n",
        "\n",
        "# Read the CSV files into dataframes\n",
        "df_reviews_march = pd.read_csv(reviews_path_march, usecols=columns_to_select)\n",
        "df_reviews_june = pd.read_csv(reviews_path_june, usecols=columns_to_select)\n",
        "df_reviews_september = pd.read_csv(reviews_path_september, usecols=columns_to_select)\n",
        "\n",
        "# Merge the data from the three months\n",
        "df_reviews = pd.concat([df_reviews_march, df_reviews_june, df_reviews_september], ignore_index=True)\n",
        "\n",
        "# Convert all values in 'comments' column to string\n",
        "df_reviews['comments'] = df_reviews['comments'].astype(str)\n",
        "\n",
        "\n",
        "\n",
        "# Decapitalize the text\n",
        "df_reviews['comments'] = df_reviews['comments'].str.lower()\n",
        "\n",
        "df_reviews['comments'] = df_reviews['comments'].replace(r'[^\\w\\s,]', ' ', regex=True)\n",
        "#remove punctuation\n",
        "df_reviews['comments'] = df_reviews['comments'].apply(remove_punctuation)\n",
        "# Convert all values in 'comments' column to string and remove non-ASCII characters\n",
        "df_reviews['comments'] = df_reviews['comments'].astype(str).apply(lambda x: x.encode(\"ascii\", \"ignore\").decode())\n",
        "# Tokenization\n",
        "df_reviews['comments'] = df_reviews['comments'].apply(lambda x: x.split())\n",
        "# Drop rows where 'comments' column only contains one word\n",
        "df_reviews = df_reviews[df_reviews['comments'].apply(lambda x: len(x) > 1)]\n",
        "#remove stopwords\n",
        "df_reviews['comments'] = df_reviews['comments'].apply(remove_stopwords)\n",
        "#lemmatization\n",
        "df_reviews['comments'] = df_reviews['comments'].apply(lemmatize_words)\n",
        "\n",
        "#drop non words\n",
        "df_reviews = df_reviews[df_reviews['comments'].str.contains(r'[a-zA-Z]', na=False)]\n",
        "\n",
        "# Drop rows where 'listing_id' column doesn't contain a number made from the digits 1-9\n",
        "df_reviews = df_reviews[df_reviews['listing_id'].astype(str).str.contains(r'^[1-9]+$', na=False)]\n",
        "\n",
        "\n",
        "# Load the positive and negative words\n",
        "with open('/content/drive/MyDrive/TEDE/positive_words.txt', 'r') as f:\n",
        "    positive_words = set(f.read().splitlines())\n",
        "with open('/content/drive/MyDrive/TEDE/negative_words.txt', 'r') as f:\n",
        "    negative_words = set(f.read().splitlines())\n",
        "\n",
        "# Create empty lists for positive, negative, and neutral comments\n",
        "positive_rows = []\n",
        "negative_rows = []\n",
        "neutral_rows = []\n",
        "\n",
        "# Iterate over each row in the DataFrame\n",
        "for index, row in df_reviews.iterrows():\n",
        "    comment_words = set(row['comments'].split())\n",
        "    if comment_words & positive_words:\n",
        "\n",
        "        positive_rows.append(row.to_dict())\n",
        "    elif comment_words & negative_words:\n",
        "\n",
        "        negative_rows.append(row.to_dict())\n",
        "    else:\n",
        "        neutral_rows.append(row.to_dict())\n",
        "\n",
        "# Create DataFrames from the lists of dictionaries\n",
        "positive_df = pd.DataFrame(positive_rows)\n",
        "positive_df = positive_df.iloc[:800]\n",
        "\n",
        "negative_df = pd.DataFrame(negative_rows)\n",
        "negative_df = negative_df.iloc[:2200]\n",
        "\n",
        "neutral_df = pd.DataFrame(neutral_rows)\n",
        "neutral_df = neutral_df.iloc[:6000]\n",
        "\n",
        "df_reviews = pd.concat([positive_df, negative_df, neutral_df], ignore_index=True)\n",
        "\n",
        "df_reviews = df_reviews.iloc[:9000]\n",
        "\n",
        "\n",
        "# Apply the function to the 'comments' column\n",
        "df_reviews['language'] = df_reviews['comments'].apply(detect_language)\n",
        "\n",
        "# Filter out rows where language is not English\n",
        "df_reviews = df_reviews[df_reviews['language'] == 'en']\n",
        "\n",
        "\n",
        "# Drop rows where 'comments' column is empty or contains only whitespace\n",
        "df_reviews = df_reviews[df_reviews['comments'].str.strip().astype(bool)]\n",
        "\n",
        "# create the output file\n",
        "df_reviews.to_csv('2023/reviews_output_2023.csv', index=False)"
      ]
    },
    {
      "cell_type": "markdown",
      "metadata": {
        "id": "Bk9pnppxU1GK"
      },
      "source": [
        "\n",
        "\n",
        "```\n",
        "Create the test.tsv\n",
        "```\n",
        "\n"
      ]
    },
    {
      "cell_type": "code",
      "execution_count": 43,
      "metadata": {
        "id": "hYUDSMCOU2es"
      },
      "outputs": [],
      "source": [
        "# Load your data\n",
        "df = pd.read_csv('2023/reviews_output_2023.csv', sep='\\t')\n",
        "\n",
        "# Split your data\n",
        "test_df, train_df = train_test_split(df, test_size=0.8, random_state=42)\n",
        "\n",
        "# Write the split data to new TSV files\n",
        "train_df.to_csv('2023/train_2023.tsv', sep='\\t', index=False)\n",
        "test_df.to_csv('2023/test_2023.tsv', sep='\\t', index=False)\n"
      ]
    },
    {
      "cell_type": "markdown",
      "metadata": {
        "id": "bwZHF0QoVCSJ"
      },
      "source": [
        "\n",
        "```\n",
        "Sentiment analysis\n",
        "```\n"
      ]
    },
    {
      "cell_type": "code",
      "execution_count": 44,
      "metadata": {
        "colab": {
          "base_uri": "https://localhost:8080/"
        },
        "id": "lIjXYCbhVDR9",
        "outputId": "07377e3d-1ec6-44ef-d4a1-87ecadff71fa"
      },
      "outputs": [
        {
          "output_type": "stream",
          "name": "stderr",
          "text": [
            "Some weights of the model checkpoint at cardiffnlp/twitter-roberta-base-sentiment-latest were not used when initializing RobertaForSequenceClassification: ['roberta.pooler.dense.bias', 'roberta.pooler.dense.weight']\n",
            "- This IS expected if you are initializing RobertaForSequenceClassification from the checkpoint of a model trained on another task or with another architecture (e.g. initializing a BertForSequenceClassification model from a BertForPreTraining model).\n",
            "- This IS NOT expected if you are initializing RobertaForSequenceClassification from the checkpoint of a model that you expect to be exactly identical (initializing a BertForSequenceClassification model from a BertForSequenceClassification model).\n"
          ]
        }
      ],
      "source": [
        "# Initialize the sentiment analysis pipeline with the specified model\n",
        "sentiment_analysis = pipeline(\"sentiment-analysis\", model=\"cardiffnlp/twitter-roberta-base-sentiment-latest\")\n",
        "\n",
        "# Load the cleaned reviews\n",
        "df_reviews = pd.read_csv('2023/reviews_output_2023.csv')\n",
        "#df_reviews = df_reviews.iloc[:600]\n",
        "\n",
        "# Apply the pipeline to the 'comments' column to get the sentiment analysis results\n",
        "df_reviews['sentiment_result'] = df_reviews['comments'].apply(lambda x: sentiment_analysis(x[:512])[0])\n",
        "\n",
        "# Extract the sentiment label and score from the results\n",
        "df_reviews['sentiment_label'] = df_reviews['sentiment_result'].apply(lambda x: x['label'])\n",
        "\n",
        "# Create a new dataframe with the 'id', 'comments', and 'sentiment' columns\n",
        "df_sentiment = df_reviews[['id', 'comments', 'sentiment_label']]\n",
        "\n",
        "# Save the new dataframe to a CSV file\n",
        "df_sentiment.to_csv('2023/sentiment_output_2023.csv', index=False)"
      ]
    },
    {
      "cell_type": "code",
      "execution_count": 45,
      "metadata": {
        "colab": {
          "base_uri": "https://localhost:8080/",
          "height": 616
        },
        "id": "NdeZOiyfVSB-",
        "outputId": "c21925a9-7930-4d61-8fed-0ae46d5b6b51"
      },
      "outputs": [
        {
          "output_type": "stream",
          "name": "stdout",
          "text": [
            "Positive: 61.96%\n",
            "Negative: 16.88%\n",
            "Neutral: 21.16%\n"
          ]
        },
        {
          "output_type": "display_data",
          "data": {
            "text/plain": [
              "<Figure size 1000x600 with 1 Axes>"
            ],
            "image/png": "[encoded data removed]"
          },
          "metadata": {}
        }
      ],
      "source": [
        "# Load the final CSV file\n",
        "df_final = pd.read_csv('2023/sentiment_output_2023.csv')\n",
        "\n",
        "# Count the number of each sentiment label\n",
        "sentiment_counts = df_final['sentiment_label'].value_counts()\n",
        "\n",
        "# Calculate the total number of sentiments\n",
        "total_sentiments = sentiment_counts.sum()\n",
        "\n",
        "# Calculate the percentage of each sentiment\n",
        "sentiment_percentages = sentiment_counts / total_sentiments * 100\n",
        "\n",
        "# Print the percentages\n",
        "print(f\"Positive: {sentiment_percentages['positive']:.2f}%\")\n",
        "print(f\"Negative: {sentiment_percentages['negative']:.2f}%\")\n",
        "print(f\"Neutral: {sentiment_percentages['neutral']:.2f}%\")\n",
        "\n",
        "# Create a bar plot of the sentiment counts\n",
        "plt.figure(figsize=(10, 6))\n",
        "plt.bar(sentiment_counts.index, sentiment_counts.values, color=['green', 'red', 'blue'])\n",
        "plt.xlabel('Sentiment')\n",
        "plt.ylabel('Count')\n",
        "plt.title('Sentiment Analysis Results')\n",
        "plt.show()\n"
      ]
    },
    {
      "cell_type": "markdown",
      "metadata": {
        "id": "byyjZFgoVYvX"
      },
      "source": [
        "#QUESTION 2"
      ]
    },
    {
      "cell_type": "code",
      "execution_count": 46,
      "metadata": {
        "id": "_FGPCs3cVZa3",
        "colab": {
          "base_uri": "https://localhost:8080/"
        },
        "outputId": "e3d5bb58-944a-4e64-bba1-b6637a0bfdc2"
      },
      "outputs": [
        {
          "output_type": "stream",
          "name": "stderr",
          "text": [
            "Some weights of the model checkpoint at cardiffnlp/twitter-roberta-base-sentiment-latest were not used when initializing RobertaForSequenceClassification: ['roberta.pooler.dense.bias', 'roberta.pooler.dense.weight']\n",
            "- This IS expected if you are initializing RobertaForSequenceClassification from the checkpoint of a model trained on another task or with another architecture (e.g. initializing a BertForSequenceClassification model from a BertForPreTraining model).\n",
            "- This IS NOT expected if you are initializing RobertaForSequenceClassification from the checkpoint of a model that you expect to be exactly identical (initializing a BertForSequenceClassification model from a BertForSequenceClassification model).\n"
          ]
        }
      ],
      "source": [
        "# Initialize the sentiment analysis pipeline with the specified model\n",
        "sentiment_analysis = pipeline(\"sentiment-analysis\", model=\"cardiffnlp/twitter-roberta-base-sentiment-latest\")\n",
        "\n",
        "# Load the cleaned reviews\n",
        "train_df = pd.read_csv('2023/train_2023.tsv', sep=',')\n",
        "#df_reviews = df_reviews.iloc[:600]\n",
        "\n",
        "# Apply the pipeline to the 'comments' column to get the sentiment analysis results\n",
        "train_df['sentiment_result'] = train_df['comments'].apply(lambda x: sentiment_analysis(x[:512])[0])\n",
        "\n",
        "# Extract the sentiment label and score from the results\n",
        "train_df['sentiment_label'] = train_df['sentiment_result'].apply(lambda x: x['label'])\n",
        "\n",
        "# Create a new dataframe with the 'id', 'comments', and 'sentiment' columns\n",
        "df_sentiment = df_reviews[['id', 'comments', 'sentiment_label']]\n",
        "\n",
        "# Save the new dataframe to a CSV file\n",
        "df_sentiment.to_csv('2023/train_2023.tsv', index=False)"
      ]
    },
    {
      "cell_type": "markdown",
      "metadata": {
        "id": "0AH9_urDVpFM"
      },
      "source": [
        "\n",
        "```\n",
        "Χρήση train.tsv για την δημιουργία TF-IDF πίνακα και Word Embeddings\n",
        "```\n"
      ]
    },
    {
      "cell_type": "code",
      "execution_count": 47,
      "metadata": {
        "id": "_GvT2zNVVubp"
      },
      "outputs": [],
      "source": [
        "#Creation of TF-IDF matrix from the trained data of train.tsv\n",
        "\n",
        "# Load the train.tsv file\n",
        "df_train_tf = pd.read_csv('2023/train_2023.tsv', sep=',')\n",
        "\n",
        "# Extract the 'comments' column\n",
        "comments_train = df_train_tf['comments']\n",
        "\n",
        "# Initialize a TfidfVectorizer\n",
        "vectorizer = TfidfVectorizer()\n",
        "\n",
        "# Fit and transform the 'comments' data\n",
        "tfidf_matrix_train = vectorizer.fit_transform(comments_train)\n",
        "\n",
        "# Save the TfidfVectorizer to a pickle file\n",
        "with open('2023/tfidf_vectorizer_2023.pkl', 'wb') as f:\n",
        "    pickle.dump(vectorizer, f)\n",
        "\n",
        "\n",
        "#Creation of wordembeddings from the trained data of train.tsv\n",
        "\n",
        "# Load the train.tsv file\n",
        "df_train_we = pd.read_csv('2023/train_2023.tsv', sep=',')\n",
        "\n",
        "# Extract the 'comments' column\n",
        "comments_train = df_train_we['comments']\n",
        "\n",
        "# Tokenize the 'comments' data\n",
        "tokenized_comments_train = [word_tokenize(comment) for comment in comments_train]\n",
        "\n",
        "# Initialize a Word2Vec model\n",
        "model = Word2Vec(vector_size=100, window=5, min_count=1, workers=4)\n",
        "\n",
        "# Train the Word2Vec model\n",
        "model.build_vocab(tokenized_comments_train)\n",
        "model.train(tokenized_comments_train, total_examples=model.corpus_count, epochs=model.epochs)\n",
        "\n",
        "# Save the Word2Vec model to a pickle file\n",
        "with open('2023/word2vec_model_2023.pkl', 'wb') as f:\n",
        "    pickle.dump(model, f)\n",
        "\n",
        "\n",
        "\n"
      ]
    },
    {
      "cell_type": "markdown",
      "metadata": {
        "id": "CuOBb3f2V-nn"
      },
      "source": [
        "#`SVM`"
      ]
    },
    {
      "cell_type": "markdown",
      "metadata": {
        "id": "QGWItFgTV_pP"
      },
      "source": [
        "\n",
        "```\n",
        "Classifier `SVM` trained by the `TF-IDF`\n",
        "```\n"
      ]
    },
    {
      "cell_type": "code",
      "execution_count": 48,
      "metadata": {
        "colab": {
          "base_uri": "https://localhost:8080/"
        },
        "id": "_WintIOzWH9x",
        "outputId": "491c67ce-4ca6-4bc8-dd55-1b9530fdad93"
      },
      "outputs": [
        {
          "output_type": "stream",
          "name": "stdout",
          "text": [
            "Validation Accuracy: 0.8854961832061069\n"
          ]
        }
      ],
      "source": [
        "#Training the classifier with the tf-idf matrix\n",
        "\n",
        "# Extract the 'sentiment_label' column\n",
        "sentiment_labels_train = df_train_tf['sentiment_label']\n",
        "\n",
        "# Split your training data into training and validation sets\n",
        "X_train, X_val, y_train, y_val = train_test_split(tfidf_matrix_train, sentiment_labels_train, test_size=0.2, random_state=42)\n",
        "\n",
        "# Initialize the SVM classifier\n",
        "clf = svm.SVC(C=1.0, kernel='linear', gamma='scale')\n",
        "\n",
        "# Train the SVM classifier using your training data\n",
        "clf.fit(X_train, y_train)\n",
        "\n",
        "# Evaluate the classifier on your validation data\n",
        "accuracy = clf.score(X_val, y_val)\n",
        "print('Validation Accuracy:', accuracy)"
      ]
    },
    {
      "cell_type": "markdown",
      "metadata": {
        "id": "rFSWwobqXtW1"
      },
      "source": [
        "```\n",
        "Actual labels of test.tsv\n",
        "```"
      ]
    },
    {
      "cell_type": "code",
      "execution_count": 49,
      "metadata": {
        "id": "VEs-OIBTXi4C"
      },
      "outputs": [],
      "source": [
        "# Load the TSV file\n",
        "df_reviews = pd.read_csv('2023/test_2023.tsv', sep=',')\n",
        "\n",
        "# Apply the pipeline to the 'comments' column to get the sentiment analysis results\n",
        "df_reviews['sentiment_result'] = df_reviews['comments'].apply(lambda x: sentiment_analysis(x[:512])[0])\n",
        "\n",
        "# Extract the sentiment label from the results\n",
        "df_reviews['sentiment_label'] = df_reviews['sentiment_result'].apply(lambda x: x['label'])\n",
        "\n",
        "# Create a new dataframe with the 'id', 'comments', and 'sentiment' columns\n",
        "df_sentiment = df_reviews[['id', 'comments', 'sentiment_label']]\n",
        "\n",
        "# Save the new dataframe to a CSV file\n",
        "df_sentiment.to_csv('2023/sentiment_output2_2023.csv', index=False)"
      ]
    },
    {
      "cell_type": "markdown",
      "metadata": {
        "id": "Cq2f8XfGanBO"
      },
      "source": [
        "\n",
        "```\n",
        "Classifier `SVM` trained by the `Word embeddings`\n",
        "```\n"
      ]
    },
    {
      "cell_type": "code",
      "execution_count": 50,
      "metadata": {
        "id": "PnAsBaTTbCeQ",
        "colab": {
          "base_uri": "https://localhost:8080/"
        },
        "outputId": "14cc28a9-7c21-4b99-870f-0ff49559601c"
      },
      "outputs": [
        {
          "output_type": "stream",
          "name": "stdout",
          "text": [
            "Validation Accuracy: 0.7709923664122137\n"
          ]
        }
      ],
      "source": [
        "# Load the Word2Vec model\n",
        "with open('2023/word2vec_model_2023.pkl', 'rb') as f:\n",
        "    model = pickle.load(f)\n",
        "\n",
        "# Convert the tokenized comments into vectors\n",
        "vectorized_comments_train = [model.wv[comment] for comment in tokenized_comments_train]\n",
        "\n",
        "# Average the word vectors for each comment to get a single vector per comment\n",
        "vectorized_comments_train = [np.mean(comment, axis=0) for comment in vectorized_comments_train]\n",
        "\n",
        "# Load the train.tsv file\n",
        "df_train_we = pd.read_csv('2023/train_2023.tsv', sep=',')\n",
        "\n",
        "# Extract the 'sentiment_label' column\n",
        "sentiment_labels_train = df_train_we['sentiment_label']\n",
        "\n",
        "# Split your training data into training and validation sets\n",
        "X_train, X_val, y_train, y_val = train_test_split(vectorized_comments_train, sentiment_labels_train, test_size=0.2, random_state=42)\n",
        "\n",
        "# Initialize the SVM classifier\n",
        "clf = svm.SVC(C=1.0, kernel='linear', gamma='scale')\n",
        "\n",
        "# Train the SVM classifier using your training data\n",
        "clf.fit(X_train, y_train)\n",
        "\n",
        "# Evaluate the classifier on your validation data\n",
        "accuracy = clf.score(X_val, y_val)\n",
        "print('Validation Accuracy:', accuracy)"
      ]
    },
    {
      "cell_type": "markdown",
      "metadata": {
        "id": "USD9RSuubNjX"
      },
      "source": [
        "\n",
        "```\n",
        "`10-fold Cross` Validation `Word embeddings`\n",
        "```\n"
      ]
    },
    {
      "cell_type": "code",
      "execution_count": 51,
      "metadata": {
        "id": "Qgjd6UW1bZG-",
        "colab": {
          "base_uri": "https://localhost:8080/"
        },
        "outputId": "dbf06e35-add1-4fa3-d435-8a85628e7c90"
      },
      "outputs": [
        {
          "output_type": "stream",
          "name": "stderr",
          "text": [
            "/usr/local/lib/python3.10/dist-packages/sklearn/metrics/_classification.py:1344: UndefinedMetricWarning: Precision is ill-defined and being set to 0.0 in labels with no predicted samples. Use `zero_division` parameter to control this behavior.\n",
            "  _warn_prf(average, modifier, msg_start, len(result))\n"
          ]
        },
        {
          "output_type": "stream",
          "name": "stdout",
          "text": [
            "Precision: 0.7677537667011352 Recall: 0.7662393162393162 F1 score: 0.7153511314897624 Accuracy: 0.7662393162393162\n",
            "   Precision    Recall  F1 Score  Accuracy\n",
            "0   0.838384  0.777778  0.741236  0.777778\n",
            "1   0.853480  0.807692  0.752005  0.807692\n",
            "2   0.853480  0.807692  0.752005  0.807692\n",
            "3   0.876923  0.846154  0.816239  0.846154\n",
            "4   0.593407  0.692308  0.630829  0.692308\n",
            "5   0.752331  0.692308  0.629863  0.692308\n",
            "6   0.565934  0.730769  0.634615  0.730769\n",
            "7   0.788462  0.807692  0.780886  0.807692\n",
            "8   0.835165  0.769231  0.717643  0.769231\n",
            "9   0.719973  0.730769  0.698190  0.730769\n"
          ]
        }
      ],
      "source": [
        "# Load the CSV file\n",
        "df = pd.read_csv('2023/sentiment_output2_2023.csv')\n",
        "\n",
        "# Prepare the features and the target variable\n",
        "X = df['comments']\n",
        "y = LabelEncoder().fit_transform(df['sentiment_label'])\n",
        "\n",
        "# Load your word embeddings\n",
        "with open('2023/word2vec_model_2023.pkl', 'rb') as f:\n",
        "    word_embeddings = pickle.load(f)\n",
        "\n",
        "# Transform the comments into word embeddings\n",
        "# Transform the comments into word embeddings\n",
        "X = np.array([np.mean([word_embeddings.wv[word] for word in comment.split() if word in word_embeddings.wv], axis=0) for comment in X])\n",
        "\n",
        "# Initialize the classifier\n",
        "clf = SVC(C=1.0, kernel='linear', gamma='scale')\n",
        "\n",
        "# Define the cross-validation strategy\n",
        "cv = StratifiedKFold(n_splits=10)\n",
        "\n",
        "# Calculate cross-validation scores\n",
        "precision = cross_val_score(clf, X, y, cv=cv, scoring=make_scorer(precision_score, pos_label=1, average='weighted'))\n",
        "recall = cross_val_score(clf, X, y, cv=cv, scoring=make_scorer(recall_score, pos_label=1, average='weighted'))\n",
        "f1 = cross_val_score(clf, X, y, cv=cv, scoring=make_scorer(f1_score, pos_label=1, average='weighted'))\n",
        "accuracy = cross_val_score(clf, X, y, cv=cv, scoring='accuracy')\n",
        "\n",
        "# Print the average scores\n",
        "print(f'Precision: {precision.mean()}',f'Recall: {recall.mean()}',f'F1 score: {f1.mean()}',f'Accuracy: {accuracy.mean()}')\n",
        "\n",
        "# Create a dictionary with the scores\n",
        "scores = {\n",
        "    'Precision': precision,\n",
        "    'Recall': recall,\n",
        "    'F1 Score': f1,\n",
        "    'Accuracy': accuracy\n",
        "}\n",
        "\n",
        "# Create a DataFrame from the dictionary\n",
        "df_scores = pd.DataFrame(scores)\n",
        "\n",
        "# Print the DataFrame\n",
        "print(df_scores)"
      ]
    },
    {
      "cell_type": "markdown",
      "metadata": {
        "id": "Yid8IdzRcSZW"
      },
      "source": [
        "\n",
        "```\n",
        "`10-fold Cross` Validation `TF-IDF`\n",
        "```\n"
      ]
    },
    {
      "cell_type": "code",
      "execution_count": 52,
      "metadata": {
        "id": "Ib9HNyHWccoA",
        "colab": {
          "base_uri": "https://localhost:8080/"
        },
        "outputId": "6b802295-bb5f-40bc-e956-597e44888f3d"
      },
      "outputs": [
        {
          "output_type": "stream",
          "name": "stdout",
          "text": [
            "Precision: 0.8462770930209441 Recall: 0.8504273504273504 F1 score: 0.8403236122787258 Accuracy: 0.8504273504273504\n",
            "   Precision    Recall  F1 Score  Accuracy\n",
            "0   0.890947  0.888889  0.884149  0.888889\n",
            "1   0.902834  0.884615  0.870330  0.884615\n",
            "2   0.881448  0.884615  0.881119  0.884615\n",
            "3   0.799095  0.807692  0.801865  0.807692\n",
            "4   0.850679  0.846154  0.845155  0.846154\n",
            "5   0.747436  0.769231  0.746503  0.769231\n",
            "6   0.724696  0.769231  0.720588  0.769231\n",
            "7   0.895604  0.884615  0.888390  0.884615\n",
            "8   0.925481  0.923077  0.921561  0.923077\n",
            "9   0.844551  0.846154  0.843577  0.846154\n"
          ]
        }
      ],
      "source": [
        "# Load the CSV file\n",
        "df = pd.read_csv('2023/sentiment_output2_2023.csv')\n",
        "\n",
        "# Prepare the features and the target variable\n",
        "X = df['comments']\n",
        "y = LabelEncoder().fit_transform(df['sentiment_label'])\n",
        "\n",
        "# Transform the comments into TF-IDF vectors\n",
        "with open('2023/tfidf_vectorizer_2023.pkl', 'rb') as f:\n",
        "    vectorizer = pickle.load(f)\n",
        "X = vectorizer.transform(X)\n",
        "\n",
        "# Initialize the classifier\n",
        "clf = SVC(C=1.0, kernel='linear', gamma='scale')\n",
        "\n",
        "# Define the cross-validation strategy\n",
        "cv = StratifiedKFold(n_splits=10)\n",
        "\n",
        "\n",
        "# Calculate cross-validation scores\n",
        "precision = cross_val_score(clf, X, y, cv=cv, scoring=make_scorer(precision_score, pos_label=1, average='weighted'))\n",
        "recall = cross_val_score(clf, X, y, cv=cv, scoring=make_scorer(recall_score, pos_label=1, average='weighted'))\n",
        "f1 = cross_val_score(clf, X, y, cv=cv, scoring=make_scorer(f1_score, pos_label=1, average='weighted'))\n",
        "accuracy = cross_val_score(clf, X, y, cv=cv, scoring='accuracy')\n",
        "\n",
        "# Print the average scores\n",
        "print(f'Precision: {precision.mean()}',f'Recall: {recall.mean()}',f'F1 score: {f1.mean()}',f'Accuracy: {accuracy.mean()}')\n",
        "\n",
        "# Create a dictionary with the scores\n",
        "scores = {\n",
        "    'Precision': precision,\n",
        "    'Recall': recall,\n",
        "    'F1 Score': f1,\n",
        "    'Accuracy': accuracy\n",
        "}\n",
        "\n",
        "# Create a DataFrame from the dictionary\n",
        "df_scores = pd.DataFrame(scores)\n",
        "\n",
        "# Print the DataFrame\n",
        "print(df_scores)"
      ]
    },
    {
      "cell_type": "markdown",
      "metadata": {
        "id": "7QwYoZOyc0BI"
      },
      "source": [
        "#`Random Forests`"
      ]
    },
    {
      "cell_type": "markdown",
      "metadata": {
        "id": "xh4M6wIqc51C"
      },
      "source": [
        "\n",
        "```\n",
        "Classifier `Random Forests` trained by the `TF-IDF`\n",
        "```\n"
      ]
    },
    {
      "cell_type": "code",
      "execution_count": 53,
      "metadata": {
        "id": "7So6kgLGdC0T",
        "colab": {
          "base_uri": "https://localhost:8080/"
        },
        "outputId": "e3156ecf-1377-4edf-96fc-f92a39129fba"
      },
      "outputs": [
        {
          "output_type": "stream",
          "name": "stdout",
          "text": [
            "Validation Accuracy: 0.8854961832061069\n"
          ]
        }
      ],
      "source": [
        "# Initialize the Random Forest classifier\n",
        "clf_rf = RandomForestClassifier(n_estimators=100, random_state=42)\n",
        "\n",
        "df_train_tf = pd.read_csv('2023/train_2023.tsv', sep=',')\n",
        "\n",
        "# Extract the 'sentiment_label' column\n",
        "sentiment_labels_train = df_train_tf['sentiment_label']\n",
        "\n",
        "# Split your training data into training and validation sets\n",
        "X_train, X_val, y_train, y_val = train_test_split(tfidf_matrix_train, sentiment_labels_train, test_size=0.2, random_state=42)\n",
        "\n",
        "# Train the Random Forest classifier using your training data\n",
        "clf_rf.fit(X_train, y_train)\n",
        "\n",
        "# Evaluate the classifier on your validation data\n",
        "accuracy = clf_rf.score(X_val, y_val)\n",
        "print('Validation Accuracy:', accuracy)"
      ]
    },
    {
      "cell_type": "markdown",
      "metadata": {
        "id": "-OVdGD2QdMzW"
      },
      "source": [
        "\n",
        "```\n",
        "Classifier `Ramdom Forests` trained by the `Word embeddings`\n",
        "```\n"
      ]
    },
    {
      "cell_type": "code",
      "execution_count": 54,
      "metadata": {
        "id": "eR6W1-GRdYvG",
        "colab": {
          "base_uri": "https://localhost:8080/"
        },
        "outputId": "6937d46c-0943-451a-912b-074c2c8e877e"
      },
      "outputs": [
        {
          "output_type": "stream",
          "name": "stdout",
          "text": [
            "Validation Accuracy: 0.5660377358490566\n"
          ]
        }
      ],
      "source": [
        "# Load the Word2Vec model\n",
        "with open('2023/word2vec_model_2023.pkl', 'rb') as f:\n",
        "    model = pickle.load(f)\n",
        "\n",
        "# Convert the tokenized comments into vectors\n",
        "vectorized_comments_train = [model.wv[comment] for comment in tokenized_comments_train]\n",
        "\n",
        "# Average the word vectors for each comment to get a single vector per comment\n",
        "vectorized_comments_train = [np.mean(comment, axis=0) for comment in vectorized_comments_train]\n",
        "\n",
        "# Extract the 'sentiment_label' column\n",
        "sentiment_labels_train = df_sentiment['sentiment_label']\n",
        "\n",
        "# Ensure that vectorized_comments_train and sentiment_labels_train have the same length\n",
        "if len(vectorized_comments_train) != len(sentiment_labels_train):\n",
        "    min_len = min(len(vectorized_comments_train), len(sentiment_labels_train))\n",
        "    vectorized_comments_train = vectorized_comments_train[:min_len]\n",
        "    sentiment_labels_train = sentiment_labels_train[:min_len]\n",
        "\n",
        "# Split your training data into training and validation sets\n",
        "X_train, X_val, y_train, y_val = train_test_split(vectorized_comments_train, sentiment_labels_train, test_size=0.2, random_state=42)\n",
        "\n",
        "# Initialize the Random Forest classifier\n",
        "clf_rf = RandomForestClassifier(n_estimators=100, random_state=42)\n",
        "\n",
        "# Train the Random Forest classifier using your training data\n",
        "clf_rf.fit(X_train, y_train)\n",
        "\n",
        "# Evaluate the classifier on your validation data\n",
        "accuracy = clf_rf.score(X_val, y_val)\n",
        "print('Validation Accuracy:', accuracy)"
      ]
    },
    {
      "cell_type": "markdown",
      "metadata": {
        "id": "Noa0RlNJdtCq"
      },
      "source": [
        "\n",
        "```\n",
        "`10-fold Cross` Validation `Word embeddings`\n",
        "```\n"
      ]
    },
    {
      "cell_type": "code",
      "execution_count": 55,
      "metadata": {
        "id": "ycct99_oduLV",
        "colab": {
          "base_uri": "https://localhost:8080/"
        },
        "outputId": "09c7fe09-ba84-4d21-e927-68e46ddbb4a6"
      },
      "outputs": [
        {
          "output_type": "stream",
          "name": "stdout",
          "text": [
            "Precision: 0.803490986138045 Recall: 0.8047008547008547 F1 score: 0.7920892471656046 Accuracy: 0.8047008547008547\n",
            "   Precision    Recall  F1 Score  Accuracy\n",
            "0   0.773392  0.777778  0.760462  0.777778\n",
            "1   0.799095  0.807692  0.801865  0.807692\n",
            "2   0.881448  0.884615  0.881119  0.884615\n",
            "3   0.902834  0.884615  0.870330  0.884615\n",
            "4   0.755061  0.769231  0.751648  0.769231\n",
            "5   0.765352  0.730769  0.720652  0.730769\n",
            "6   0.744344  0.769231  0.750962  0.769231\n",
            "7   0.805882  0.807692  0.801622  0.807692\n",
            "8   0.801619  0.807692  0.782554  0.807692\n",
            "9   0.805882  0.807692  0.799679  0.807692\n"
          ]
        }
      ],
      "source": [
        "# Load the CSV file\n",
        "df = pd.read_csv('2023/sentiment_output2_2023.csv')\n",
        "\n",
        "# Prepare the features and the target variable\n",
        "X = df['comments']\n",
        "y = LabelEncoder().fit_transform(df['sentiment_label'])\n",
        "\n",
        "# Load your word embeddings\n",
        "with open('2023/word2vec_model_2023.pkl', 'rb') as f:\n",
        "    word_embeddings = pickle.load(f)\n",
        "\n",
        "# Transform the comments into word embeddings\n",
        "X = np.array([np.mean([word_embeddings.wv[word] for word in comment.split() if word in word_embeddings.wv], axis=0) for comment in X])\n",
        "\n",
        "# Initialize the Random Forest classifier\n",
        "clf_rf = RandomForestClassifier(n_estimators=100, random_state=42)\n",
        "\n",
        "# Define the cross-validation strategy\n",
        "cv = StratifiedKFold(n_splits=10)\n",
        "\n",
        "# Calculate cross-validation scores\n",
        "precision = cross_val_score(clf_rf, X, y, cv=cv, scoring=make_scorer(precision_score, pos_label=1, average='weighted'))\n",
        "recall = cross_val_score(clf_rf, X, y, cv=cv, scoring=make_scorer(recall_score, pos_label=1, average='weighted'))\n",
        "f1 = cross_val_score(clf_rf, X, y, cv=cv, scoring=make_scorer(f1_score, pos_label=1, average='weighted'))\n",
        "accuracy = cross_val_score(clf_rf, X, y, cv=cv, scoring='accuracy')\n",
        "\n",
        "# Print the average scores\n",
        "print(f'Precision: {precision.mean()}',f'Recall: {recall.mean()}',f'F1 score: {f1.mean()}',f'Accuracy: {accuracy.mean()}')\n",
        "\n",
        "# Create a dictionary with the scores\n",
        "scores = {\n",
        "    'Precision': precision,\n",
        "    'Recall': recall,\n",
        "    'F1 Score': f1,\n",
        "    'Accuracy': accuracy\n",
        "}\n",
        "\n",
        "# Create a DataFrame from the dictionary\n",
        "df_scores = pd.DataFrame(scores)\n",
        "\n",
        "# Print the DataFrame\n",
        "print(df_scores)"
      ]
    },
    {
      "cell_type": "markdown",
      "metadata": {
        "id": "h8mZ4p72d4S0"
      },
      "source": [
        "\n",
        "```\n",
        "`10-fold Cross` Validation `TF-IDF`\n",
        "```\n"
      ]
    },
    {
      "cell_type": "code",
      "execution_count": 56,
      "metadata": {
        "id": "LrwTHvN-eG7V",
        "colab": {
          "base_uri": "https://localhost:8080/"
        },
        "outputId": "773cbda2-31eb-4ae0-d0e4-8ff93580b2e8"
      },
      "outputs": [
        {
          "output_type": "stream",
          "name": "stdout",
          "text": [
            "Precision: 0.8663083716392539 Recall: 0.8582621082621082 F1 score: 0.8516548328382523 Accuracy: 0.8582621082621082\n",
            "   Precision    Recall  F1 Score  Accuracy\n",
            "0   0.874074  0.851852  0.856673  0.851852\n",
            "1   0.923077  0.923077  0.923077  0.923077\n",
            "2   0.893040  0.884615  0.887192  0.884615\n",
            "3   0.893040  0.884615  0.887192  0.884615\n",
            "4   0.850679  0.846154  0.845155  0.846154\n",
            "5   0.791101  0.807692  0.790865  0.807692\n",
            "6   0.817308  0.769231  0.714286  0.769231\n",
            "7   0.895604  0.884615  0.888390  0.884615\n",
            "8   0.925481  0.923077  0.921561  0.923077\n",
            "9   0.799679  0.807692  0.802157  0.807692\n"
          ]
        }
      ],
      "source": [
        "# Load the CSV file\n",
        "df = pd.read_csv('2023/sentiment_output2_2023.csv')\n",
        "\n",
        "# Prepare the features and the target variable\n",
        "X = df['comments']\n",
        "y = LabelEncoder().fit_transform(df['sentiment_label'])\n",
        "\n",
        "# Transform the comments into TF-IDF vectors\n",
        "with open('2023/tfidf_vectorizer_2023.pkl', 'rb') as f:\n",
        "    vectorizer = pickle.load(f)\n",
        "X = vectorizer.transform(X)\n",
        "\n",
        "# Initialize the Random Forest classifier\n",
        "clf_rf = RandomForestClassifier(n_estimators=100, random_state=42)\n",
        "\n",
        "# Define the cross-validation strategy\n",
        "cv = StratifiedKFold(n_splits=10)\n",
        "\n",
        "# Calculate cross-validation scores\n",
        "precision = cross_val_score(clf_rf, X, y, cv=cv, scoring=make_scorer(precision_score, pos_label=1, average='weighted'))\n",
        "recall = cross_val_score(clf_rf, X, y, cv=cv, scoring=make_scorer(recall_score, pos_label=1, average='weighted'))\n",
        "f1 = cross_val_score(clf_rf, X, y, cv=cv, scoring=make_scorer(f1_score, pos_label=1, average='weighted'))\n",
        "accuracy = cross_val_score(clf_rf, X, y, cv=cv, scoring='accuracy')\n",
        "\n",
        "# Print the average scores\n",
        "print(f'Precision: {precision.mean()}',f'Recall: {recall.mean()}',f'F1 score: {f1.mean()}',f'Accuracy: {accuracy.mean()}')\n",
        "\n",
        "# Create a dictionary with the scores\n",
        "scores = {\n",
        "    'Precision': precision,\n",
        "    'Recall': recall,\n",
        "    'F1 Score': f1,\n",
        "    'Accuracy': accuracy\n",
        "}\n",
        "\n",
        "# Create a DataFrame from the dictionary\n",
        "df_scores = pd.DataFrame(scores)\n",
        "\n",
        "# Print the DataFrame\n",
        "print(df_scores)"
      ]
    },
    {
      "cell_type": "markdown",
      "metadata": {
        "id": "HBDVznlVeWKo"
      },
      "source": [
        "#`KNN`"
      ]
    },
    {
      "cell_type": "markdown",
      "metadata": {
        "id": "kJY8_Z1WecMw"
      },
      "source": [
        "\n",
        "```\n",
        "Classifier `KNN` trained by the `TF-IDF`\n",
        "```\n"
      ]
    },
    {
      "cell_type": "code",
      "execution_count": 57,
      "metadata": {
        "id": "RfYsuOK0ekH1",
        "colab": {
          "base_uri": "https://localhost:8080/"
        },
        "outputId": "1aa73038-e078-4911-8ad8-8e36e85e2486"
      },
      "outputs": [
        {
          "output_type": "stream",
          "name": "stdout",
          "text": [
            "Validation Accuracy: 0.7938931297709924\n"
          ]
        }
      ],
      "source": [
        "# Initialize the KNN classifier\n",
        "clf_knn = KNeighborsClassifier(n_neighbors=5)\n",
        "\n",
        "df_train_tf = pd.read_csv('2023/train_2023.tsv', sep=',')\n",
        "\n",
        "# Extract the 'sentiment_label' column\n",
        "sentiment_labels_train = df_train_tf['sentiment_label']\n",
        "\n",
        "# Split your training data into training and validation sets\n",
        "X_train, X_val, y_train, y_val = train_test_split(tfidf_matrix_train, sentiment_labels_train, test_size=0.2, random_state=42)\n",
        "\n",
        "# Train the KNN classifier using your training data\n",
        "clf_knn.fit(X_train, y_train)\n",
        "\n",
        "# Evaluate the classifier on your validation data\n",
        "accuracy = clf_knn.score(X_val, y_val)\n",
        "print('Validation Accuracy:', accuracy)"
      ]
    },
    {
      "cell_type": "markdown",
      "metadata": {
        "id": "GzQZB_kMeufD"
      },
      "source": [
        "\n",
        "```\n",
        "Classifier `KNN` trained by the `Word embeddings`\n",
        "```\n"
      ]
    },
    {
      "cell_type": "code",
      "execution_count": 58,
      "metadata": {
        "id": "96ElPb51e3ms",
        "colab": {
          "base_uri": "https://localhost:8080/"
        },
        "outputId": "87a4bc70-f96c-4935-ece8-5d56f6fc9220"
      },
      "outputs": [
        {
          "output_type": "stream",
          "name": "stdout",
          "text": [
            "Validation Accuracy: 0.41509433962264153\n"
          ]
        }
      ],
      "source": [
        "# Load the Word2Vec model\n",
        "with open('2023/word2vec_model_2023.pkl', 'rb') as f:\n",
        "    model = pickle.load(f)\n",
        "\n",
        "# Convert the tokenized comments into vectors\n",
        "vectorized_comments_train = [model.wv[comment] for comment in tokenized_comments_train]\n",
        "\n",
        "# Average the word vectors for each comment to get a single vector per comment\n",
        "vectorized_comments_train = [np.mean(comment, axis=0) for comment in vectorized_comments_train]\n",
        "\n",
        "# Extract the 'sentiment_label' column\n",
        "sentiment_labels_train = df_sentiment['sentiment_label']\n",
        "\n",
        "# Ensure that vectorized_comments_train and sentiment_labels_train have the same length\n",
        "if len(vectorized_comments_train) != len(sentiment_labels_train):\n",
        "    min_len = min(len(vectorized_comments_train), len(sentiment_labels_train))\n",
        "    vectorized_comments_train = vectorized_comments_train[:min_len]\n",
        "    sentiment_labels_train = sentiment_labels_train[:min_len]\n",
        "\n",
        "# Split your training data into training and validation sets\n",
        "X_train, X_val, y_train, y_val = train_test_split(vectorized_comments_train, sentiment_labels_train, test_size=0.2, random_state=42)\n",
        "\n",
        "# Initialize the KNN classifier\n",
        "clf_knn = KNeighborsClassifier(n_neighbors=5)\n",
        "\n",
        "# Train the KNN classifier using your training data\n",
        "clf_knn.fit(X_train, y_train)\n",
        "\n",
        "# Evaluate the classifier on your validation data\n",
        "accuracy = clf_knn.score(X_val, y_val)\n",
        "print('Validation Accuracy:', accuracy)"
      ]
    },
    {
      "cell_type": "markdown",
      "metadata": {
        "id": "xU1PVQaFfAqW"
      },
      "source": [
        "\n",
        "```\n",
        "`10-fold Cross` Validation `Word embeddings`\n",
        "```\n"
      ]
    },
    {
      "cell_type": "code",
      "execution_count": 59,
      "metadata": {
        "id": "r5Q0LBgZfJnB",
        "colab": {
          "base_uri": "https://localhost:8080/"
        },
        "outputId": "e6c4c7ba-aa21-4f4c-ebe2-f6810532e39a"
      },
      "outputs": [
        {
          "output_type": "stream",
          "name": "stdout",
          "text": [
            "Precision: 0.8133810149115878 Recall: 0.8047008547008547 F1 score: 0.7925797155337855 Accuracy: 0.8047008547008547\n",
            "   Precision    Recall  F1 Score  Accuracy\n",
            "0   0.787037  0.777778  0.762225  0.777778\n",
            "1   0.802941  0.807692  0.797358  0.807692\n",
            "2   0.902834  0.884615  0.870330  0.884615\n",
            "3   0.902834  0.884615  0.870330  0.884615\n",
            "4   0.805128  0.807692  0.800729  0.807692\n",
            "5   0.659799  0.653846  0.649313  0.653846\n",
            "6   0.756410  0.769231  0.752758  0.769231\n",
            "7   0.846154  0.846154  0.833877  0.846154\n",
            "8   0.855769  0.807692  0.780830  0.807692\n",
            "9   0.814904  0.807692  0.808047  0.807692\n"
          ]
        }
      ],
      "source": [
        "# Load the CSV file\n",
        "df = pd.read_csv('2023/sentiment_output2_2023.csv')\n",
        "\n",
        "# Prepare the features and the target variable\n",
        "X = df['comments']\n",
        "y = LabelEncoder().fit_transform(df['sentiment_label'])\n",
        "\n",
        "# Load your word embeddings\n",
        "with open('2023/word2vec_model_2023.pkl', 'rb') as f:\n",
        "    word_embeddings = pickle.load(f)\n",
        "\n",
        "# Transform the comments into word embeddings\n",
        "X = np.array([np.mean([word_embeddings.wv[word] for word in comment.split() if word in word_embeddings.wv], axis=0) for comment in X])\n",
        "\n",
        "# Initialize the KNN classifier\n",
        "clf_knn = KNeighborsClassifier(n_neighbors=5)\n",
        "\n",
        "# Define the cross-validation strategy\n",
        "cv = StratifiedKFold(n_splits=10)\n",
        "\n",
        "# Calculate cross-validation scores\n",
        "precision = cross_val_score(clf_knn, X, y, cv=cv, scoring=make_scorer(precision_score, pos_label=1, average='weighted'))\n",
        "recall = cross_val_score(clf_knn, X, y, cv=cv, scoring=make_scorer(recall_score, pos_label=1, average='weighted'))\n",
        "f1 = cross_val_score(clf_knn, X, y, cv=cv, scoring=make_scorer(f1_score, pos_label=1, average='weighted'))\n",
        "accuracy = cross_val_score(clf_knn, X, y, cv=cv, scoring='accuracy')\n",
        "\n",
        "# Print the average scores\n",
        "print(f'Precision: {precision.mean()}',f'Recall: {recall.mean()}',f'F1 score: {f1.mean()}',f'Accuracy: {accuracy.mean()}')\n",
        "\n",
        "# Create a dictionary with the scores\n",
        "scores = {\n",
        "    'Precision': precision,\n",
        "    'Recall': recall,\n",
        "    'F1 Score': f1,\n",
        "    'Accuracy': accuracy\n",
        "}\n",
        "\n",
        "# Create a DataFrame from the dictionary\n",
        "df_scores = pd.DataFrame(scores)\n",
        "\n",
        "# Print the DataFrame\n",
        "print(df_scores)"
      ]
    },
    {
      "cell_type": "markdown",
      "metadata": {
        "id": "DrKKiwZYfRhw"
      },
      "source": [
        "\n",
        "```\n",
        "`10-fold Cross` Validation `TF-IDF`\n",
        "```\n"
      ]
    },
    {
      "cell_type": "code",
      "execution_count": 60,
      "metadata": {
        "id": "XS08fsggfbXL",
        "colab": {
          "base_uri": "https://localhost:8080/"
        },
        "outputId": "75e657a2-cb80-4d1e-9be1-fbf16b76f80a"
      },
      "outputs": [
        {
          "output_type": "stream",
          "name": "stdout",
          "text": [
            "Precision: 0.7652173871497917 Recall: 0.774074074074074 F1 score: 0.7484022926057239 Accuracy: 0.774074074074074\n",
            "   Precision    Recall  F1 Score  Accuracy\n",
            "0   0.728395  0.740741  0.708642  0.740741\n",
            "1   0.747863  0.769231  0.752941  0.769231\n",
            "2   0.839744  0.846154  0.835294  0.846154\n",
            "3   0.678632  0.730769  0.694822  0.730769\n",
            "4   0.661538  0.692308  0.661783  0.692308\n",
            "5   0.793590  0.807692  0.788462  0.807692\n",
            "6   0.788462  0.807692  0.780886  0.807692\n",
            "7   0.710407  0.730769  0.714904  0.730769\n",
            "8   0.855769  0.807692  0.780830  0.807692\n",
            "9   0.847773  0.807692  0.765460  0.807692\n"
          ]
        }
      ],
      "source": [
        "# Load the CSV file\n",
        "df = pd.read_csv('2023/sentiment_output2_2023.csv')\n",
        "\n",
        "# Prepare the features and the target variable\n",
        "X = df['comments']\n",
        "y = LabelEncoder().fit_transform(df['sentiment_label'])\n",
        "\n",
        "# Transform the comments into TF-IDF vectors\n",
        "with open('2023/tfidf_vectorizer_2023.pkl', 'rb') as f:\n",
        "    vectorizer = pickle.load(f)\n",
        "X = vectorizer.transform(X)\n",
        "\n",
        "# Initialize the KNN classifier\n",
        "clf_knn = KNeighborsClassifier(n_neighbors=5)\n",
        "\n",
        "# Define the cross-validation strategy\n",
        "cv = StratifiedKFold(n_splits=10)\n",
        "\n",
        "# Calculate cross-validation scores\n",
        "precision = cross_val_score(clf_knn, X, y, cv=cv, scoring=make_scorer(precision_score, pos_label=1, average='weighted'))\n",
        "recall = cross_val_score(clf_knn, X, y, cv=cv, scoring=make_scorer(recall_score, pos_label=1, average='weighted'))\n",
        "f1 = cross_val_score(clf_knn, X, y, cv=cv, scoring=make_scorer(f1_score, pos_label=1, average='weighted'))\n",
        "accuracy = cross_val_score(clf_knn, X, y, cv=cv, scoring='accuracy')\n",
        "\n",
        "# Print the average scores\n",
        "print(f'Precision: {precision.mean()}',f'Recall: {recall.mean()}',f'F1 score: {f1.mean()}',f'Accuracy: {accuracy.mean()}')\n",
        "\n",
        "# Create a dictionary with the scores\n",
        "scores = {\n",
        "    'Precision': precision,\n",
        "    'Recall': recall,\n",
        "    'F1 Score': f1,\n",
        "    'Accuracy': accuracy\n",
        "}\n",
        "\n",
        "# Create a DataFrame from the dictionary\n",
        "df_scores = pd.DataFrame(scores)\n",
        "\n",
        "# Print the DataFrame\n",
        "print(df_scores)"
      ]
    },
    {
      "cell_type": "markdown",
      "source": [
        "**Αξιολόγηση Ταξινομητών**:<br/><br/>\n",
        "\n",
        "**SVM:**\n",
        "Σύμφωνα με τα αποτελέσματα η μέθοδος με την χρήση TF-IDF είναι καλύτερη απο την χρήση της μεθόδου Word embeddings όσον αφορά τις τιμές των Precision, Recall, F1 Score, and Accuracy. Συγκεκριμένα η μέθοδος Word embeddings έχει κατά μέσο όρο για τις τιμές αυτές αντίστοιχα 0.74,  0.79,  0.73,  0.79, ενώ η μέθοδος TF-IDF έχει για τις τιμές αυτές αντίστοιχα κατά μέσο όρο 0.85, 0.84, 0.82, 0.84 . Οπότε οι επιδόσεις της μεθόδου με τον πίνακα TF-IDF φαίνεται να είναι καλύτερες καθιστώντας την πιο αξιόπιστη στον ταξινομητή αυτόν.<br/><br/>\n",
        "\n",
        "**Random Forests:**\n",
        "Σύμφωνα με τα αποτελέσματα η μέθοδος με την χρήση TF-IDF είναι καλύτερη απο την χρήση της μεθόδου Word embeddings όσον αφορά τις τιμές των Precision, Recall, F1 Score, and Accuracy. Συγκεκριμένα η μέθοδος Word embeddings έχει κατά μέσο όρο για τις τιμές αυτές αντίστοιχα 0.77,  0.79,  0.77,  0.79, ενώ η μέθοδος TF-IDF έχει για τις τιμές αυτές αντίστοιχα κατά μέσο όρο 0.86, 0.85, 0.85, 0.85 . Οπότε οι επιδόσεις της μεθόδου με τo TF-IDF φαίνεται να είναι καλύτερες καθιστώντας την πιο αξιόπιστη στον ταξινομητή αυτόν.<br/><br/>\n",
        "\n",
        "**KNN**:\n",
        "Σύμφωνα με τα αποτελέσματα η μέθοδος με την χρήση TF-IDF είναι καλύτερη απο την χρήση της μεθόδου Word embeddings όσον αφορά τις τιμές των Precision, Recall, F1 Score, and Accuracy. Συγκεκριμένα η μέθοδος Word embeddings έχει κατά μέσο όρο για τις τιμές αυτές αντίστοιχα  0.72,  0.77,  0.73,  0.77, ενώ η μέθοδος TF-IDF έχει για τις τιμές αυτές αντίστοιχα κατά μέσο όρο 0.74,  0.79,  0.73, 0.79 . Οπότε οι επιδόσεις της μεθόδου με το Word Embeddings φαίνεται να είναι καλύτερες καθιστώντας την πιο αξιόπιστη στον ταξινομητή αυτόν.<br/><br/>\n",
        "\n",
        "Επομένως προκύπτει ότι ο καταλληλότερος και πιο αξιόπιστος γιαυτά τα δεδομένα ταξινομητής είναι ο Random Forests με την χρήση πίνακα TF-IDF."
      ],
      "metadata": {
        "id": "nhL31jyRKq50"
      }
    },
    {
      "cell_type": "markdown",
      "metadata": {
        "id": "0-_6s9ukfjVr"
      },
      "source": [
        "#QUESTION 3"
      ]
    },
    {
      "cell_type": "code",
      "execution_count": 71,
      "metadata": {
        "id": "CjspF9hRfpys"
      },
      "outputs": [],
      "source": [
        "# Loading the pretrained Word2Vec model\n",
        "with open('2023/word2vec_model_2023.pkl', 'rb') as f:\n",
        "    model = pickle.load(f)\n",
        "\n",
        "# Function to calculate cosine similarity\n",
        "def cosine_similarity(v1, v2):\n",
        "    return 1 - cosine(v1, v2)\n",
        "\n",
        "# Function to find the semantic neighborhood of a word\n",
        "def get_neighborhood(word, N, words):\n",
        "    most_similar_words = model.wv.most_similar(word, topn=N*100)\n",
        "\n",
        "    neighbourhood = [word for word, _ in most_similar_words if word in words]\n",
        "\n",
        "    if len(neighbourhood) > N:\n",
        "      neighbourhood = neighbourhood[:N]\n",
        "\n",
        "    return neighbourhood\n",
        "\n",
        "# Function to calculate the similarity based on the maximum similarity of the neighborhoods\n",
        "def max_similarity_of_neighborhoods(neighborhood1, neighborhood2, words, similarity_matrix, word1, word2):\n",
        "    max_sim1 = 0\n",
        "    max_sim2 = 0\n",
        "\n",
        "    for word in neighborhood1:\n",
        "        sim = similarity_matrix[words.index(word2)][words.index(word)]\n",
        "        if sim > max_sim2:\n",
        "          max_sim2 = sim\n",
        "\n",
        "    for word in neighborhood2:\n",
        "        sim = similarity_matrix[words.index(word1)][words.index(word)]\n",
        "        if sim > max_sim1:\n",
        "          max_sim1 = sim\n",
        "\n",
        "    if max_sim1 > max_sim2:\n",
        "      return max_sim1\n",
        "    else:\n",
        "      return max_sim2\n",
        "\n",
        "# Function to calculate the similarity based on the correlation of the similarities of the neighborhoods\n",
        "def correlation_of_neighborhood_similarities(neighborhood1, neighborhood2, words, similarity_matrix):\n",
        "    sims1 = [similarity_matrix[words.index(word)][words.index(neighborhood1[0])] for word in neighborhood1]\n",
        "    sims2 = [similarity_matrix[words.index(word)][words.index(neighborhood2[0])] for word in neighborhood2]\n",
        "    return np.corrcoef(sims1, sims2)[0, 1]\n",
        "\n",
        "# Function to calculate the similarity based on the sum of the squares of the similarities of the neighborhoods\n",
        "def sum_of_squared_neighborhood_similarities(neighborhood1, neighborhood2, words, similarity_matrix, word1, word2):\n",
        "    max_sim1 = 0\n",
        "    max_sim2 = 0\n",
        "\n",
        "    for word in neighborhood1:\n",
        "        sim = similarity_matrix[words.index(word2)][words.index(word)]\n",
        "        max_sim2 = max_sim2 +  sim ** 2\n",
        "\n",
        "    for word in neighborhood2:\n",
        "        sim = similarity_matrix[words.index(word1)][words.index(word)]\n",
        "        max_sim1 = max_sim1 +  sim ** 2\n",
        "\n",
        "    return np.sqrt((max_sim1 + max_sim2))\n",
        "\n",
        "# Main function that combines all of the above\n",
        "def compute_similarities(word1, word2, N, words, similarity_matrix):\n",
        "    neighborhood1 = get_neighborhood(word1, N, words)\n",
        "    neighborhood2 = get_neighborhood(word2, N, words)\n",
        "\n",
        "    max_sim = max_similarity_of_neighborhoods(neighborhood1, neighborhood2, words, similarity_matrix, word1, word2)\n",
        "    corr_sim = correlation_of_neighborhood_similarities(neighborhood1, neighborhood2, words, similarity_matrix)\n",
        "    sum_squares_sim = sum_of_squared_neighborhood_similarities(neighborhood1, neighborhood2, words, similarity_matrix, word1, word2)\n",
        "\n",
        "    return {\n",
        "        'max_similarity_of_neighborhoods': max_sim,\n",
        "        'correlation_of_neighborhood_similarities': corr_sim,\n",
        "        'sum_of_squared_neighborhood_similarities': sum_squares_sim\n",
        "    }"
      ]
    },
    {
      "cell_type": "code",
      "source": [
        "# Loading the pretrained Word2Vec model\n",
        "with open('2023/word2vec_model_2023.pkl', 'rb') as f:\n",
        "    model = pickle.load(f)\n",
        "\n",
        "df = pd.read_csv('2023/reviews_output_2023.csv')\n",
        "\n",
        "# Flatten the list of words in the 'comments' column\n",
        "words = [word for sublist in df['comments'].str.split() for word in sublist]\n",
        "\n",
        "# Count the frequency of each word\n",
        "word_count = Counter(words)\n",
        "\n",
        "# Get the 300 most common words\n",
        "most_common_words = dict(word_count.most_common(300))\n",
        "\n",
        "# Get the list of the 300 most common words\n",
        "words = list(most_common_words.keys())\n",
        "print(words)\n",
        "\n",
        "# Create a matrix where each row is the Word2Vec vector of a word\n",
        "word_vectors = np.array([model.wv[word] for word in words if word in model.wv])\n",
        "\n",
        "# Calculate the cosine similarity matrix\n",
        "similarity_matrix = sklearn_cosine_similarity(word_vectors)\n",
        "\n",
        "N = int(input(\"Give the N: \"))\n",
        "\n",
        "while True:\n",
        "    word1 = input(\"Enter the first word: \")\n",
        "    word2 = input(\"Enter the second word: \")\n",
        "\n",
        "    if word1 in words and word2 in words:\n",
        "        similarities = compute_similarities(word1, word2, N, words, similarity_matrix)\n",
        "        print(similarities)\n",
        "\n",
        "        neighborhood = get_neighborhood(word1, N, words)\n",
        "        print(f\"The {N}-neighborhood of the word '{word1}' is: {neighborhood}\")\n",
        "        neighborhood = get_neighborhood(word2, N, words)\n",
        "        print(f\"The {N}-neighborhood of the word '{word2}' is: {neighborhood}\")\n",
        "        break\n",
        "    else:\n",
        "        print(\"One or both of the words are not in the dictionary. Please enter new words.\")"
      ],
      "metadata": {
        "colab": {
          "base_uri": "https://localhost:8080/"
        },
        "id": "a5F8LBI5nW7K",
        "outputId": "67b43834-5f43-4f23-b8d4-03ecba513bdf"
      },
      "execution_count": 72,
      "outputs": [
        {
          "output_type": "stream",
          "name": "stdout",
          "text": [
            "['br', 'apartment', 'place', 'stay', 'anna', 'athens', 'host', 'u', 'great', 'everything', 'location', 'day', 'clean', 'nice', 'arrival', 'close', 'metro', 'really', 'would', 'reservation', 'toula', 'canceled', 'automated', 'posting', 'time', 'perfect', 'need', 'recommend', 'good', 'well', 'also', 'even', 'helpful', 'easy', 'station', 'city', 'restaurant', 'flat', 'comfortable', 'ilias', 'walk', 'walking', 'get', 'definitely', 'home', 'thanks', 'wonderful', 'view', 'acropolis', 'distance', 'thank', 'located', 'needed', 'around', 'made', 'area', 'highly', 'amazing', 'lot', 'minute', '2', 'best', 'like', 'night', 'kind', 'go', 'one', 'lovely', 'back', 'center', 'make', 'central', 'could', 'check', 'experience', 'little', 'away', 'friend', 'house', 'friendly', 'visit', 'excellent', 'much', 'next', 'staying', 'airport', 'want', 'feel', 'super', 'quiet', 'near', 'sure', 'thing', 'gave', 'shop', 'room', 'two', '5', 'always', 'stayed', 'help', '3', 'see', 'syntagma', 'angeliki', 'come', 'site', 'spacious', 'balcony', 'within', 'airbnb', 'kitchen', 'fantastic', 'bed', 'many', 'recommended', 'first', 'communication', 'street', 'enjoyed', 'loved', 'question', 'cozy', 'appartment', 'bathroom', 'plaka', 'bus', 'felt', 'people', 'convenient', 'way', 'right', 'every', 'small', 'food', 'bit', 'quite', 'find', 'meet', 'met', 'left', 'fotis', 'welcome', 'trip', 'arrived', 'provided', 'square', 'available', 'tram', 'beautiful', 'late', 'jam', 'equipped', 'family', 'exactly', 'local', 'described', 'bar', 'person', 'ok', 'neighborhood', 'welcoming', 'full', 'studio', 'main', 'recommendation', 'rodanthie', '10', 'eat', 'min', 'building', 'touch', 'take', 'supermarket', 'attraction', 'quick', 'etc', 'nearby', 'safe', 'market', 'centre', 'picture', 'absolutely', 'stop', 'neighbourhood', 'space', 'problem', 'use', 'sight', 'though', 'breakfast', 'cosy', '4', 'short', 'big', 'anything', 'overall', '20', 'perfectly', 'enough', 'floor', 'hospitality', 'extremely', 'without', 'book', 'heart', 'say', 'shopping', 'greek', 'tip', 'homemade', 'vintage', 'better', 'couple', 'access', 'wine', 'greece', 'coffee', 'responsive', 'warm', 'cool', 'window', 'guest', 'detail', 'town', 'return', 'morning', 'air', 'transport', 'look', 'plenty', 'amenity', 'terrace', 'fridge', 'information', 'able', 'went', 'advice', 'carole', 'know', 'door', 'week', 'centrally', 'accommodating', 'showed', 'pretty', 'taxi', 'light', 'might', 'ever', 'welcomed', 'anyone', 'wifi', 'extra', 'flight', 'outside', 'fully', 'offer', 'awesome', 'looking', 'contact', 'making', 'cafe', 'tourist', 'hour', 'getting', 'another', 'new', 'although', 'far', 'got', 'middle', 'decorated', 'however', 'shower', 'old', '1', 'father', 'fish', 'including', 'pleasant', 'enjoy', 'second', 'waiting', 'hot', 'mother', 'public', 'foot', 'money', 'found', 'going', 'since', 'part', 'think', 'facility', 'let', 'greeted', 'easily', 'attention', 'happy']\n",
            "Give the N: 10\n",
            "Enter the first word: athens\n",
            "Enter the second word: family\n",
            "{'max_similarity_of_neighborhoods': 0.99963015, 'correlation_of_neighborhood_similarities': 0.7838868335650938, 'sum_of_squared_neighborhood_similarities': 4.4691715493980135}\n",
            "The 10-neighborhood of the word 'athens' is: ['place', 'apartment', 'stay', 'toula', 'nice', 'would', 'great', 'need', 'br', 'comfortable']\n",
            "The 10-neighborhood of the word 'family' is: ['even', 'use', 'kind', 'u', 'night', 'also', 'airbnb', 'help', 'room', 'one']\n"
          ]
        }
      ]
    },
    {
      "cell_type": "markdown",
      "metadata": {
        "id": "PGwNVldij-ay"
      },
      "source": [
        "Η παράμετρος N (μέγεθος της γειτονιάς) δεν επηρεάζει τις τιμές του max similarity και του sum of squared similarities, ωστόσο διαφέρει το correlation. Αυξάνοντας την τιμή του N, εξετάζεται μεγαλύτερος αριθμός γειτονικών λέξεων, πράγμα που μπορεί να αυξάνει την πιθανότητα να βρεθούν λέξεις με υψηλή ομοιότητα. Ωστόσο, αυτό μπορεί επίσης να περιλαμβάνει περισσότερες λέξεις που δεν είναι στενά συνδεδεμένες, μειώνοντας την ομοιότητα. Επομένως, η επίδραση της αλλαγής του N εξαρτάται από την ειδική δομή του σημασιολογικού χώρου."
      ]
    }
  ],
  "metadata": {
    "colab": {
      "provenance": []
    },
    "kernelspec": {
      "display_name": "Python 3",
      "name": "python3"
    },
    "language_info": {
      "name": "python"
    },
    "widgets": {
      "application/vnd.jupyter.widget-state+json": {
        "079a25731a824cd78d0bda2dd4561216": {
          "model_module": "@jupyter-widgets/controls",
          "model_name": "HBoxModel",
          "model_module_version": "1.5.0",
          "state": {
            "_dom_classes": [],
            "_model_module": "@jupyter-widgets/controls",
            "_model_module_version": "1.5.0",
            "_model_name": "HBoxModel",
            "_view_count": null,
            "_view_module": "@jupyter-widgets/controls",
            "_view_module_version": "1.5.0",
            "_view_name": "HBoxView",
            "box_style": "",
            "children": [
              "IPY_MODEL_d4097d4cdab54992a33f5588eeacac03",
              "IPY_MODEL_5440f2ce75f6442b9c223ff9ec57c53d",
              "IPY_MODEL_e21728bc9f4c48d8b5e436d6fa7569af"
            ],
            "layout": "IPY_MODEL_b26ac7f228ec4ddb903b14f195508c34"
          }
        },
        "d4097d4cdab54992a33f5588eeacac03": {
          "model_module": "@jupyter-widgets/controls",
          "model_name": "HTMLModel",
          "model_module_version": "1.5.0",
          "state": {
            "_dom_classes": [],
            "_model_module": "@jupyter-widgets/controls",
            "_model_module_version": "1.5.0",
            "_model_name": "HTMLModel",
            "_view_count": null,
            "_view_module": "@jupyter-widgets/controls",
            "_view_module_version": "1.5.0",
            "_view_name": "HTMLView",
            "description": "",
            "description_tooltip": null,
            "layout": "IPY_MODEL_490a3c26a7a24f74957fd05735662210",
            "placeholder": "​",
            "style": "IPY_MODEL_cb3d91621adc485aa2b967dbac1894cd",
            "value": "config.json: 100%"
          }
        },
        "5440f2ce75f6442b9c223ff9ec57c53d": {
          "model_module": "@jupyter-widgets/controls",
          "model_name": "FloatProgressModel",
          "model_module_version": "1.5.0",
          "state": {
            "_dom_classes": [],
            "_model_module": "@jupyter-widgets/controls",
            "_model_module_version": "1.5.0",
            "_model_name": "FloatProgressModel",
            "_view_count": null,
            "_view_module": "@jupyter-widgets/controls",
            "_view_module_version": "1.5.0",
            "_view_name": "ProgressView",
            "bar_style": "success",
            "description": "",
            "description_tooltip": null,
            "layout": "IPY_MODEL_99f732d0e0d643cea5b4834bcfd2032f",
            "max": 929,
            "min": 0,
            "orientation": "horizontal",
            "style": "IPY_MODEL_2a8def74d71c458e901174ea6f2661ab",
            "value": 929
          }
        },
        "e21728bc9f4c48d8b5e436d6fa7569af": {
          "model_module": "@jupyter-widgets/controls",
          "model_name": "HTMLModel",
          "model_module_version": "1.5.0",
          "state": {
            "_dom_classes": [],
            "_model_module": "@jupyter-widgets/controls",
            "_model_module_version": "1.5.0",
            "_model_name": "HTMLModel",
            "_view_count": null,
            "_view_module": "@jupyter-widgets/controls",
            "_view_module_version": "1.5.0",
            "_view_name": "HTMLView",
            "description": "",
            "description_tooltip": null,
            "layout": "IPY_MODEL_3d2e9b9a1da04077a4f79c6817b400a6",
            "placeholder": "​",
            "style": "IPY_MODEL_00357c528d5e4b2084da4c4675267460",
            "value": " 929/929 [00:00&lt;00:00, 52.7kB/s]"
          }
        },
        "b26ac7f228ec4ddb903b14f195508c34": {
          "model_module": "@jupyter-widgets/base",
          "model_name": "LayoutModel",
          "model_module_version": "1.2.0",
          "state": {
            "_model_module": "@jupyter-widgets/base",
            "_model_module_version": "1.2.0",
            "_model_name": "LayoutModel",
            "_view_count": null,
            "_view_module": "@jupyter-widgets/base",
            "_view_module_version": "1.2.0",
            "_view_name": "LayoutView",
            "align_content": null,
            "align_items": null,
            "align_self": null,
            "border": null,
            "bottom": null,
            "display": null,
            "flex": null,
            "flex_flow": null,
            "grid_area": null,
            "grid_auto_columns": null,
            "grid_auto_flow": null,
            "grid_auto_rows": null,
            "grid_column": null,
            "grid_gap": null,
            "grid_row": null,
            "grid_template_areas": null,
            "grid_template_columns": null,
            "grid_template_rows": null,
            "height": null,
            "justify_content": null,
            "justify_items": null,
            "left": null,
            "margin": null,
            "max_height": null,
            "max_width": null,
            "min_height": null,
            "min_width": null,
            "object_fit": null,
            "object_position": null,
            "order": null,
            "overflow": null,
            "overflow_x": null,
            "overflow_y": null,
            "padding": null,
            "right": null,
            "top": null,
            "visibility": null,
            "width": null
          }
        },
        "490a3c26a7a24f74957fd05735662210": {
          "model_module": "@jupyter-widgets/base",
          "model_name": "LayoutModel",
          "model_module_version": "1.2.0",
          "state": {
            "_model_module": "@jupyter-widgets/base",
            "_model_module_version": "1.2.0",
            "_model_name": "LayoutModel",
            "_view_count": null,
            "_view_module": "@jupyter-widgets/base",
            "_view_module_version": "1.2.0",
            "_view_name": "LayoutView",
            "align_content": null,
            "align_items": null,
            "align_self": null,
            "border": null,
            "bottom": null,
            "display": null,
            "flex": null,
            "flex_flow": null,
            "grid_area": null,
            "grid_auto_columns": null,
            "grid_auto_flow": null,
            "grid_auto_rows": null,
            "grid_column": null,
            "grid_gap": null,
            "grid_row": null,
            "grid_template_areas": null,
            "grid_template_columns": null,
            "grid_template_rows": null,
            "height": null,
            "justify_content": null,
            "justify_items": null,
            "left": null,
            "margin": null,
            "max_height": null,
            "max_width": null,
            "min_height": null,
            "min_width": null,
            "object_fit": null,
            "object_position": null,
            "order": null,
            "overflow": null,
            "overflow_x": null,
            "overflow_y": null,
            "padding": null,
            "right": null,
            "top": null,
            "visibility": null,
            "width": null
          }
        },
        "cb3d91621adc485aa2b967dbac1894cd": {
          "model_module": "@jupyter-widgets/controls",
          "model_name": "DescriptionStyleModel",
          "model_module_version": "1.5.0",
          "state": {
            "_model_module": "@jupyter-widgets/controls",
            "_model_module_version": "1.5.0",
            "_model_name": "DescriptionStyleModel",
            "_view_count": null,
            "_view_module": "@jupyter-widgets/base",
            "_view_module_version": "1.2.0",
            "_view_name": "StyleView",
            "description_width": ""
          }
        },
        "99f732d0e0d643cea5b4834bcfd2032f": {
          "model_module": "@jupyter-widgets/base",
          "model_name": "LayoutModel",
          "model_module_version": "1.2.0",
          "state": {
            "_model_module": "@jupyter-widgets/base",
            "_model_module_version": "1.2.0",
            "_model_name": "LayoutModel",
            "_view_count": null,
            "_view_module": "@jupyter-widgets/base",
            "_view_module_version": "1.2.0",
            "_view_name": "LayoutView",
            "align_content": null,
            "align_items": null,
            "align_self": null,
            "border": null,
            "bottom": null,
            "display": null,
            "flex": null,
            "flex_flow": null,
            "grid_area": null,
            "grid_auto_columns": null,
            "grid_auto_flow": null,
            "grid_auto_rows": null,
            "grid_column": null,
            "grid_gap": null,
            "grid_row": null,
            "grid_template_areas": null,
            "grid_template_columns": null,
            "grid_template_rows": null,
            "height": null,
            "justify_content": null,
            "justify_items": null,
            "left": null,
            "margin": null,
            "max_height": null,
            "max_width": null,
            "min_height": null,
            "min_width": null,
            "object_fit": null,
            "object_position": null,
            "order": null,
            "overflow": null,
            "overflow_x": null,
            "overflow_y": null,
            "padding": null,
            "right": null,
            "top": null,
            "visibility": null,
            "width": null
          }
        },
        "2a8def74d71c458e901174ea6f2661ab": {
          "model_module": "@jupyter-widgets/controls",
          "model_name": "ProgressStyleModel",
          "model_module_version": "1.5.0",
          "state": {
            "_model_module": "@jupyter-widgets/controls",
            "_model_module_version": "1.5.0",
            "_model_name": "ProgressStyleModel",
            "_view_count": null,
            "_view_module": "@jupyter-widgets/base",
            "_view_module_version": "1.2.0",
            "_view_name": "StyleView",
            "bar_color": null,
            "description_width": ""
          }
        },
        "3d2e9b9a1da04077a4f79c6817b400a6": {
          "model_module": "@jupyter-widgets/base",
          "model_name": "LayoutModel",
          "model_module_version": "1.2.0",
          "state": {
            "_model_module": "@jupyter-widgets/base",
            "_model_module_version": "1.2.0",
            "_model_name": "LayoutModel",
            "_view_count": null,
            "_view_module": "@jupyter-widgets/base",
            "_view_module_version": "1.2.0",
            "_view_name": "LayoutView",
            "align_content": null,
            "align_items": null,
            "align_self": null,
            "border": null,
            "bottom": null,
            "display": null,
            "flex": null,
            "flex_flow": null,
            "grid_area": null,
            "grid_auto_columns": null,
            "grid_auto_flow": null,
            "grid_auto_rows": null,
            "grid_column": null,
            "grid_gap": null,
            "grid_row": null,
            "grid_template_areas": null,
            "grid_template_columns": null,
            "grid_template_rows": null,
            "height": null,
            "justify_content": null,
            "justify_items": null,
            "left": null,
            "margin": null,
            "max_height": null,
            "max_width": null,
            "min_height": null,
            "min_width": null,
            "object_fit": null,
            "object_position": null,
            "order": null,
            "overflow": null,
            "overflow_x": null,
            "overflow_y": null,
            "padding": null,
            "right": null,
            "top": null,
            "visibility": null,
            "width": null
          }
        },
        "00357c528d5e4b2084da4c4675267460": {
          "model_module": "@jupyter-widgets/controls",
          "model_name": "DescriptionStyleModel",
          "model_module_version": "1.5.0",
          "state": {
            "_model_module": "@jupyter-widgets/controls",
            "_model_module_version": "1.5.0",
            "_model_name": "DescriptionStyleModel",
            "_view_count": null,
            "_view_module": "@jupyter-widgets/base",
            "_view_module_version": "1.2.0",
            "_view_name": "StyleView",
            "description_width": ""
          }
        },
        "6b50119ea9184a2e92ae4fdbfb3e0581": {
          "model_module": "@jupyter-widgets/controls",
          "model_name": "HBoxModel",
          "model_module_version": "1.5.0",
          "state": {
            "_dom_classes": [],
            "_model_module": "@jupyter-widgets/controls",
            "_model_module_version": "1.5.0",
            "_model_name": "HBoxModel",
            "_view_count": null,
            "_view_module": "@jupyter-widgets/controls",
            "_view_module_version": "1.5.0",
            "_view_name": "HBoxView",
            "box_style": "",
            "children": [
              "IPY_MODEL_70fb06e28eed436898f59492d4ae2ec8",
              "IPY_MODEL_96b26b7cbb84496c944599d8c585d4ef",
              "IPY_MODEL_c22542bccd1c475692d9d5a6c41f838f"
            ],
            "layout": "IPY_MODEL_1142d0788938453fb0b97b37c9e08799"
          }
        },
        "70fb06e28eed436898f59492d4ae2ec8": {
          "model_module": "@jupyter-widgets/controls",
          "model_name": "HTMLModel",
          "model_module_version": "1.5.0",
          "state": {
            "_dom_classes": [],
            "_model_module": "@jupyter-widgets/controls",
            "_model_module_version": "1.5.0",
            "_model_name": "HTMLModel",
            "_view_count": null,
            "_view_module": "@jupyter-widgets/controls",
            "_view_module_version": "1.5.0",
            "_view_name": "HTMLView",
            "description": "",
            "description_tooltip": null,
            "layout": "IPY_MODEL_e9d1e7b8b25c4998930666796546979c",
            "placeholder": "​",
            "style": "IPY_MODEL_95b7efa3127e4816b40a64b2f99af032",
            "value": "pytorch_model.bin: 100%"
          }
        },
        "96b26b7cbb84496c944599d8c585d4ef": {
          "model_module": "@jupyter-widgets/controls",
          "model_name": "FloatProgressModel",
          "model_module_version": "1.5.0",
          "state": {
            "_dom_classes": [],
            "_model_module": "@jupyter-widgets/controls",
            "_model_module_version": "1.5.0",
            "_model_name": "FloatProgressModel",
            "_view_count": null,
            "_view_module": "@jupyter-widgets/controls",
            "_view_module_version": "1.5.0",
            "_view_name": "ProgressView",
            "bar_style": "success",
            "description": "",
            "description_tooltip": null,
            "layout": "IPY_MODEL_facf491d4132477ca7648927403c1339",
            "max": 501045531,
            "min": 0,
            "orientation": "horizontal",
            "style": "IPY_MODEL_b46be4f81d2f41db8a2cf8259f99aae7",
            "value": 501045531
          }
        },
        "c22542bccd1c475692d9d5a6c41f838f": {
          "model_module": "@jupyter-widgets/controls",
          "model_name": "HTMLModel",
          "model_module_version": "1.5.0",
          "state": {
            "_dom_classes": [],
            "_model_module": "@jupyter-widgets/controls",
            "_model_module_version": "1.5.0",
            "_model_name": "HTMLModel",
            "_view_count": null,
            "_view_module": "@jupyter-widgets/controls",
            "_view_module_version": "1.5.0",
            "_view_name": "HTMLView",
            "description": "",
            "description_tooltip": null,
            "layout": "IPY_MODEL_98da42459b2746f08c7fbe889068b74d",
            "placeholder": "​",
            "style": "IPY_MODEL_6a398ac6999c48a6a0d13b5e7a4b5195",
            "value": " 501M/501M [00:04&lt;00:00, 134MB/s]"
          }
        },
        "1142d0788938453fb0b97b37c9e08799": {
          "model_module": "@jupyter-widgets/base",
          "model_name": "LayoutModel",
          "model_module_version": "1.2.0",
          "state": {
            "_model_module": "@jupyter-widgets/base",
            "_model_module_version": "1.2.0",
            "_model_name": "LayoutModel",
            "_view_count": null,
            "_view_module": "@jupyter-widgets/base",
            "_view_module_version": "1.2.0",
            "_view_name": "LayoutView",
            "align_content": null,
            "align_items": null,
            "align_self": null,
            "border": null,
            "bottom": null,
            "display": null,
            "flex": null,
            "flex_flow": null,
            "grid_area": null,
            "grid_auto_columns": null,
            "grid_auto_flow": null,
            "grid_auto_rows": null,
            "grid_column": null,
            "grid_gap": null,
            "grid_row": null,
            "grid_template_areas": null,
            "grid_template_columns": null,
            "grid_template_rows": null,
            "height": null,
            "justify_content": null,
            "justify_items": null,
            "left": null,
            "margin": null,
            "max_height": null,
            "max_width": null,
            "min_height": null,
            "min_width": null,
            "object_fit": null,
            "object_position": null,
            "order": null,
            "overflow": null,
            "overflow_x": null,
            "overflow_y": null,
            "padding": null,
            "right": null,
            "top": null,
            "visibility": null,
            "width": null
          }
        },
        "e9d1e7b8b25c4998930666796546979c": {
          "model_module": "@jupyter-widgets/base",
          "model_name": "LayoutModel",
          "model_module_version": "1.2.0",
          "state": {
            "_model_module": "@jupyter-widgets/base",
            "_model_module_version": "1.2.0",
            "_model_name": "LayoutModel",
            "_view_count": null,
            "_view_module": "@jupyter-widgets/base",
            "_view_module_version": "1.2.0",
            "_view_name": "LayoutView",
            "align_content": null,
            "align_items": null,
            "align_self": null,
            "border": null,
            "bottom": null,
            "display": null,
            "flex": null,
            "flex_flow": null,
            "grid_area": null,
            "grid_auto_columns": null,
            "grid_auto_flow": null,
            "grid_auto_rows": null,
            "grid_column": null,
            "grid_gap": null,
            "grid_row": null,
            "grid_template_areas": null,
            "grid_template_columns": null,
            "grid_template_rows": null,
            "height": null,
            "justify_content": null,
            "justify_items": null,
            "left": null,
            "margin": null,
            "max_height": null,
            "max_width": null,
            "min_height": null,
            "min_width": null,
            "object_fit": null,
            "object_position": null,
            "order": null,
            "overflow": null,
            "overflow_x": null,
            "overflow_y": null,
            "padding": null,
            "right": null,
            "top": null,
            "visibility": null,
            "width": null
          }
        },
        "95b7efa3127e4816b40a64b2f99af032": {
          "model_module": "@jupyter-widgets/controls",
          "model_name": "DescriptionStyleModel",
          "model_module_version": "1.5.0",
          "state": {
            "_model_module": "@jupyter-widgets/controls",
            "_model_module_version": "1.5.0",
            "_model_name": "DescriptionStyleModel",
            "_view_count": null,
            "_view_module": "@jupyter-widgets/base",
            "_view_module_version": "1.2.0",
            "_view_name": "StyleView",
            "description_width": ""
          }
        },
        "facf491d4132477ca7648927403c1339": {
          "model_module": "@jupyter-widgets/base",
          "model_name": "LayoutModel",
          "model_module_version": "1.2.0",
          "state": {
            "_model_module": "@jupyter-widgets/base",
            "_model_module_version": "1.2.0",
            "_model_name": "LayoutModel",
            "_view_count": null,
            "_view_module": "@jupyter-widgets/base",
            "_view_module_version": "1.2.0",
            "_view_name": "LayoutView",
            "align_content": null,
            "align_items": null,
            "align_self": null,
            "border": null,
            "bottom": null,
            "display": null,
            "flex": null,
            "flex_flow": null,
            "grid_area": null,
            "grid_auto_columns": null,
            "grid_auto_flow": null,
            "grid_auto_rows": null,
            "grid_column": null,
            "grid_gap": null,
            "grid_row": null,
            "grid_template_areas": null,
            "grid_template_columns": null,
            "grid_template_rows": null,
            "height": null,
            "justify_content": null,
            "justify_items": null,
            "left": null,
            "margin": null,
            "max_height": null,
            "max_width": null,
            "min_height": null,
            "min_width": null,
            "object_fit": null,
            "object_position": null,
            "order": null,
            "overflow": null,
            "overflow_x": null,
            "overflow_y": null,
            "padding": null,
            "right": null,
            "top": null,
            "visibility": null,
            "width": null
          }
        },
        "b46be4f81d2f41db8a2cf8259f99aae7": {
          "model_module": "@jupyter-widgets/controls",
          "model_name": "ProgressStyleModel",
          "model_module_version": "1.5.0",
          "state": {
            "_model_module": "@jupyter-widgets/controls",
            "_model_module_version": "1.5.0",
            "_model_name": "ProgressStyleModel",
            "_view_count": null,
            "_view_module": "@jupyter-widgets/base",
            "_view_module_version": "1.2.0",
            "_view_name": "StyleView",
            "bar_color": null,
            "description_width": ""
          }
        },
        "98da42459b2746f08c7fbe889068b74d": {
          "model_module": "@jupyter-widgets/base",
          "model_name": "LayoutModel",
          "model_module_version": "1.2.0",
          "state": {
            "_model_module": "@jupyter-widgets/base",
            "_model_module_version": "1.2.0",
            "_model_name": "LayoutModel",
            "_view_count": null,
            "_view_module": "@jupyter-widgets/base",
            "_view_module_version": "1.2.0",
            "_view_name": "LayoutView",
            "align_content": null,
            "align_items": null,
            "align_self": null,
            "border": null,
            "bottom": null,
            "display": null,
            "flex": null,
            "flex_flow": null,
            "grid_area": null,
            "grid_auto_columns": null,
            "grid_auto_flow": null,
            "grid_auto_rows": null,
            "grid_column": null,
            "grid_gap": null,
            "grid_row": null,
            "grid_template_areas": null,
            "grid_template_columns": null,
            "grid_template_rows": null,
            "height": null,
            "justify_content": null,
            "justify_items": null,
            "left": null,
            "margin": null,
            "max_height": null,
            "max_width": null,
            "min_height": null,
            "min_width": null,
            "object_fit": null,
            "object_position": null,
            "order": null,
            "overflow": null,
            "overflow_x": null,
            "overflow_y": null,
            "padding": null,
            "right": null,
            "top": null,
            "visibility": null,
            "width": null
          }
        },
        "6a398ac6999c48a6a0d13b5e7a4b5195": {
          "model_module": "@jupyter-widgets/controls",
          "model_name": "DescriptionStyleModel",
          "model_module_version": "1.5.0",
          "state": {
            "_model_module": "@jupyter-widgets/controls",
            "_model_module_version": "1.5.0",
            "_model_name": "DescriptionStyleModel",
            "_view_count": null,
            "_view_module": "@jupyter-widgets/base",
            "_view_module_version": "1.2.0",
            "_view_name": "StyleView",
            "description_width": ""
          }
        },
        "feb8f9b6952c43fd97efeb9e72031303": {
          "model_module": "@jupyter-widgets/controls",
          "model_name": "HBoxModel",
          "model_module_version": "1.5.0",
          "state": {
            "_dom_classes": [],
            "_model_module": "@jupyter-widgets/controls",
            "_model_module_version": "1.5.0",
            "_model_name": "HBoxModel",
            "_view_count": null,
            "_view_module": "@jupyter-widgets/controls",
            "_view_module_version": "1.5.0",
            "_view_name": "HBoxView",
            "box_style": "",
            "children": [
              "IPY_MODEL_f6b7f1c748384c8284e78aa6993c6f7c",
              "IPY_MODEL_79ac18f8f94245f4b16dd3c2a5835140",
              "IPY_MODEL_2c0f8cd15e444581bc40b0e25b47b46e"
            ],
            "layout": "IPY_MODEL_0e31870262ce47aaac4c77ff7ed789fb"
          }
        },
        "f6b7f1c748384c8284e78aa6993c6f7c": {
          "model_module": "@jupyter-widgets/controls",
          "model_name": "HTMLModel",
          "model_module_version": "1.5.0",
          "state": {
            "_dom_classes": [],
            "_model_module": "@jupyter-widgets/controls",
            "_model_module_version": "1.5.0",
            "_model_name": "HTMLModel",
            "_view_count": null,
            "_view_module": "@jupyter-widgets/controls",
            "_view_module_version": "1.5.0",
            "_view_name": "HTMLView",
            "description": "",
            "description_tooltip": null,
            "layout": "IPY_MODEL_11e59b5bb4e446c48156b08cf857c833",
            "placeholder": "​",
            "style": "IPY_MODEL_997aa00c1e4a4f2ea7875ad996763653",
            "value": "vocab.json: 100%"
          }
        },
        "79ac18f8f94245f4b16dd3c2a5835140": {
          "model_module": "@jupyter-widgets/controls",
          "model_name": "FloatProgressModel",
          "model_module_version": "1.5.0",
          "state": {
            "_dom_classes": [],
            "_model_module": "@jupyter-widgets/controls",
            "_model_module_version": "1.5.0",
            "_model_name": "FloatProgressModel",
            "_view_count": null,
            "_view_module": "@jupyter-widgets/controls",
            "_view_module_version": "1.5.0",
            "_view_name": "ProgressView",
            "bar_style": "success",
            "description": "",
            "description_tooltip": null,
            "layout": "IPY_MODEL_bd248ddac4304820a6dc575a0e7adc29",
            "max": 898822,
            "min": 0,
            "orientation": "horizontal",
            "style": "IPY_MODEL_9ba3ea4b34a84c17885635148bd0ba95",
            "value": 898822
          }
        },
        "2c0f8cd15e444581bc40b0e25b47b46e": {
          "model_module": "@jupyter-widgets/controls",
          "model_name": "HTMLModel",
          "model_module_version": "1.5.0",
          "state": {
            "_dom_classes": [],
            "_model_module": "@jupyter-widgets/controls",
            "_model_module_version": "1.5.0",
            "_model_name": "HTMLModel",
            "_view_count": null,
            "_view_module": "@jupyter-widgets/controls",
            "_view_module_version": "1.5.0",
            "_view_name": "HTMLView",
            "description": "",
            "description_tooltip": null,
            "layout": "IPY_MODEL_d84742edaafc4b5f871f27c8614a3719",
            "placeholder": "​",
            "style": "IPY_MODEL_1d6ced4edb9845f0b054a7ca91e29529",
            "value": " 899k/899k [00:00&lt;00:00, 6.37MB/s]"
          }
        },
        "0e31870262ce47aaac4c77ff7ed789fb": {
          "model_module": "@jupyter-widgets/base",
          "model_name": "LayoutModel",
          "model_module_version": "1.2.0",
          "state": {
            "_model_module": "@jupyter-widgets/base",
            "_model_module_version": "1.2.0",
            "_model_name": "LayoutModel",
            "_view_count": null,
            "_view_module": "@jupyter-widgets/base",
            "_view_module_version": "1.2.0",
            "_view_name": "LayoutView",
            "align_content": null,
            "align_items": null,
            "align_self": null,
            "border": null,
            "bottom": null,
            "display": null,
            "flex": null,
            "flex_flow": null,
            "grid_area": null,
            "grid_auto_columns": null,
            "grid_auto_flow": null,
            "grid_auto_rows": null,
            "grid_column": null,
            "grid_gap": null,
            "grid_row": null,
            "grid_template_areas": null,
            "grid_template_columns": null,
            "grid_template_rows": null,
            "height": null,
            "justify_content": null,
            "justify_items": null,
            "left": null,
            "margin": null,
            "max_height": null,
            "max_width": null,
            "min_height": null,
            "min_width": null,
            "object_fit": null,
            "object_position": null,
            "order": null,
            "overflow": null,
            "overflow_x": null,
            "overflow_y": null,
            "padding": null,
            "right": null,
            "top": null,
            "visibility": null,
            "width": null
          }
        },
        "11e59b5bb4e446c48156b08cf857c833": {
          "model_module": "@jupyter-widgets/base",
          "model_name": "LayoutModel",
          "model_module_version": "1.2.0",
          "state": {
            "_model_module": "@jupyter-widgets/base",
            "_model_module_version": "1.2.0",
            "_model_name": "LayoutModel",
            "_view_count": null,
            "_view_module": "@jupyter-widgets/base",
            "_view_module_version": "1.2.0",
            "_view_name": "LayoutView",
            "align_content": null,
            "align_items": null,
            "align_self": null,
            "border": null,
            "bottom": null,
            "display": null,
            "flex": null,
            "flex_flow": null,
            "grid_area": null,
            "grid_auto_columns": null,
            "grid_auto_flow": null,
            "grid_auto_rows": null,
            "grid_column": null,
            "grid_gap": null,
            "grid_row": null,
            "grid_template_areas": null,
            "grid_template_columns": null,
            "grid_template_rows": null,
            "height": null,
            "justify_content": null,
            "justify_items": null,
            "left": null,
            "margin": null,
            "max_height": null,
            "max_width": null,
            "min_height": null,
            "min_width": null,
            "object_fit": null,
            "object_position": null,
            "order": null,
            "overflow": null,
            "overflow_x": null,
            "overflow_y": null,
            "padding": null,
            "right": null,
            "top": null,
            "visibility": null,
            "width": null
          }
        },
        "997aa00c1e4a4f2ea7875ad996763653": {
          "model_module": "@jupyter-widgets/controls",
          "model_name": "DescriptionStyleModel",
          "model_module_version": "1.5.0",
          "state": {
            "_model_module": "@jupyter-widgets/controls",
            "_model_module_version": "1.5.0",
            "_model_name": "DescriptionStyleModel",
            "_view_count": null,
            "_view_module": "@jupyter-widgets/base",
            "_view_module_version": "1.2.0",
            "_view_name": "StyleView",
            "description_width": ""
          }
        },
        "bd248ddac4304820a6dc575a0e7adc29": {
          "model_module": "@jupyter-widgets/base",
          "model_name": "LayoutModel",
          "model_module_version": "1.2.0",
          "state": {
            "_model_module": "@jupyter-widgets/base",
            "_model_module_version": "1.2.0",
            "_model_name": "LayoutModel",
            "_view_count": null,
            "_view_module": "@jupyter-widgets/base",
            "_view_module_version": "1.2.0",
            "_view_name": "LayoutView",
            "align_content": null,
            "align_items": null,
            "align_self": null,
            "border": null,
            "bottom": null,
            "display": null,
            "flex": null,
            "flex_flow": null,
            "grid_area": null,
            "grid_auto_columns": null,
            "grid_auto_flow": null,
            "grid_auto_rows": null,
            "grid_column": null,
            "grid_gap": null,
            "grid_row": null,
            "grid_template_areas": null,
            "grid_template_columns": null,
            "grid_template_rows": null,
            "height": null,
            "justify_content": null,
            "justify_items": null,
            "left": null,
            "margin": null,
            "max_height": null,
            "max_width": null,
            "min_height": null,
            "min_width": null,
            "object_fit": null,
            "object_position": null,
            "order": null,
            "overflow": null,
            "overflow_x": null,
            "overflow_y": null,
            "padding": null,
            "right": null,
            "top": null,
            "visibility": null,
            "width": null
          }
        },
        "9ba3ea4b34a84c17885635148bd0ba95": {
          "model_module": "@jupyter-widgets/controls",
          "model_name": "ProgressStyleModel",
          "model_module_version": "1.5.0",
          "state": {
            "_model_module": "@jupyter-widgets/controls",
            "_model_module_version": "1.5.0",
            "_model_name": "ProgressStyleModel",
            "_view_count": null,
            "_view_module": "@jupyter-widgets/base",
            "_view_module_version": "1.2.0",
            "_view_name": "StyleView",
            "bar_color": null,
            "description_width": ""
          }
        },
        "d84742edaafc4b5f871f27c8614a3719": {
          "model_module": "@jupyter-widgets/base",
          "model_name": "LayoutModel",
          "model_module_version": "1.2.0",
          "state": {
            "_model_module": "@jupyter-widgets/base",
            "_model_module_version": "1.2.0",
            "_model_name": "LayoutModel",
            "_view_count": null,
            "_view_module": "@jupyter-widgets/base",
            "_view_module_version": "1.2.0",
            "_view_name": "LayoutView",
            "align_content": null,
            "align_items": null,
            "align_self": null,
            "border": null,
            "bottom": null,
            "display": null,
            "flex": null,
            "flex_flow": null,
            "grid_area": null,
            "grid_auto_columns": null,
            "grid_auto_flow": null,
            "grid_auto_rows": null,
            "grid_column": null,
            "grid_gap": null,
            "grid_row": null,
            "grid_template_areas": null,
            "grid_template_columns": null,
            "grid_template_rows": null,
            "height": null,
            "justify_content": null,
            "justify_items": null,
            "left": null,
            "margin": null,
            "max_height": null,
            "max_width": null,
            "min_height": null,
            "min_width": null,
            "object_fit": null,
            "object_position": null,
            "order": null,
            "overflow": null,
            "overflow_x": null,
            "overflow_y": null,
            "padding": null,
            "right": null,
            "top": null,
            "visibility": null,
            "width": null
          }
        },
        "1d6ced4edb9845f0b054a7ca91e29529": {
          "model_module": "@jupyter-widgets/controls",
          "model_name": "DescriptionStyleModel",
          "model_module_version": "1.5.0",
          "state": {
            "_model_module": "@jupyter-widgets/controls",
            "_model_module_version": "1.5.0",
            "_model_name": "DescriptionStyleModel",
            "_view_count": null,
            "_view_module": "@jupyter-widgets/base",
            "_view_module_version": "1.2.0",
            "_view_name": "StyleView",
            "description_width": ""
          }
        },
        "fe15fecb2f49427ca1461b16c25e1545": {
          "model_module": "@jupyter-widgets/controls",
          "model_name": "HBoxModel",
          "model_module_version": "1.5.0",
          "state": {
            "_dom_classes": [],
            "_model_module": "@jupyter-widgets/controls",
            "_model_module_version": "1.5.0",
            "_model_name": "HBoxModel",
            "_view_count": null,
            "_view_module": "@jupyter-widgets/controls",
            "_view_module_version": "1.5.0",
            "_view_name": "HBoxView",
            "box_style": "",
            "children": [
              "IPY_MODEL_d4a53ab9993a47a391b129421a64d947",
              "IPY_MODEL_aa94cf17a7c946df819a35076ffdd51f",
              "IPY_MODEL_38dbfb35100347ed8f488049253f6626"
            ],
            "layout": "IPY_MODEL_b32bc38aa9464456adaeddc28b8ad4c1"
          }
        },
        "d4a53ab9993a47a391b129421a64d947": {
          "model_module": "@jupyter-widgets/controls",
          "model_name": "HTMLModel",
          "model_module_version": "1.5.0",
          "state": {
            "_dom_classes": [],
            "_model_module": "@jupyter-widgets/controls",
            "_model_module_version": "1.5.0",
            "_model_name": "HTMLModel",
            "_view_count": null,
            "_view_module": "@jupyter-widgets/controls",
            "_view_module_version": "1.5.0",
            "_view_name": "HTMLView",
            "description": "",
            "description_tooltip": null,
            "layout": "IPY_MODEL_08c9a86aac554101b76c4f0d8244f824",
            "placeholder": "​",
            "style": "IPY_MODEL_af0efe24ca034d738f960daa78c2f3b1",
            "value": "merges.txt: 100%"
          }
        },
        "aa94cf17a7c946df819a35076ffdd51f": {
          "model_module": "@jupyter-widgets/controls",
          "model_name": "FloatProgressModel",
          "model_module_version": "1.5.0",
          "state": {
            "_dom_classes": [],
            "_model_module": "@jupyter-widgets/controls",
            "_model_module_version": "1.5.0",
            "_model_name": "FloatProgressModel",
            "_view_count": null,
            "_view_module": "@jupyter-widgets/controls",
            "_view_module_version": "1.5.0",
            "_view_name": "ProgressView",
            "bar_style": "success",
            "description": "",
            "description_tooltip": null,
            "layout": "IPY_MODEL_d8b7d8eab31f461c9407217e28afab31",
            "max": 456318,
            "min": 0,
            "orientation": "horizontal",
            "style": "IPY_MODEL_dde0e829e85e4f4d940e021aa6220d42",
            "value": 456318
          }
        },
        "38dbfb35100347ed8f488049253f6626": {
          "model_module": "@jupyter-widgets/controls",
          "model_name": "HTMLModel",
          "model_module_version": "1.5.0",
          "state": {
            "_dom_classes": [],
            "_model_module": "@jupyter-widgets/controls",
            "_model_module_version": "1.5.0",
            "_model_name": "HTMLModel",
            "_view_count": null,
            "_view_module": "@jupyter-widgets/controls",
            "_view_module_version": "1.5.0",
            "_view_name": "HTMLView",
            "description": "",
            "description_tooltip": null,
            "layout": "IPY_MODEL_de6d682b147f4cdbbc80d2c46eb83503",
            "placeholder": "​",
            "style": "IPY_MODEL_8518aa5fa17a421e96b1ce3212c5ff31",
            "value": " 456k/456k [00:00&lt;00:00, 8.07MB/s]"
          }
        },
        "b32bc38aa9464456adaeddc28b8ad4c1": {
          "model_module": "@jupyter-widgets/base",
          "model_name": "LayoutModel",
          "model_module_version": "1.2.0",
          "state": {
            "_model_module": "@jupyter-widgets/base",
            "_model_module_version": "1.2.0",
            "_model_name": "LayoutModel",
            "_view_count": null,
            "_view_module": "@jupyter-widgets/base",
            "_view_module_version": "1.2.0",
            "_view_name": "LayoutView",
            "align_content": null,
            "align_items": null,
            "align_self": null,
            "border": null,
            "bottom": null,
            "display": null,
            "flex": null,
            "flex_flow": null,
            "grid_area": null,
            "grid_auto_columns": null,
            "grid_auto_flow": null,
            "grid_auto_rows": null,
            "grid_column": null,
            "grid_gap": null,
            "grid_row": null,
            "grid_template_areas": null,
            "grid_template_columns": null,
            "grid_template_rows": null,
            "height": null,
            "justify_content": null,
            "justify_items": null,
            "left": null,
            "margin": null,
            "max_height": null,
            "max_width": null,
            "min_height": null,
            "min_width": null,
            "object_fit": null,
            "object_position": null,
            "order": null,
            "overflow": null,
            "overflow_x": null,
            "overflow_y": null,
            "padding": null,
            "right": null,
            "top": null,
            "visibility": null,
            "width": null
          }
        },
        "08c9a86aac554101b76c4f0d8244f824": {
          "model_module": "@jupyter-widgets/base",
          "model_name": "LayoutModel",
          "model_module_version": "1.2.0",
          "state": {
            "_model_module": "@jupyter-widgets/base",
            "_model_module_version": "1.2.0",
            "_model_name": "LayoutModel",
            "_view_count": null,
            "_view_module": "@jupyter-widgets/base",
            "_view_module_version": "1.2.0",
            "_view_name": "LayoutView",
            "align_content": null,
            "align_items": null,
            "align_self": null,
            "border": null,
            "bottom": null,
            "display": null,
            "flex": null,
            "flex_flow": null,
            "grid_area": null,
            "grid_auto_columns": null,
            "grid_auto_flow": null,
            "grid_auto_rows": null,
            "grid_column": null,
            "grid_gap": null,
            "grid_row": null,
            "grid_template_areas": null,
            "grid_template_columns": null,
            "grid_template_rows": null,
            "height": null,
            "justify_content": null,
            "justify_items": null,
            "left": null,
            "margin": null,
            "max_height": null,
            "max_width": null,
            "min_height": null,
            "min_width": null,
            "object_fit": null,
            "object_position": null,
            "order": null,
            "overflow": null,
            "overflow_x": null,
            "overflow_y": null,
            "padding": null,
            "right": null,
            "top": null,
            "visibility": null,
            "width": null
          }
        },
        "af0efe24ca034d738f960daa78c2f3b1": {
          "model_module": "@jupyter-widgets/controls",
          "model_name": "DescriptionStyleModel",
          "model_module_version": "1.5.0",
          "state": {
            "_model_module": "@jupyter-widgets/controls",
            "_model_module_version": "1.5.0",
            "_model_name": "DescriptionStyleModel",
            "_view_count": null,
            "_view_module": "@jupyter-widgets/base",
            "_view_module_version": "1.2.0",
            "_view_name": "StyleView",
            "description_width": ""
          }
        },
        "d8b7d8eab31f461c9407217e28afab31": {
          "model_module": "@jupyter-widgets/base",
          "model_name": "LayoutModel",
          "model_module_version": "1.2.0",
          "state": {
            "_model_module": "@jupyter-widgets/base",
            "_model_module_version": "1.2.0",
            "_model_name": "LayoutModel",
            "_view_count": null,
            "_view_module": "@jupyter-widgets/base",
            "_view_module_version": "1.2.0",
            "_view_name": "LayoutView",
            "align_content": null,
            "align_items": null,
            "align_self": null,
            "border": null,
            "bottom": null,
            "display": null,
            "flex": null,
            "flex_flow": null,
            "grid_area": null,
            "grid_auto_columns": null,
            "grid_auto_flow": null,
            "grid_auto_rows": null,
            "grid_column": null,
            "grid_gap": null,
            "grid_row": null,
            "grid_template_areas": null,
            "grid_template_columns": null,
            "grid_template_rows": null,
            "height": null,
            "justify_content": null,
            "justify_items": null,
            "left": null,
            "margin": null,
            "max_height": null,
            "max_width": null,
            "min_height": null,
            "min_width": null,
            "object_fit": null,
            "object_position": null,
            "order": null,
            "overflow": null,
            "overflow_x": null,
            "overflow_y": null,
            "padding": null,
            "right": null,
            "top": null,
            "visibility": null,
            "width": null
          }
        },
        "dde0e829e85e4f4d940e021aa6220d42": {
          "model_module": "@jupyter-widgets/controls",
          "model_name": "ProgressStyleModel",
          "model_module_version": "1.5.0",
          "state": {
            "_model_module": "@jupyter-widgets/controls",
            "_model_module_version": "1.5.0",
            "_model_name": "ProgressStyleModel",
            "_view_count": null,
            "_view_module": "@jupyter-widgets/base",
            "_view_module_version": "1.2.0",
            "_view_name": "StyleView",
            "bar_color": null,
            "description_width": ""
          }
        },
        "de6d682b147f4cdbbc80d2c46eb83503": {
          "model_module": "@jupyter-widgets/base",
          "model_name": "LayoutModel",
          "model_module_version": "1.2.0",
          "state": {
            "_model_module": "@jupyter-widgets/base",
            "_model_module_version": "1.2.0",
            "_model_name": "LayoutModel",
            "_view_count": null,
            "_view_module": "@jupyter-widgets/base",
            "_view_module_version": "1.2.0",
            "_view_name": "LayoutView",
            "align_content": null,
            "align_items": null,
            "align_self": null,
            "border": null,
            "bottom": null,
            "display": null,
            "flex": null,
            "flex_flow": null,
            "grid_area": null,
            "grid_auto_columns": null,
            "grid_auto_flow": null,
            "grid_auto_rows": null,
            "grid_column": null,
            "grid_gap": null,
            "grid_row": null,
            "grid_template_areas": null,
            "grid_template_columns": null,
            "grid_template_rows": null,
            "height": null,
            "justify_content": null,
            "justify_items": null,
            "left": null,
            "margin": null,
            "max_height": null,
            "max_width": null,
            "min_height": null,
            "min_width": null,
            "object_fit": null,
            "object_position": null,
            "order": null,
            "overflow": null,
            "overflow_x": null,
            "overflow_y": null,
            "padding": null,
            "right": null,
            "top": null,
            "visibility": null,
            "width": null
          }
        },
        "8518aa5fa17a421e96b1ce3212c5ff31": {
          "model_module": "@jupyter-widgets/controls",
          "model_name": "DescriptionStyleModel",
          "model_module_version": "1.5.0",
          "state": {
            "_model_module": "@jupyter-widgets/controls",
            "_model_module_version": "1.5.0",
            "_model_name": "DescriptionStyleModel",
            "_view_count": null,
            "_view_module": "@jupyter-widgets/base",
            "_view_module_version": "1.2.0",
            "_view_name": "StyleView",
            "description_width": ""
          }
        },
        "cc7633ae228544b682405b484fedede2": {
          "model_module": "@jupyter-widgets/controls",
          "model_name": "HBoxModel",
          "model_module_version": "1.5.0",
          "state": {
            "_dom_classes": [],
            "_model_module": "@jupyter-widgets/controls",
            "_model_module_version": "1.5.0",
            "_model_name": "HBoxModel",
            "_view_count": null,
            "_view_module": "@jupyter-widgets/controls",
            "_view_module_version": "1.5.0",
            "_view_name": "HBoxView",
            "box_style": "",
            "children": [
              "IPY_MODEL_74d8a95a23aa4ec9ac0f804516389ef1",
              "IPY_MODEL_c5ba5018a62549d1878beed44b100a9d",
              "IPY_MODEL_eea2a4a11e4440f184cd1213cb8df840"
            ],
            "layout": "IPY_MODEL_2c95aff7347f4224869f47fa5f2326dc"
          }
        },
        "74d8a95a23aa4ec9ac0f804516389ef1": {
          "model_module": "@jupyter-widgets/controls",
          "model_name": "HTMLModel",
          "model_module_version": "1.5.0",
          "state": {
            "_dom_classes": [],
            "_model_module": "@jupyter-widgets/controls",
            "_model_module_version": "1.5.0",
            "_model_name": "HTMLModel",
            "_view_count": null,
            "_view_module": "@jupyter-widgets/controls",
            "_view_module_version": "1.5.0",
            "_view_name": "HTMLView",
            "description": "",
            "description_tooltip": null,
            "layout": "IPY_MODEL_c4436ae779a9404497bf4bbcac53e2ea",
            "placeholder": "​",
            "style": "IPY_MODEL_440c5325c93046b885e7b5b4f2cdaca3",
            "value": "special_tokens_map.json: 100%"
          }
        },
        "c5ba5018a62549d1878beed44b100a9d": {
          "model_module": "@jupyter-widgets/controls",
          "model_name": "FloatProgressModel",
          "model_module_version": "1.5.0",
          "state": {
            "_dom_classes": [],
            "_model_module": "@jupyter-widgets/controls",
            "_model_module_version": "1.5.0",
            "_model_name": "FloatProgressModel",
            "_view_count": null,
            "_view_module": "@jupyter-widgets/controls",
            "_view_module_version": "1.5.0",
            "_view_name": "ProgressView",
            "bar_style": "success",
            "description": "",
            "description_tooltip": null,
            "layout": "IPY_MODEL_6544b45540da42e3bd2179c2a316d8cd",
            "max": 239,
            "min": 0,
            "orientation": "horizontal",
            "style": "IPY_MODEL_52b0f631cf884c5aa9861f6ad8ff8a46",
            "value": 239
          }
        },
        "eea2a4a11e4440f184cd1213cb8df840": {
          "model_module": "@jupyter-widgets/controls",
          "model_name": "HTMLModel",
          "model_module_version": "1.5.0",
          "state": {
            "_dom_classes": [],
            "_model_module": "@jupyter-widgets/controls",
            "_model_module_version": "1.5.0",
            "_model_name": "HTMLModel",
            "_view_count": null,
            "_view_module": "@jupyter-widgets/controls",
            "_view_module_version": "1.5.0",
            "_view_name": "HTMLView",
            "description": "",
            "description_tooltip": null,
            "layout": "IPY_MODEL_25ae4ed46d884125a13718a40556e712",
            "placeholder": "​",
            "style": "IPY_MODEL_ced4ca997c354113afed7d786a8513d5",
            "value": " 239/239 [00:00&lt;00:00, 5.98kB/s]"
          }
        },
        "2c95aff7347f4224869f47fa5f2326dc": {
          "model_module": "@jupyter-widgets/base",
          "model_name": "LayoutModel",
          "model_module_version": "1.2.0",
          "state": {
            "_model_module": "@jupyter-widgets/base",
            "_model_module_version": "1.2.0",
            "_model_name": "LayoutModel",
            "_view_count": null,
            "_view_module": "@jupyter-widgets/base",
            "_view_module_version": "1.2.0",
            "_view_name": "LayoutView",
            "align_content": null,
            "align_items": null,
            "align_self": null,
            "border": null,
            "bottom": null,
            "display": null,
            "flex": null,
            "flex_flow": null,
            "grid_area": null,
            "grid_auto_columns": null,
            "grid_auto_flow": null,
            "grid_auto_rows": null,
            "grid_column": null,
            "grid_gap": null,
            "grid_row": null,
            "grid_template_areas": null,
            "grid_template_columns": null,
            "grid_template_rows": null,
            "height": null,
            "justify_content": null,
            "justify_items": null,
            "left": null,
            "margin": null,
            "max_height": null,
            "max_width": null,
            "min_height": null,
            "min_width": null,
            "object_fit": null,
            "object_position": null,
            "order": null,
            "overflow": null,
            "overflow_x": null,
            "overflow_y": null,
            "padding": null,
            "right": null,
            "top": null,
            "visibility": null,
            "width": null
          }
        },
        "c4436ae779a9404497bf4bbcac53e2ea": {
          "model_module": "@jupyter-widgets/base",
          "model_name": "LayoutModel",
          "model_module_version": "1.2.0",
          "state": {
            "_model_module": "@jupyter-widgets/base",
            "_model_module_version": "1.2.0",
            "_model_name": "LayoutModel",
            "_view_count": null,
            "_view_module": "@jupyter-widgets/base",
            "_view_module_version": "1.2.0",
            "_view_name": "LayoutView",
            "align_content": null,
            "align_items": null,
            "align_self": null,
            "border": null,
            "bottom": null,
            "display": null,
            "flex": null,
            "flex_flow": null,
            "grid_area": null,
            "grid_auto_columns": null,
            "grid_auto_flow": null,
            "grid_auto_rows": null,
            "grid_column": null,
            "grid_gap": null,
            "grid_row": null,
            "grid_template_areas": null,
            "grid_template_columns": null,
            "grid_template_rows": null,
            "height": null,
            "justify_content": null,
            "justify_items": null,
            "left": null,
            "margin": null,
            "max_height": null,
            "max_width": null,
            "min_height": null,
            "min_width": null,
            "object_fit": null,
            "object_position": null,
            "order": null,
            "overflow": null,
            "overflow_x": null,
            "overflow_y": null,
            "padding": null,
            "right": null,
            "top": null,
            "visibility": null,
            "width": null
          }
        },
        "440c5325c93046b885e7b5b4f2cdaca3": {
          "model_module": "@jupyter-widgets/controls",
          "model_name": "DescriptionStyleModel",
          "model_module_version": "1.5.0",
          "state": {
            "_model_module": "@jupyter-widgets/controls",
            "_model_module_version": "1.5.0",
            "_model_name": "DescriptionStyleModel",
            "_view_count": null,
            "_view_module": "@jupyter-widgets/base",
            "_view_module_version": "1.2.0",
            "_view_name": "StyleView",
            "description_width": ""
          }
        },
        "6544b45540da42e3bd2179c2a316d8cd": {
          "model_module": "@jupyter-widgets/base",
          "model_name": "LayoutModel",
          "model_module_version": "1.2.0",
          "state": {
            "_model_module": "@jupyter-widgets/base",
            "_model_module_version": "1.2.0",
            "_model_name": "LayoutModel",
            "_view_count": null,
            "_view_module": "@jupyter-widgets/base",
            "_view_module_version": "1.2.0",
            "_view_name": "LayoutView",
            "align_content": null,
            "align_items": null,
            "align_self": null,
            "border": null,
            "bottom": null,
            "display": null,
            "flex": null,
            "flex_flow": null,
            "grid_area": null,
            "grid_auto_columns": null,
            "grid_auto_flow": null,
            "grid_auto_rows": null,
            "grid_column": null,
            "grid_gap": null,
            "grid_row": null,
            "grid_template_areas": null,
            "grid_template_columns": null,
            "grid_template_rows": null,
            "height": null,
            "justify_content": null,
            "justify_items": null,
            "left": null,
            "margin": null,
            "max_height": null,
            "max_width": null,
            "min_height": null,
            "min_width": null,
            "object_fit": null,
            "object_position": null,
            "order": null,
            "overflow": null,
            "overflow_x": null,
            "overflow_y": null,
            "padding": null,
            "right": null,
            "top": null,
            "visibility": null,
            "width": null
          }
        },
        "52b0f631cf884c5aa9861f6ad8ff8a46": {
          "model_module": "@jupyter-widgets/controls",
          "model_name": "ProgressStyleModel",
          "model_module_version": "1.5.0",
          "state": {
            "_model_module": "@jupyter-widgets/controls",
            "_model_module_version": "1.5.0",
            "_model_name": "ProgressStyleModel",
            "_view_count": null,
            "_view_module": "@jupyter-widgets/base",
            "_view_module_version": "1.2.0",
            "_view_name": "StyleView",
            "bar_color": null,
            "description_width": ""
          }
        },
        "25ae4ed46d884125a13718a40556e712": {
          "model_module": "@jupyter-widgets/base",
          "model_name": "LayoutModel",
          "model_module_version": "1.2.0",
          "state": {
            "_model_module": "@jupyter-widgets/base",
            "_model_module_version": "1.2.0",
            "_model_name": "LayoutModel",
            "_view_count": null,
            "_view_module": "@jupyter-widgets/base",
            "_view_module_version": "1.2.0",
            "_view_name": "LayoutView",
            "align_content": null,
            "align_items": null,
            "align_self": null,
            "border": null,
            "bottom": null,
            "display": null,
            "flex": null,
            "flex_flow": null,
            "grid_area": null,
            "grid_auto_columns": null,
            "grid_auto_flow": null,
            "grid_auto_rows": null,
            "grid_column": null,
            "grid_gap": null,
            "grid_row": null,
            "grid_template_areas": null,
            "grid_template_columns": null,
            "grid_template_rows": null,
            "height": null,
            "justify_content": null,
            "justify_items": null,
            "left": null,
            "margin": null,
            "max_height": null,
            "max_width": null,
            "min_height": null,
            "min_width": null,
            "object_fit": null,
            "object_position": null,
            "order": null,
            "overflow": null,
            "overflow_x": null,
            "overflow_y": null,
            "padding": null,
            "right": null,
            "top": null,
            "visibility": null,
            "width": null
          }
        },
        "ced4ca997c354113afed7d786a8513d5": {
          "model_module": "@jupyter-widgets/controls",
          "model_name": "DescriptionStyleModel",
          "model_module_version": "1.5.0",
          "state": {
            "_model_module": "@jupyter-widgets/controls",
            "_model_module_version": "1.5.0",
            "_model_name": "DescriptionStyleModel",
            "_view_count": null,
            "_view_module": "@jupyter-widgets/base",
            "_view_module_version": "1.2.0",
            "_view_name": "StyleView",
            "description_width": ""
          }
        }
      }
    }
  },
  "nbformat": 4,
  "nbformat_minor": 0
}